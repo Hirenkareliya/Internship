{
 "cells": [
  {
   "cell_type": "code",
   "execution_count": 1,
   "id": "204950a1",
   "metadata": {
    "scrolled": true
   },
   "outputs": [
    {
     "name": "stdout",
     "output_type": "stream",
     "text": [
      "Requirement already satisfied: BeautifulSoup4 in c:\\users\\hiren kareliya\\anaconda3\\lib\\site-packages (4.12.2)\n",
      "Requirement already satisfied: soupsieve>1.2 in c:\\users\\hiren kareliya\\anaconda3\\lib\\site-packages (from BeautifulSoup4) (2.4)\n",
      "Requirement already satisfied: selenium in c:\\users\\hiren kareliya\\anaconda3\\lib\\site-packages (4.22.0)\n",
      "Requirement already satisfied: urllib3[socks]<3,>=1.26 in c:\\users\\hiren kareliya\\anaconda3\\lib\\site-packages (from selenium) (1.26.16)\n",
      "Requirement already satisfied: trio~=0.17 in c:\\users\\hiren kareliya\\anaconda3\\lib\\site-packages (from selenium) (0.25.1)\n",
      "Requirement already satisfied: trio-websocket~=0.9 in c:\\users\\hiren kareliya\\anaconda3\\lib\\site-packages (from selenium) (0.11.1)\n",
      "Requirement already satisfied: certifi>=2021.10.8 in c:\\users\\hiren kareliya\\anaconda3\\lib\\site-packages (from selenium) (2023.7.22)\n",
      "Requirement already satisfied: typing_extensions>=4.9.0 in c:\\users\\hiren kareliya\\anaconda3\\lib\\site-packages (from selenium) (4.12.2)\n",
      "Requirement already satisfied: websocket-client>=1.8.0 in c:\\users\\hiren kareliya\\anaconda3\\lib\\site-packages (from selenium) (1.8.0)\n",
      "Requirement already satisfied: attrs>=23.2.0 in c:\\users\\hiren kareliya\\anaconda3\\lib\\site-packages (from trio~=0.17->selenium) (23.2.0)\n",
      "Requirement already satisfied: sortedcontainers in c:\\users\\hiren kareliya\\anaconda3\\lib\\site-packages (from trio~=0.17->selenium) (2.4.0)\n",
      "Requirement already satisfied: idna in c:\\users\\hiren kareliya\\anaconda3\\lib\\site-packages (from trio~=0.17->selenium) (3.4)\n",
      "Requirement already satisfied: outcome in c:\\users\\hiren kareliya\\anaconda3\\lib\\site-packages (from trio~=0.17->selenium) (1.3.0.post0)\n",
      "Requirement already satisfied: sniffio>=1.3.0 in c:\\users\\hiren kareliya\\anaconda3\\lib\\site-packages (from trio~=0.17->selenium) (1.3.1)\n",
      "Requirement already satisfied: cffi>=1.14 in c:\\users\\hiren kareliya\\anaconda3\\lib\\site-packages (from trio~=0.17->selenium) (1.15.1)\n",
      "Requirement already satisfied: wsproto>=0.14 in c:\\users\\hiren kareliya\\anaconda3\\lib\\site-packages (from trio-websocket~=0.9->selenium) (1.2.0)\n",
      "Requirement already satisfied: PySocks!=1.5.7,<2.0,>=1.5.6 in c:\\users\\hiren kareliya\\anaconda3\\lib\\site-packages (from urllib3[socks]<3,>=1.26->selenium) (1.7.1)\n",
      "Requirement already satisfied: pycparser in c:\\users\\hiren kareliya\\anaconda3\\lib\\site-packages (from cffi>=1.14->trio~=0.17->selenium) (2.21)\n",
      "Requirement already satisfied: h11<1,>=0.9.0 in c:\\users\\hiren kareliya\\anaconda3\\lib\\site-packages (from wsproto>=0.14->trio-websocket~=0.9->selenium) (0.14.0)\n",
      "Requirement already satisfied: requests in c:\\users\\hiren kareliya\\anaconda3\\lib\\site-packages (2.31.0)\n",
      "Requirement already satisfied: charset-normalizer<4,>=2 in c:\\users\\hiren kareliya\\anaconda3\\lib\\site-packages (from requests) (2.0.4)\n",
      "Requirement already satisfied: idna<4,>=2.5 in c:\\users\\hiren kareliya\\anaconda3\\lib\\site-packages (from requests) (3.4)\n",
      "Requirement already satisfied: urllib3<3,>=1.21.1 in c:\\users\\hiren kareliya\\anaconda3\\lib\\site-packages (from requests) (1.26.16)\n",
      "Requirement already satisfied: certifi>=2017.4.17 in c:\\users\\hiren kareliya\\anaconda3\\lib\\site-packages (from requests) (2023.7.22)\n"
     ]
    }
   ],
   "source": [
    "!pip install BeautifulSoup4\n",
    "!pip install selenium\n",
    "!pip install requests\n",
    "import requests\n",
    "from selenium import webdriver\n",
    "import pandas as pd\n",
    "import math\n",
    "import warnings\n",
    "warnings.filterwarnings('ignore')\n",
    "from selenium.webdriver.common.by import By\n",
    "from selenium.webdriver.common.keys import Keys\n",
    "from selenium.webdriver.chrome.service import Service\n",
    "from selenium.webdriver.chrome.options import Options\n",
    "import time\n"
   ]
  },
  {
   "cell_type": "code",
   "execution_count": null,
   "id": "890a012b",
   "metadata": {},
   "outputs": [],
   "source": []
  },
  {
   "cell_type": "code",
   "execution_count": null,
   "id": "4f52223f",
   "metadata": {},
   "outputs": [],
   "source": [
    "# Answer 1\n",
    "1. Write a python program which searches all the product under a particular product from www.amazon.in. The \n",
    "product to be searched will be taken as input from user. For e.g. If user input is ‘guitar’. Then search for \n",
    "guitars. \n"
   ]
  },
  {
   "cell_type": "code",
   "execution_count": 19,
   "id": "1f63a844",
   "metadata": {},
   "outputs": [],
   "source": [
    "driver = webdriver.Chrome()\n",
    "driver.get(\"https://www.amazon.in/\")"
   ]
  },
  {
   "cell_type": "code",
   "execution_count": 20,
   "id": "96fd8d51",
   "metadata": {},
   "outputs": [],
   "source": [
    "search_el=[]\n",
    "search_el=driver.find_element(By.XPATH,'/html/body/div[1]/header/div/div[1]/div[2]/div/form/div[2]/div[1]/input')\n",
    "search_el.send_keys('guitar')"
   ]
  },
  {
   "cell_type": "code",
   "execution_count": 21,
   "id": "0e571206",
   "metadata": {},
   "outputs": [],
   "source": [
    "search=driver.find_element(By.CLASS_NAME,\"nav-search-submit-text\")\n",
    "search.click()"
   ]
  },
  {
   "cell_type": "code",
   "execution_count": null,
   "id": "88109d70",
   "metadata": {},
   "outputs": [],
   "source": [
    "#Answer 2\n",
    "2. In the above question, now scrape the following details of each product listed in first 3 pages of your search \n",
    "results and save it in a data frame and csv. In case if any product has less than 3 pages in search results then \n",
    "scrape all the products available under that product name. Details to be scraped are: \"Brand \n",
    "Name\", \"Name of the Product\", \"Price\", \"Return/Exchange\", \"Expected Delivery\", \"Availability\" and \n",
    "“Product URL”. In case, if any of the details are missing for any of the product then replace it by “-“. \n"
   ]
  },
  {
   "cell_type": "code",
   "execution_count": 36,
   "id": "88430e7e",
   "metadata": {},
   "outputs": [
    {
     "ename": "IndentationError",
     "evalue": "unexpected indent (3579016758.py, line 3)",
     "output_type": "error",
     "traceback": [
      "\u001b[1;36m  Cell \u001b[1;32mIn[36], line 3\u001b[1;36m\u001b[0m\n\u001b[1;33m    for page in range(1,4):\u001b[0m\n\u001b[1;37m    ^\u001b[0m\n\u001b[1;31mIndentationError\u001b[0m\u001b[1;31m:\u001b[0m unexpected indent\n"
     ]
    }
   ],
   "source": [
    "product_list = []\n",
    "    \n",
    "    for page in range(1,4): \n",
    "        time.sleep(2)  \n",
    "        \n",
    "products = driver.find_elements(By.XPATH, \"//div[@data-component-type='s-search-result']\")\n",
    "        "
   ]
  },
  {
   "cell_type": "code",
   "execution_count": 24,
   "id": "4cf27e68",
   "metadata": {},
   "outputs": [
    {
     "data": {
      "text/plain": [
       "[]"
      ]
     },
     "execution_count": 24,
     "metadata": {},
     "output_type": "execute_result"
    }
   ],
   "source": [
    "brand_name =driver.find_elements(By.XPATH,'//span[@class=\"a-size-base po-break-word\"]')\n",
    "brand_name =[]\n",
    "for i in brand_name[0:100]:\n",
    "    brand_name.append(i.text)\n",
    "brand_name"
   ]
  },
  {
   "cell_type": "code",
   "execution_count": 25,
   "id": "d534e021",
   "metadata": {},
   "outputs": [
    {
     "data": {
      "text/plain": [
       "[]"
      ]
     },
     "execution_count": 25,
     "metadata": {},
     "output_type": "execute_result"
    }
   ],
   "source": [
    "name_of_product =driver.find_elements(By.XPATH,'//span[@class=\"a-size-large product-title-word-break\"]')\n",
    "name_of_product =[]\n",
    "for i in name_of_product[0:100]:\n",
    "    name_of_prodcut.append(i.text)\n",
    "name_of_product"
   ]
  },
  {
   "cell_type": "code",
   "execution_count": 26,
   "id": "9289295a",
   "metadata": {},
   "outputs": [
    {
     "data": {
      "text/plain": [
       "[]"
      ]
     },
     "execution_count": 26,
     "metadata": {},
     "output_type": "execute_result"
    }
   ],
   "source": [
    "price =driver.find_elements(By.XPATH,'//span[@class=\"a-price-whole\"]')\n",
    "price =[]\n",
    "for i in price[0:100]:\n",
    "    price.append(i.text)\n",
    "price"
   ]
  },
  {
   "cell_type": "code",
   "execution_count": 27,
   "id": "da1f8091",
   "metadata": {},
   "outputs": [
    {
     "data": {
      "text/plain": [
       "[]"
      ]
     },
     "execution_count": 27,
     "metadata": {},
     "output_type": "execute_result"
    }
   ],
   "source": [
    "exchange =driver.find_elements(By.XPATH,'//span[@class=\"a-size-small a-color-link a-text-normal\"]')\n",
    "exchange =[]\n",
    "for i in exchange[0:100]:\n",
    "    exchange.append(i.text)\n",
    "exchange"
   ]
  },
  {
   "cell_type": "code",
   "execution_count": 31,
   "id": "a3be03d4",
   "metadata": {},
   "outputs": [
    {
     "data": {
      "text/plain": [
       "[]"
      ]
     },
     "execution_count": 31,
     "metadata": {},
     "output_type": "execute_result"
    }
   ],
   "source": [
    "expected_delivery =driver.find_elements(By.XPATH,'//span[@class=\"a-text-bold\"]')\n",
    "expected_delivery =[]\n",
    "for i in expected_delivery[0:100]:\n",
    "    expected_delivery.append(i.text)\n",
    "expected_delivery"
   ]
  },
  {
   "cell_type": "code",
   "execution_count": 33,
   "id": "62c1c23f",
   "metadata": {},
   "outputs": [
    {
     "data": {
      "text/plain": [
       "[]"
      ]
     },
     "execution_count": 33,
     "metadata": {},
     "output_type": "execute_result"
    }
   ],
   "source": [
    "availability =driver.find_elements(By.XPATH,'//div[@class=\"a-section a-spacing-none a-spacing-top-micro }\"]')\n",
    "availability =[]\n",
    "for i in availability[0:100]:\n",
    "    availability.append(i.text)\n",
    "availability"
   ]
  },
  {
   "cell_type": "code",
   "execution_count": 34,
   "id": "8367c197",
   "metadata": {},
   "outputs": [
    {
     "data": {
      "text/plain": [
       "[]"
      ]
     },
     "execution_count": 34,
     "metadata": {},
     "output_type": "execute_result"
    }
   ],
   "source": [
    "product_url=driver.find_elements(By.XPATH,'//a[@class=\"a-link-normal s-underline-text s-underline-link-text s-link-style a-text-normal\"]')\n",
    "product_url=[]\n",
    "for i in product_url[0:100]:\n",
    "    product_url.append(i.text)\n",
    "product_url"
   ]
  },
  {
   "cell_type": "code",
   "execution_count": 39,
   "id": "4a537931",
   "metadata": {},
   "outputs": [],
   "source": [
    "product_list = []\n",
    "product_list.append({\n",
    "                \"Brand Name\": brand_name,\n",
    "                \"Name of the Product\": name_of_product,\n",
    "                \"Price\": price,\n",
    "                \"Return/Exchange\": exchange,\n",
    "                \"Expected Delivery\": expected_delivery,\n",
    "                \"Availability\": availability,\n",
    "                \"Product URL\": product_url\n",
    "            })"
   ]
  },
  {
   "cell_type": "code",
   "execution_count": 41,
   "id": "90733822",
   "metadata": {},
   "outputs": [
    {
     "data": {
      "text/plain": [
       "[{'Brand Name': [],\n",
       "  'Name of the Product': [],\n",
       "  'Price': [],\n",
       "  'Return/Exchange': [],\n",
       "  'Expected Delivery': [],\n",
       "  'Availability': [],\n",
       "  'Product URL': []}]"
      ]
     },
     "execution_count": 41,
     "metadata": {},
     "output_type": "execute_result"
    }
   ],
   "source": [
    " df = pd.DataFrame(product_list)\n",
    "product_list"
   ]
  },
  {
   "cell_type": "code",
   "execution_count": null,
   "id": "586a63e1",
   "metadata": {},
   "outputs": [],
   "source": [
    "# Answer 3\n",
    "\n",
    "# 3. Write a python program to access the search bar and search button on images.google.com and scrape 10 \n",
    "# images each for keywords ‘fruits’, ‘cars’ and ‘Machine Learning’, ‘Guitar’, ‘Cakes’. \n"
   ]
  },
  {
   "cell_type": "code",
   "execution_count": 64,
   "id": "b6201ffb",
   "metadata": {},
   "outputs": [],
   "source": [
    "driver = webdriver.Chrome()\n",
    "driver.get(\"https://images.google.com/\")"
   ]
  },
  {
   "cell_type": "code",
   "execution_count": 65,
   "id": "dacf57e6",
   "metadata": {},
   "outputs": [],
   "source": [
    "keywords=['fruits','cars','Machine Learning','Guitar','Cakes']\n",
    "\n",
    "keyword=driver.find_element(By.XPATH,'/html/body/div[1]/div[3]/form/div[1]/div[1]/div[1]/div/div[2]/textarea')\n",
    "keyword.send_keys('fruits')"
   ]
  },
  {
   "cell_type": "code",
   "execution_count": 61,
   "id": "7ddd75b9",
   "metadata": {},
   "outputs": [
    {
     "ename": "SyntaxError",
     "evalue": "invalid syntax. Perhaps you forgot a comma? (1715669422.py, line 1)",
     "output_type": "error",
     "traceback": [
      "\u001b[1;36m  Cell \u001b[1;32mIn[61], line 1\u001b[1;36m\u001b[0m\n\u001b[1;33m    search=driver.find_element(By.CLASS_NAME,\"//span[@class=\"z1asCe MZy1Rb\"]\")\u001b[0m\n\u001b[1;37m                                             ^\u001b[0m\n\u001b[1;31mSyntaxError\u001b[0m\u001b[1;31m:\u001b[0m invalid syntax. Perhaps you forgot a comma?\n"
     ]
    }
   ],
   "source": [
    "search=driver.find_element(By.CLASS_NAME,)\n",
    "search.click()"
   ]
  },
  {
   "cell_type": "code",
   "execution_count": 58,
   "id": "4e8bf52d",
   "metadata": {},
   "outputs": [
    {
     "ename": "SyntaxError",
     "evalue": "invalid syntax. Perhaps you forgot a comma? (1715669422.py, line 1)",
     "output_type": "error",
     "traceback": [
      "\u001b[1;36m  Cell \u001b[1;32mIn[58], line 1\u001b[1;36m\u001b[0m\n\u001b[1;33m    search=driver.find_element(By.CLASS_NAME,\"//span[@class=\"z1asCe MZy1Rb\"]\")\u001b[0m\n\u001b[1;37m                                             ^\u001b[0m\n\u001b[1;31mSyntaxError\u001b[0m\u001b[1;31m:\u001b[0m invalid syntax. Perhaps you forgot a comma?\n"
     ]
    }
   ],
   "source": []
  },
  {
   "cell_type": "code",
   "execution_count": null,
   "id": "f9441d89",
   "metadata": {},
   "outputs": [],
   "source": []
  },
  {
   "cell_type": "code",
   "execution_count": null,
   "id": "fac4d439",
   "metadata": {},
   "outputs": [],
   "source": []
  },
  {
   "cell_type": "code",
   "execution_count": null,
   "id": "42957fea",
   "metadata": {},
   "outputs": [],
   "source": []
  },
  {
   "cell_type": "code",
   "execution_count": null,
   "id": "241f194c",
   "metadata": {},
   "outputs": [],
   "source": []
  },
  {
   "cell_type": "code",
   "execution_count": null,
   "id": "dd615488",
   "metadata": {},
   "outputs": [],
   "source": []
  },
  {
   "cell_type": "code",
   "execution_count": null,
   "id": "91e72263",
   "metadata": {},
   "outputs": [],
   "source": [
    "#Answer 4\n",
    "#4. Write a python program to search for a smartphone(e.g.: Oneplus Nord, pixel 4A, etc.) on www.flipkart.com\n",
    "# and scrape following details for all the search results displayed on 1st page. Details to be scraped: “Brand \n",
    "# Name”, “Smartphone name”, “Colour”, “RAM”, “Storage(ROM)”, “Primary Camera”, \n",
    "# “Secondary Camera”, “Display Size”, “Battery Capacity”, “Price”, “Product URL”. Incase if any of the \n",
    "# details is missing then replace it by “- “. Save your results in a dataframe and CSV. \n"
   ]
  },
  {
   "cell_type": "code",
   "execution_count": 5,
   "id": "1d75c822",
   "metadata": {},
   "outputs": [],
   "source": [
    "driver = webdriver.Chrome()\n",
    "driver.get(\"https://www.flipkart.com/\")"
   ]
  },
  {
   "cell_type": "code",
   "execution_count": 16,
   "id": "dec3e456",
   "metadata": {},
   "outputs": [],
   "source": [
    "search=[]\n",
    "search=driver.find_element(By.XPATH,'/html/body/div[1]/div/div[1]/div/div/div/div/div[1]/div/div/div/div[1]/div[1]/header/div[1]/div[2]/form/div/div/input')\n",
    "search.send_keys('Oneplus Nord')"
   ]
  },
  {
   "cell_type": "code",
   "execution_count": 18,
   "id": "7ea2cabd",
   "metadata": {},
   "outputs": [],
   "source": [
    "search=driver.find_element(By.XPATH,'/html/body/div[1]/div/div[1]/div/div/div/div/div[1]/div/div/div/div[1]/div[1]/header/div[1]/div[2]/form/div/button')\n",
    "search.click()"
   ]
  },
  {
   "cell_type": "code",
   "execution_count": 19,
   "id": "3be02129",
   "metadata": {},
   "outputs": [
    {
     "data": {
      "text/plain": [
       "[]"
      ]
     },
     "execution_count": 19,
     "metadata": {},
     "output_type": "execute_result"
    }
   ],
   "source": [
    "brand_name =driver.find_elements(By.XPATH,'//div[@class=\"KzDlHZ\"]')\n",
    "brand_name =[]\n",
    "for i in brand_name:\n",
    "    brand_name.append(i.text)\n",
    "brand_name"
   ]
  },
  {
   "cell_type": "code",
   "execution_count": 20,
   "id": "132e82e2",
   "metadata": {},
   "outputs": [
    {
     "data": {
      "text/plain": [
       "[]"
      ]
     },
     "execution_count": 20,
     "metadata": {},
     "output_type": "execute_result"
    }
   ],
   "source": [
    "smartphone_name =driver.find_elements(By.XPATH,'/html/body/div/div/div[3]/div[1]/div[2]/div[2]/div/div/div/a/div[2]/div[1]/div[1]')\n",
    "smartphone_name =[]\n",
    "for i in smartphone_name:\n",
    "    smartphone_name.append(i.text)\n",
    "smartphone_name"
   ]
  },
  {
   "cell_type": "code",
   "execution_count": 21,
   "id": "47804b31",
   "metadata": {},
   "outputs": [
    {
     "data": {
      "text/plain": [
       "[]"
      ]
     },
     "execution_count": 21,
     "metadata": {},
     "output_type": "execute_result"
    }
   ],
   "source": [
    "colour =driver.find_elements(By.XPATH,'//span[@class=\"_82GxIK\"]')\n",
    "colour=[]\n",
    "for i in colour:\n",
    "    colour.append(i.text)\n",
    "colour"
   ]
  },
  {
   "cell_type": "code",
   "execution_count": 22,
   "id": "84494f17",
   "metadata": {},
   "outputs": [
    {
     "data": {
      "text/plain": [
       "[]"
      ]
     },
     "execution_count": 22,
     "metadata": {},
     "output_type": "execute_result"
    }
   ],
   "source": [
    "storage =driver.find_elements(By.XPATH,'//td[@class=\"+fFi1w col col-3-12\"]')\n",
    "storage =[]\n",
    "for i in storage:\n",
    "    storage.append(i.text)\n",
    "storage"
   ]
  },
  {
   "cell_type": "code",
   "execution_count": 23,
   "id": "cc5b89d4",
   "metadata": {},
   "outputs": [
    {
     "data": {
      "text/plain": [
       "[]"
      ]
     },
     "execution_count": 23,
     "metadata": {},
     "output_type": "execute_result"
    }
   ],
   "source": [
    "rom =driver.find_elements(By.XPATH,'//li[@class=\"HPETK2\"]')\n",
    "rom =[]\n",
    "for i in rom:\n",
    "    rom.append(i.text)\n",
    "rom"
   ]
  },
  {
   "cell_type": "code",
   "execution_count": 24,
   "id": "d33ec0d1",
   "metadata": {},
   "outputs": [
    {
     "data": {
      "text/plain": [
       "[]"
      ]
     },
     "execution_count": 24,
     "metadata": {},
     "output_type": "execute_result"
    }
   ],
   "source": [
    "primary_camera =driver.find_elements(By.XPATH,'//li[@class=\"HPETK2\"]')\n",
    "primary_camera =[]\n",
    "for i in primary_camera:\n",
    "    primary_camera.append(i.text)\n",
    "primary_camera"
   ]
  },
  {
   "cell_type": "code",
   "execution_count": 32,
   "id": "a7af947f",
   "metadata": {},
   "outputs": [
    {
     "data": {
      "text/plain": [
       "[]"
      ]
     },
     "execution_count": 32,
     "metadata": {},
     "output_type": "execute_result"
    }
   ],
   "source": [
    "secondary_camera =driver.find_elements(By.XPATH,'//li[@class=\"HPETK2\"]')\n",
    "secondary_camera =[]\n",
    "for i in secondary_camera:\n",
    "    secondary_camera.append(i.text)\n",
    "secondary_camera"
   ]
  },
  {
   "cell_type": "code",
   "execution_count": 25,
   "id": "596f5e5f",
   "metadata": {},
   "outputs": [
    {
     "data": {
      "text/plain": [
       "[]"
      ]
     },
     "execution_count": 25,
     "metadata": {},
     "output_type": "execute_result"
    }
   ],
   "source": [
    "display_size =driver.find_elements(By.XPATH,'//li[@class=\"HPETK2\"]')\n",
    "display_size =[]\n",
    "for i in display_size:\n",
    "    display_size.append(i.text)\n",
    "display_size"
   ]
  },
  {
   "cell_type": "code",
   "execution_count": 26,
   "id": "86536f69",
   "metadata": {},
   "outputs": [
    {
     "data": {
      "text/plain": [
       "[]"
      ]
     },
     "execution_count": 26,
     "metadata": {},
     "output_type": "execute_result"
    }
   ],
   "source": [
    "battery =driver.find_elements(By.XPATH,'//li[@class=\"HPETK2\"]')\n",
    "battery=[]\n",
    "for i in battery:\n",
    "    battery.append(i.text)\n",
    "battery"
   ]
  },
  {
   "cell_type": "code",
   "execution_count": 27,
   "id": "98682afd",
   "metadata": {},
   "outputs": [
    {
     "data": {
      "text/plain": [
       "[]"
      ]
     },
     "execution_count": 27,
     "metadata": {},
     "output_type": "execute_result"
    }
   ],
   "source": [
    "price =driver.find_elements(By.XPATH,'//div[@class=\"Nx9bqj CxhGGd\"]')\n",
    "price =[]\n",
    "for i in price:\n",
    "    price.append(i.text)\n",
    "price"
   ]
  },
  {
   "cell_type": "code",
   "execution_count": 28,
   "id": "c2c608ea",
   "metadata": {},
   "outputs": [
    {
     "data": {
      "text/plain": [
       "[]"
      ]
     },
     "execution_count": 28,
     "metadata": {},
     "output_type": "execute_result"
    }
   ],
   "source": [
    "product_url =driver.find_elements(By.XPATH,'//div[@class=\"KzDlHZ\"]')\n",
    "product_url =[]\n",
    "for i in product_url:\n",
    "    product_url.append(i.text)\n",
    "product_url"
   ]
  },
  {
   "cell_type": "code",
   "execution_count": 34,
   "id": "fb43563c",
   "metadata": {},
   "outputs": [],
   "source": [
    "product_list = []\n",
    "product_list.append({\n",
    "                \"Brand Name\": brand_name,\n",
    "                \"Smartphone Name\": smartphone_name,\n",
    "                \"Colour\": colour,\n",
    "                \"Storage\": storage,\n",
    "                \"Rom\" : rom,\n",
    "                \"Primary Camera\": primary_camera,\n",
    "                \"Secondary Camera\": secondary_camera,\n",
    "                \"Display Size\": display_size,\n",
    "                \"Battery\": battery,\n",
    "                \"Product URL\": product_url,\n",
    "                \"Price\": price,\n",
    "            })"
   ]
  },
  {
   "cell_type": "code",
   "execution_count": 35,
   "id": "27d0c967",
   "metadata": {},
   "outputs": [
    {
     "data": {
      "text/plain": [
       "[{'Brand Name': [],\n",
       "  'Smartphone Name': [],\n",
       "  'Colour': [],\n",
       "  'Storage': [],\n",
       "  'Rom': [],\n",
       "  'Primary Camera': [],\n",
       "  'Secondary Camera': [],\n",
       "  'Display Size': [],\n",
       "  'Battery': [],\n",
       "  'Product URL': [],\n",
       "  'Price': []}]"
      ]
     },
     "execution_count": 35,
     "metadata": {},
     "output_type": "execute_result"
    }
   ],
   "source": [
    " df = pd.DataFrame(product_list)\n",
    "product_list"
   ]
  },
  {
   "cell_type": "code",
   "execution_count": null,
   "id": "3e4599d5",
   "metadata": {},
   "outputs": [],
   "source": []
  },
  {
   "cell_type": "code",
   "execution_count": null,
   "id": "fb2ceb1b",
   "metadata": {},
   "outputs": [],
   "source": [
    "# Answer 5\n",
    "\n",
    "#5. Write a program to scrap geospatial coordinates (latitude, longitude) of a city searched on google maps. \n"
   ]
  },
  {
   "cell_type": "code",
   "execution_count": 39,
   "id": "fa3df09f",
   "metadata": {},
   "outputs": [],
   "source": [
    "driver = webdriver.Chrome()\n",
    "driver.get(\"https://www.google.com/maps\")"
   ]
  },
  {
   "cell_type": "code",
   "execution_count": 40,
   "id": "22b2c941",
   "metadata": {},
   "outputs": [],
   "source": [
    "search_el=[]\n",
    "search_el=driver.find_element(By.XPATH,'//input[@class=\"fontBodyMedium searchboxinput xiQnY \"]')\n",
    "search_el.send_keys('Mumbai')"
   ]
  },
  {
   "cell_type": "code",
   "execution_count": 44,
   "id": "f22ad9eb",
   "metadata": {},
   "outputs": [],
   "source": [
    "search=driver.find_element(By.CLASS_NAME,\"google-symbols\")\n",
    "search.click()"
   ]
  },
  {
   "cell_type": "code",
   "execution_count": 45,
   "id": "06b012c2",
   "metadata": {},
   "outputs": [
    {
     "ename": "IndentationError",
     "evalue": "unexpected indent (867855179.py, line 2)",
     "output_type": "error",
     "traceback": [
      "\u001b[1;36m  Cell \u001b[1;32mIn[45], line 2\u001b[1;36m\u001b[0m\n\u001b[1;33m    match = re.search(r'@(-?\\d+\\.\\d+),(-?\\d+\\.\\d+)', current_url)\u001b[0m\n\u001b[1;37m    ^\u001b[0m\n\u001b[1;31mIndentationError\u001b[0m\u001b[1;31m:\u001b[0m unexpected indent\n"
     ]
    }
   ],
   "source": [
    "import re\n",
    "    match = re.search(r'@(-?\\d+\\.\\d+),(-?\\d+\\.\\d+)', current_url)\n",
    "    if match:\n",
    "        latitude = match.group(1)\n",
    "        longitude = match.group(2)\n",
    "        print(f\"Latitude: {latitude}, Longitude: {longitude}\")\n",
    "    else:\n",
    "        print(\"Coordinates not found in the URL\")\n",
    "\n",
    "finally:\n",
    "    # Close the WebDriver\n",
    "    driver.quit()"
   ]
  },
  {
   "cell_type": "code",
   "execution_count": null,
   "id": "8874f646",
   "metadata": {},
   "outputs": [],
   "source": []
  },
  {
   "cell_type": "code",
   "execution_count": null,
   "id": "7bfc3e9a",
   "metadata": {},
   "outputs": [],
   "source": []
  },
  {
   "cell_type": "code",
   "execution_count": null,
   "id": "089366b9",
   "metadata": {},
   "outputs": [],
   "source": []
  },
  {
   "cell_type": "code",
   "execution_count": null,
   "id": "a043da28",
   "metadata": {},
   "outputs": [],
   "source": [
    "# Answer 6\n",
    "\n",
    "#6. Write a program to scrap all the available details of best gaming laptops from digit.in. \n"
   ]
  },
  {
   "cell_type": "code",
   "execution_count": 64,
   "id": "9d5f75aa",
   "metadata": {},
   "outputs": [],
   "source": [
    "driver = webdriver.Chrome()\n",
    "driver.get(\"https://www.digit.in/top-products/best-gaming-laptops-40.html\")"
   ]
  },
  {
   "cell_type": "code",
   "execution_count": 68,
   "id": "a162d4aa",
   "metadata": {},
   "outputs": [],
   "source": [
    "driver.get(url)\n",
    "time.sleep(3)\n",
    "\n",
    "\n",
    "laptops = driver.find_elements(By.CSS_SELECTOR, \".TopNumbeHeading\")\n",
    "\n",
    "for laptop in laptops:\n",
    "    name = laptop.find_element(By.CSS_SELECTOR, \"h2\").text\n",
    "    specs = laptop.find_element(By.CSS_SELECTOR, \".Specs\").text\n",
    "    price = laptop.find_element(By.CSS_SELECTOR, \".Price\").text\n",
    "    print(f\"Name: {name}\\nSpecs: {specs}\\nPrice: {price}\\n\")\n",
    "\n",
    "driver.quit()"
   ]
  },
  {
   "cell_type": "code",
   "execution_count": 55,
   "id": "2e7bc2bb",
   "metadata": {},
   "outputs": [],
   "source": []
  },
  {
   "cell_type": "code",
   "execution_count": 58,
   "id": "08a372f6",
   "metadata": {},
   "outputs": [],
   "source": []
  },
  {
   "cell_type": "code",
   "execution_count": null,
   "id": "ea0512db",
   "metadata": {},
   "outputs": [],
   "source": []
  },
  {
   "cell_type": "code",
   "execution_count": null,
   "id": "d8dd346d",
   "metadata": {},
   "outputs": [],
   "source": []
  },
  {
   "cell_type": "code",
   "execution_count": null,
   "id": "678869fc",
   "metadata": {},
   "outputs": [],
   "source": [
    "# Answer 7\n",
    "#7. Write a python program to scrape the details for all billionaires from www.forbes.com. Details to be scrapped: \n",
    "# “Rank”, “Name”, “Net worth”, “Age”, “Citizenship”, “Source”, “Industry”. \n"
   ]
  },
  {
   "cell_type": "code",
   "execution_count": 48,
   "id": "98bbf076",
   "metadata": {},
   "outputs": [],
   "source": [
    "driver = webdriver.Chrome()\n",
    "driver.get(\"https://www.forbes.com/worlds-billionaires/\")\n",
    "time.sleep(5)"
   ]
  },
  {
   "cell_type": "code",
   "execution_count": 49,
   "id": "fe803c4e",
   "metadata": {},
   "outputs": [],
   "source": [
    "search_el=[]\n",
    "search_el=driver.find_element(By.XPATH,'//h2[@class=\"_1-gEWhFG\"]')\n",
    "#search=driver.find_element(By.CLASS_NAME,\"google-symbols\")\n",
    "search_el.click()"
   ]
  },
  {
   "cell_type": "code",
   "execution_count": 32,
   "id": "e0e7ee96",
   "metadata": {},
   "outputs": [],
   "source": [
    "#search_el=driver.find_element(By.XPATH,'/html/body/div[11]/div/div[3]/a')\n",
    "#search_el.click()"
   ]
  },
  {
   "cell_type": "code",
   "execution_count": 50,
   "id": "c601d4a2",
   "metadata": {},
   "outputs": [],
   "source": [
    "billionaires = driver.find_elements(By.CSS_SELECTOR, \"_table-row\")"
   ]
  },
  {
   "cell_type": "code",
   "execution_count": 51,
   "id": "2b6c638f",
   "metadata": {},
   "outputs": [],
   "source": [
    "for billionaire in billionaires:\n",
    "    rank = billionaire.find_element(By.CSS_SELECTOR, \".rank\").text\n",
    "    name = billionaire.find_element(By.CSS_SELECTOR, \".personName\").text\n",
    "    net_worth = billionaire.find_element(By.CSS_SELECTOR, \".netWorth\").text\n",
    "    age = billionaire.find_element(By.CSS_SELECTOR, \".age\").text\n",
    "    citizenship = billionaire.find_element(By.CSS_SELECTOR, \".countryOfCitizenship\").text\n",
    "    source = billionaire.find_element(By.CSS_SELECTOR, \".source\").text\n",
    "    industry = billionaire.find_element(By.CSS_SELECTOR, \".category\").text\n",
    "    print(f\"Rank: {rank}\\nName: {name}\\nNet Worth: {net_worth}\\nAge: {age}\\nCitizenship: {citizenship}\\nSource: {source}\\nIndustry: {industry}\\n\")\n",
    "\n",
    "driver.quit()\n"
   ]
  },
  {
   "cell_type": "code",
   "execution_count": null,
   "id": "0fe6697b",
   "metadata": {},
   "outputs": [],
   "source": []
  },
  {
   "cell_type": "code",
   "execution_count": null,
   "id": "e4514f38",
   "metadata": {},
   "outputs": [],
   "source": []
  },
  {
   "cell_type": "code",
   "execution_count": null,
   "id": "0d81d786",
   "metadata": {},
   "outputs": [],
   "source": []
  },
  {
   "cell_type": "code",
   "execution_count": null,
   "id": "efd873f7",
   "metadata": {},
   "outputs": [],
   "source": [
    "# Answer 8\n",
    "#8. Write a program to extract at least 500 Comments, Comment upvote and time when comment was posted \n",
    "# from any YouTube Video. \n"
   ]
  },
  {
   "cell_type": "code",
   "execution_count": 70,
   "id": "7c6230e4",
   "metadata": {},
   "outputs": [],
   "source": [
    "driver = webdriver.Chrome()\n",
    "driver.get(\"https://www.youtube.com/\")"
   ]
  },
  {
   "cell_type": "code",
   "execution_count": 71,
   "id": "4481f552",
   "metadata": {},
   "outputs": [],
   "source": [
    "search_el=[]\n",
    "search_el=driver.find_element(By.XPATH,'/html/body/ytd-app/div[1]/div/ytd-masthead/div[4]/div[2]/ytd-searchbox/form/div[1]/div[1]/input')\n",
    "search_el.send_keys('hindi songs')"
   ]
  },
  {
   "cell_type": "code",
   "execution_count": 72,
   "id": "64d65d91",
   "metadata": {},
   "outputs": [],
   "source": [
    "search=driver.find_element(By.XPATH,'/html/body/ytd-app/div[1]/div/ytd-masthead/div[4]/div[2]/ytd-searchbox/button/yt-icon/yt-icon-shape/icon-shape/div')\n",
    "search.click()"
   ]
  },
  {
   "cell_type": "code",
   "execution_count": 77,
   "id": "171f917b",
   "metadata": {},
   "outputs": [
    {
     "data": {
      "text/plain": [
       "[]"
      ]
     },
     "execution_count": 77,
     "metadata": {},
     "output_type": "execute_result"
    }
   ],
   "source": [
    "    comments =driver.find_elements(By.XPATH,'/html/body/ytd-app/div[1]/ytd-page-manager/ytd-watch-flexy/div[5]/div[1]/div/div[2]/ytd-comments/ytd-item-section-renderer/div[3]/ytd-comment-thread-renderer[1]/ytd-comment-view-model/div[3]/div[2]/ytd-expander/div/yt-attributed-string')\n",
    "comments =[]\n",
    "    for i in comments[0:500]:\n",
    "        comments.append(i.text)\n",
    "comments"
   ]
  },
  {
   "cell_type": "code",
   "execution_count": null,
   "id": "c7e0f65d",
   "metadata": {},
   "outputs": [],
   "source": []
  },
  {
   "cell_type": "code",
   "execution_count": null,
   "id": "aa09ce7a",
   "metadata": {},
   "outputs": [],
   "source": [
    "driver.quit()"
   ]
  },
  {
   "cell_type": "code",
   "execution_count": null,
   "id": "bf13510e",
   "metadata": {},
   "outputs": [],
   "source": []
  },
  {
   "cell_type": "code",
   "execution_count": null,
   "id": "190190e2",
   "metadata": {},
   "outputs": [],
   "source": []
  },
  {
   "cell_type": "code",
   "execution_count": null,
   "id": "e43d1168",
   "metadata": {},
   "outputs": [],
   "source": []
  },
  {
   "cell_type": "code",
   "execution_count": null,
   "id": "984ac685",
   "metadata": {},
   "outputs": [],
   "source": [
    "# Answer 9\n",
    "#9. Write a python program to scrape a data for all available Hostels from https://www.hostelworld.com/ in \n",
    "#“London” location. You have to scrape hostel name, distance from city centre, ratings, total reviews, overall \n",
    "#reviews, privates from price, dorms from price, facilities and property description."
   ]
  },
  {
   "cell_type": "code",
   "execution_count": 81,
   "id": "e72f08df",
   "metadata": {},
   "outputs": [],
   "source": [
    "driver = webdriver.Chrome()\n",
    "driver.get(\"https://www.hostelworld.com/hostels/\")"
   ]
  },
  {
   "cell_type": "code",
   "execution_count": 83,
   "id": "8d13be9e",
   "metadata": {},
   "outputs": [],
   "source": [
    "search_el=[]\n",
    "search_el=driver.find_element(By.CLASS_NAME,\"native-input\")\n",
    "search_el.send_keys('London,England')"
   ]
  },
  {
   "cell_type": "code",
   "execution_count": 85,
   "id": "4e18e5f8",
   "metadata": {},
   "outputs": [],
   "source": [
    "search=driver.find_element(By.XPATH,'/html/body/div[3]/div/div[3]/main/header/div[2]/div[2]/div/div[1]/div/div[2]/div/div[5]/button[2]/span')\n",
    "search.click()"
   ]
  },
  {
   "cell_type": "code",
   "execution_count": 86,
   "id": "b5fe8249",
   "metadata": {},
   "outputs": [],
   "source": [
    "def extract_hostel_data():\n",
    "    hostels = driver.find_elements(By.CLASS_NAME, \"property-card\")\n",
    "    hostel_data = []\n"
   ]
  },
  {
   "cell_type": "code",
   "execution_count": 87,
   "id": "d231a427",
   "metadata": {},
   "outputs": [
    {
     "ename": "NameError",
     "evalue": "name 'hostels' is not defined",
     "output_type": "error",
     "traceback": [
      "\u001b[1;31m---------------------------------------------------------------------------\u001b[0m",
      "\u001b[1;31mNameError\u001b[0m                                 Traceback (most recent call last)",
      "Cell \u001b[1;32mIn[87], line 1\u001b[0m\n\u001b[1;32m----> 1\u001b[0m \u001b[38;5;28;01mfor\u001b[39;00m hostel \u001b[38;5;129;01min\u001b[39;00m hostels:\n\u001b[0;32m      2\u001b[0m         name \u001b[38;5;241m=\u001b[39m hostel\u001b[38;5;241m.\u001b[39mfind_element(By\u001b[38;5;241m.\u001b[39mCLASS_NAME, \u001b[38;5;124m\"\u001b[39m\u001b[38;5;124mtitle\u001b[39m\u001b[38;5;124m\"\u001b[39m)\u001b[38;5;241m.\u001b[39mtext\n\u001b[0;32m      3\u001b[0m         distance \u001b[38;5;241m=\u001b[39m hostel\u001b[38;5;241m.\u001b[39mfind_element(By\u001b[38;5;241m.\u001b[39mCLASS_NAME, \u001b[38;5;124m\"\u001b[39m\u001b[38;5;124mdistance-description\u001b[39m\u001b[38;5;124m\"\u001b[39m)\u001b[38;5;241m.\u001b[39mtext\n",
      "\u001b[1;31mNameError\u001b[0m: name 'hostels' is not defined"
     ]
    }
   ],
   "source": [
    "for hostel in hostels:\n",
    "        name = hostel.find_element(By.CLASS_NAME, \"title\").text\n",
    "        distance = hostel.find_element(By.CLASS_NAME, \"distance-description\").text\n",
    "        rating = hostel.find_element(By.CLASS_NAME, \"score\").text\n",
    "        total_reviews = hostel.find_element(By.CLASS_NAME, \"reviews\").text\n",
    "        overall_reviews = hostel.find_element(By.CLASS_NAME, \"keyword\").text\n",
    "        privates_from_price = hostel.find_element(By.CLASS_NAME, \"price\").text\n",
    "        dorms_from_price = hostel.find_element(By.CLASS_NAME, \"price\").text\n",
    "        facilities = hostel.find_element(By.CLASS_NAME, \"facilities\").text\n",
    "        description = hostel.find_element(By.CLASS_NAME, \"description\").text\n"
   ]
  },
  {
   "cell_type": "code",
   "execution_count": null,
   "id": "3abffaea",
   "metadata": {},
   "outputs": [],
   "source": [
    " hostel_data.append({\n",
    "            \"Name\": name,\n",
    "            \"Distance from City Centre\": distance,\n",
    "            \"Rating\": rating,\n",
    "            \"Total Reviews\": total_reviews,\n",
    "            \"Overall Reviews\": overall_reviews,\n",
    "            \"Privates From Price\": privates_from_price,\n",
    "            \"Dorms From Price\": dorms_from_price,\n",
    "            \"Facilities\": facilities,\n",
    "            \"Description\": description\n",
    "        })\n",
    "\n",
    "    return hostel_data\n"
   ]
  },
  {
   "cell_type": "code",
   "execution_count": null,
   "id": "337206a6",
   "metadata": {},
   "outputs": [],
   "source": [
    "hostel_data = extract_hostel_data()\n",
    "df = pd.DataFrame(hostel_data)\n"
   ]
  },
  {
   "cell_type": "code",
   "execution_count": null,
   "id": "68bb95ef",
   "metadata": {},
   "outputs": [],
   "source": []
  },
  {
   "cell_type": "code",
   "execution_count": null,
   "id": "25d26385",
   "metadata": {},
   "outputs": [],
   "source": []
  }
 ],
 "metadata": {
  "kernelspec": {
   "display_name": "Python 3 (ipykernel)",
   "language": "python",
   "name": "python3"
  },
  "language_info": {
   "codemirror_mode": {
    "name": "ipython",
    "version": 3
   },
   "file_extension": ".py",
   "mimetype": "text/x-python",
   "name": "python",
   "nbconvert_exporter": "python",
   "pygments_lexer": "ipython3",
   "version": "3.11.5"
  }
 },
 "nbformat": 4,
 "nbformat_minor": 5
}
