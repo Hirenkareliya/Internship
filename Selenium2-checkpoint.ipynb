{
 "cells": [
  {
   "cell_type": "code",
   "execution_count": 2,
   "id": "e86aafc9",
   "metadata": {
    "scrolled": true
   },
   "outputs": [
    {
     "name": "stdout",
     "output_type": "stream",
     "text": [
      "Requirement already satisfied: selenium in c:\\users\\hiren kareliya\\anaconda3\\lib\\site-packages (4.22.0)\n",
      "Requirement already satisfied: urllib3[socks]<3,>=1.26 in c:\\users\\hiren kareliya\\anaconda3\\lib\\site-packages (from selenium) (1.26.16)\n",
      "Requirement already satisfied: trio~=0.17 in c:\\users\\hiren kareliya\\anaconda3\\lib\\site-packages (from selenium) (0.25.1)\n",
      "Requirement already satisfied: trio-websocket~=0.9 in c:\\users\\hiren kareliya\\anaconda3\\lib\\site-packages (from selenium) (0.11.1)\n",
      "Requirement already satisfied: certifi>=2021.10.8 in c:\\users\\hiren kareliya\\anaconda3\\lib\\site-packages (from selenium) (2023.7.22)\n",
      "Requirement already satisfied: typing_extensions>=4.9.0 in c:\\users\\hiren kareliya\\anaconda3\\lib\\site-packages (from selenium) (4.12.2)\n",
      "Requirement already satisfied: websocket-client>=1.8.0 in c:\\users\\hiren kareliya\\anaconda3\\lib\\site-packages (from selenium) (1.8.0)\n",
      "Requirement already satisfied: attrs>=23.2.0 in c:\\users\\hiren kareliya\\anaconda3\\lib\\site-packages (from trio~=0.17->selenium) (23.2.0)\n",
      "Requirement already satisfied: sortedcontainers in c:\\users\\hiren kareliya\\anaconda3\\lib\\site-packages (from trio~=0.17->selenium) (2.4.0)\n",
      "Requirement already satisfied: idna in c:\\users\\hiren kareliya\\anaconda3\\lib\\site-packages (from trio~=0.17->selenium) (3.4)\n",
      "Requirement already satisfied: outcome in c:\\users\\hiren kareliya\\anaconda3\\lib\\site-packages (from trio~=0.17->selenium) (1.3.0.post0)\n",
      "Requirement already satisfied: sniffio>=1.3.0 in c:\\users\\hiren kareliya\\anaconda3\\lib\\site-packages (from trio~=0.17->selenium) (1.3.1)\n",
      "Requirement already satisfied: cffi>=1.14 in c:\\users\\hiren kareliya\\anaconda3\\lib\\site-packages (from trio~=0.17->selenium) (1.15.1)\n",
      "Requirement already satisfied: wsproto>=0.14 in c:\\users\\hiren kareliya\\anaconda3\\lib\\site-packages (from trio-websocket~=0.9->selenium) (1.2.0)\n",
      "Requirement already satisfied: PySocks!=1.5.7,<2.0,>=1.5.6 in c:\\users\\hiren kareliya\\anaconda3\\lib\\site-packages (from urllib3[socks]<3,>=1.26->selenium) (1.7.1)\n",
      "Requirement already satisfied: pycparser in c:\\users\\hiren kareliya\\anaconda3\\lib\\site-packages (from cffi>=1.14->trio~=0.17->selenium) (2.21)\n",
      "Requirement already satisfied: h11<1,>=0.9.0 in c:\\users\\hiren kareliya\\anaconda3\\lib\\site-packages (from wsproto>=0.14->trio-websocket~=0.9->selenium) (0.14.0)\n",
      "Requirement already satisfied: requests in c:\\users\\hiren kareliya\\anaconda3\\lib\\site-packages (2.31.0)\n",
      "Requirement already satisfied: charset-normalizer<4,>=2 in c:\\users\\hiren kareliya\\anaconda3\\lib\\site-packages (from requests) (2.0.4)\n",
      "Requirement already satisfied: idna<4,>=2.5 in c:\\users\\hiren kareliya\\anaconda3\\lib\\site-packages (from requests) (3.4)\n",
      "Requirement already satisfied: urllib3<3,>=1.21.1 in c:\\users\\hiren kareliya\\anaconda3\\lib\\site-packages (from requests) (1.26.16)\n",
      "Requirement already satisfied: certifi>=2017.4.17 in c:\\users\\hiren kareliya\\anaconda3\\lib\\site-packages (from requests) (2023.7.22)\n"
     ]
    }
   ],
   "source": [
    "! pip install selenium\n",
    "! pip install requests\n",
    "import requests\n",
    "import pandas as pd\n",
    "from selenium import webdriver\n",
    "import warnings\n",
    "warnings.filterwarnings('ignore')\n",
    "from selenium.webdriver.common.by import By\n",
    "from selenium.webdriver.common.keys import Keys\n",
    "import time\n"
   ]
  },
  {
   "cell_type": "code",
   "execution_count": 27,
   "id": "2790a460",
   "metadata": {},
   "outputs": [],
   "source": [
    "# Answer 1\n",
    "\n",
    "driver = webdriver.Chrome()\n",
    "driver.get(\"https://www.naukri.com/\")\n"
   ]
  },
  {
   "cell_type": "code",
   "execution_count": 28,
   "id": "ba39428c",
   "metadata": {},
   "outputs": [],
   "source": []
  },
  {
   "cell_type": "code",
   "execution_count": 29,
   "id": "7ec63a80",
   "metadata": {},
   "outputs": [],
   "source": [
    "job_title=driver.find_element(By.CLASS_NAME,\"suggestor-input\")\n",
    "job_title.send_keys('Data Scientist')"
   ]
  },
  {
   "cell_type": "code",
   "execution_count": 30,
   "id": "8890c915",
   "metadata": {},
   "outputs": [],
   "source": [
    "search=driver.find_element(By.CLASS_NAME,\"qsbSubmit\")\n",
    "search.click()"
   ]
  },
  {
   "cell_type": "code",
   "execution_count": 31,
   "id": "0076e399",
   "metadata": {
    "scrolled": true
   },
   "outputs": [],
   "source": [
    "location=driver.find_element(By.XPATH,'/html/body/div/div/main/div[1]/div[1]/div/div/div[2]/div[1]/div[2]/div[1]/label/p/span[1]')\n",
    "search=driver.find.element(By,CLASS_NAME,\"styles_inputCheckbox\")\n"
   ]
  },
  {
   "cell_type": "code",
   "execution_count": 25,
   "id": "f19cc31a",
   "metadata": {},
   "outputs": [],
   "source": [
    "salary=driver.find_element(By.XPATH,'/html/body/div/div/main/div[1]/div[1]/div/div/div[2]/div[1]/div[2]/div[1]/label/p/span[1]')"
   ]
  },
  {
   "cell_type": "code",
   "execution_count": 21,
   "id": "ef7386fc",
   "metadata": {},
   "outputs": [
    {
     "data": {
      "text/plain": [
       "[]"
      ]
     },
     "execution_count": 21,
     "metadata": {},
     "output_type": "execute_result"
    }
   ],
   "source": [
    "#title_tags =driver.find_elements(By.XPATH,'//div[@class=\"cust-job-tuple layout-wrapper lay-2 sjw__tuple \"]/div/a')\n",
    "#title_tags[1:10]\n",
    "\n",
    "#for i in title_tags[0:10]:\n",
    "    #title=i.text\n",
    "    #job_title.append(title)\n",
    "title_tag = driver.find_elements(By.XPATH,\"//a[@class='title fw500 ellipsis']\")\n",
    "\n",
    "title_tag[0:10]"
   ]
  },
  {
   "cell_type": "code",
   "execution_count": null,
   "id": "789f5aa5",
   "metadata": {},
   "outputs": [],
   "source": [
    "job_title = []\n",
    "\n",
    "for i in title_tag[0:10]:\n",
    "    job_title.append(i.text)\n",
    "job_title    "
   ]
  },
  {
   "cell_type": "code",
   "execution_count": null,
   "id": "ac6a6acc",
   "metadata": {},
   "outputs": [],
   "source": [
    "company_tag = driver.find_elements_by_xpath(\"//a[@class='subTitle ellipsis fleft']\")\n",
    "company_tag[0:10]"
   ]
  },
  {
   "cell_type": "code",
   "execution_count": null,
   "id": "87b04595",
   "metadata": {},
   "outputs": [],
   "source": [
    "company_name = []\n",
    "\n",
    "for i in company_tag[0:10]:\n",
    "    company_name.append(i.text)\n",
    "    \n",
    "company_name"
   ]
  },
  {
   "cell_type": "code",
   "execution_count": null,
   "id": "27bb2d06",
   "metadata": {},
   "outputs": [],
   "source": [
    "experience_tag = driver.find_elements_by_xpath(\"//li[@class='fleft grey-text br2 placeHolderLi experience']/span\")\n",
    "experience_tag[0:10]"
   ]
  },
  {
   "cell_type": "code",
   "execution_count": null,
   "id": "669596c2",
   "metadata": {},
   "outputs": [],
   "source": []
  },
  {
   "cell_type": "code",
   "execution_count": null,
   "id": "95c6e905",
   "metadata": {},
   "outputs": [],
   "source": [
    "job_location = []\n",
    "\n",
    "for i in location_tag[0:10]:\n",
    "    job_location.append(i.text)    \n",
    "    \n",
    "job_location  "
   ]
  },
  {
   "cell_type": "code",
   "execution_count": 34,
   "id": "758eec75",
   "metadata": {},
   "outputs": [],
   "source": [
    "#print(len(job_title),len(company_name),len(exp_required),len(job_location))"
   ]
  },
  {
   "cell_type": "code",
   "execution_count": 37,
   "id": "001a3739",
   "metadata": {},
   "outputs": [],
   "source": [
    "#df = pd.DataFrame({'job_title':job_title,'company_name':company_name,'experience_required':experience_required,'job_location':job_location})\n",
    "#df"
   ]
  },
  {
   "cell_type": "code",
   "execution_count": 38,
   "id": "babeda0c",
   "metadata": {},
   "outputs": [],
   "source": [
    "# Answer 2\n",
    "Q2: Write a python program to scrape data for “Data Scientist” Job position in “Bangalore” location. You have to scrape the \n",
    "job-title, job-location, company_name, experience_required. You have to scrape first 10 jobs data.\n",
    "This task will be done in following steps:\n",
    "1. First get the webpage https://www.shine.com/\n",
    "2. Enter “Data Analyst” in “Job title, Skills” field and enter “Bangalore” in “enter the location” field.\n",
    "3. Then click the searchbutton. \n",
    "4. Then scrape the data for the first 10 jobs results you get. \n",
    "5. Finally create a dataframe of the scraped data.\n"
   ]
  },
  {
   "cell_type": "code",
   "execution_count": 87,
   "id": "3a1b4816",
   "metadata": {},
   "outputs": [],
   "source": [
    "driver = webdriver.Chrome()\n",
    "driver.get(\"https://www.shine.com/job-search/data-scientist-jobs-in-banglore?q=data-scientist&loc=banglore\")\n"
   ]
  },
  {
   "cell_type": "code",
   "execution_count": 90,
   "id": "2e5fcc76",
   "metadata": {
    "scrolled": true
   },
   "outputs": [
    {
     "ename": "NoSuchWindowException",
     "evalue": "Message: no such window: target window already closed\nfrom unknown error: web view not found\n  (Session info: chrome=126.0.6478.127)\nStacktrace:\n\tGetHandleVerifier [0x00007FF70980EEA2+31554]\n\t(No symbol) [0x00007FF709787ED9]\n\t(No symbol) [0x00007FF70964872A]\n\t(No symbol) [0x00007FF70961D995]\n\t(No symbol) [0x00007FF7096C44D7]\n\t(No symbol) [0x00007FF7096DC051]\n\t(No symbol) [0x00007FF7096BCDD3]\n\t(No symbol) [0x00007FF70968A33B]\n\t(No symbol) [0x00007FF70968AED1]\n\tGetHandleVerifier [0x00007FF709B18B1D+3217341]\n\tGetHandleVerifier [0x00007FF709B65AE3+3532675]\n\tGetHandleVerifier [0x00007FF709B5B0E0+3489152]\n\tGetHandleVerifier [0x00007FF7098BE776+750614]\n\t(No symbol) [0x00007FF70979375F]\n\t(No symbol) [0x00007FF70978EB14]\n\t(No symbol) [0x00007FF70978ECA2]\n\t(No symbol) [0x00007FF70977E16F]\n\tBaseThreadInitThunk [0x00007FFA4CEE257D+29]\n\tRtlUserThreadStart [0x00007FFA4DF0AF28+40]\n",
     "output_type": "error",
     "traceback": [
      "\u001b[1;31m---------------------------------------------------------------------------\u001b[0m",
      "\u001b[1;31mNoSuchWindowException\u001b[0m                     Traceback (most recent call last)",
      "Cell \u001b[1;32mIn[90], line 1\u001b[0m\n\u001b[1;32m----> 1\u001b[0m title_tag \u001b[38;5;241m=\u001b[39m driver\u001b[38;5;241m.\u001b[39mfind_elements(By\u001b[38;5;241m.\u001b[39mXPATH,\u001b[38;5;124m'\u001b[39m\u001b[38;5;124m//href[@class=\u001b[39m\u001b[38;5;124m\"\u001b[39m\u001b[38;5;124mjobCard_pReplaceH2__xWmHg\u001b[39m\u001b[38;5;124m\"\u001b[39m\u001b[38;5;124m]/href/a\u001b[39m\u001b[38;5;124m'\u001b[39m)\n\u001b[0;32m      2\u001b[0m title_tag[\u001b[38;5;241m0\u001b[39m:\u001b[38;5;241m10\u001b[39m]\n",
      "File \u001b[1;32m~\\anaconda3\\Lib\\site-packages\\selenium\\webdriver\\remote\\webdriver.py:778\u001b[0m, in \u001b[0;36mWebDriver.find_elements\u001b[1;34m(self, by, value)\u001b[0m\n\u001b[0;32m    774\u001b[0m     value \u001b[38;5;241m=\u001b[39m \u001b[38;5;124mf\u001b[39m\u001b[38;5;124m'\u001b[39m\u001b[38;5;124m[name=\u001b[39m\u001b[38;5;124m\"\u001b[39m\u001b[38;5;132;01m{\u001b[39;00mvalue\u001b[38;5;132;01m}\u001b[39;00m\u001b[38;5;124m\"\u001b[39m\u001b[38;5;124m]\u001b[39m\u001b[38;5;124m'\u001b[39m\n\u001b[0;32m    776\u001b[0m \u001b[38;5;66;03m# Return empty list if driver returns null\u001b[39;00m\n\u001b[0;32m    777\u001b[0m \u001b[38;5;66;03m# See https://github.com/SeleniumHQ/selenium/issues/4555\u001b[39;00m\n\u001b[1;32m--> 778\u001b[0m \u001b[38;5;28;01mreturn\u001b[39;00m \u001b[38;5;28mself\u001b[39m\u001b[38;5;241m.\u001b[39mexecute(Command\u001b[38;5;241m.\u001b[39mFIND_ELEMENTS, {\u001b[38;5;124m\"\u001b[39m\u001b[38;5;124musing\u001b[39m\u001b[38;5;124m\"\u001b[39m: by, \u001b[38;5;124m\"\u001b[39m\u001b[38;5;124mvalue\u001b[39m\u001b[38;5;124m\"\u001b[39m: value})[\u001b[38;5;124m\"\u001b[39m\u001b[38;5;124mvalue\u001b[39m\u001b[38;5;124m\"\u001b[39m] \u001b[38;5;129;01mor\u001b[39;00m []\n",
      "File \u001b[1;32m~\\anaconda3\\Lib\\site-packages\\selenium\\webdriver\\remote\\webdriver.py:354\u001b[0m, in \u001b[0;36mWebDriver.execute\u001b[1;34m(self, driver_command, params)\u001b[0m\n\u001b[0;32m    352\u001b[0m response \u001b[38;5;241m=\u001b[39m \u001b[38;5;28mself\u001b[39m\u001b[38;5;241m.\u001b[39mcommand_executor\u001b[38;5;241m.\u001b[39mexecute(driver_command, params)\n\u001b[0;32m    353\u001b[0m \u001b[38;5;28;01mif\u001b[39;00m response:\n\u001b[1;32m--> 354\u001b[0m     \u001b[38;5;28mself\u001b[39m\u001b[38;5;241m.\u001b[39merror_handler\u001b[38;5;241m.\u001b[39mcheck_response(response)\n\u001b[0;32m    355\u001b[0m     response[\u001b[38;5;124m\"\u001b[39m\u001b[38;5;124mvalue\u001b[39m\u001b[38;5;124m\"\u001b[39m] \u001b[38;5;241m=\u001b[39m \u001b[38;5;28mself\u001b[39m\u001b[38;5;241m.\u001b[39m_unwrap_value(response\u001b[38;5;241m.\u001b[39mget(\u001b[38;5;124m\"\u001b[39m\u001b[38;5;124mvalue\u001b[39m\u001b[38;5;124m\"\u001b[39m, \u001b[38;5;28;01mNone\u001b[39;00m))\n\u001b[0;32m    356\u001b[0m     \u001b[38;5;28;01mreturn\u001b[39;00m response\n",
      "File \u001b[1;32m~\\anaconda3\\Lib\\site-packages\\selenium\\webdriver\\remote\\errorhandler.py:229\u001b[0m, in \u001b[0;36mErrorHandler.check_response\u001b[1;34m(self, response)\u001b[0m\n\u001b[0;32m    227\u001b[0m         alert_text \u001b[38;5;241m=\u001b[39m value[\u001b[38;5;124m\"\u001b[39m\u001b[38;5;124malert\u001b[39m\u001b[38;5;124m\"\u001b[39m]\u001b[38;5;241m.\u001b[39mget(\u001b[38;5;124m\"\u001b[39m\u001b[38;5;124mtext\u001b[39m\u001b[38;5;124m\"\u001b[39m)\n\u001b[0;32m    228\u001b[0m     \u001b[38;5;28;01mraise\u001b[39;00m exception_class(message, screen, stacktrace, alert_text)  \u001b[38;5;66;03m# type: ignore[call-arg]  # mypy is not smart enough here\u001b[39;00m\n\u001b[1;32m--> 229\u001b[0m \u001b[38;5;28;01mraise\u001b[39;00m exception_class(message, screen, stacktrace)\n",
      "\u001b[1;31mNoSuchWindowException\u001b[0m: Message: no such window: target window already closed\nfrom unknown error: web view not found\n  (Session info: chrome=126.0.6478.127)\nStacktrace:\n\tGetHandleVerifier [0x00007FF70980EEA2+31554]\n\t(No symbol) [0x00007FF709787ED9]\n\t(No symbol) [0x00007FF70964872A]\n\t(No symbol) [0x00007FF70961D995]\n\t(No symbol) [0x00007FF7096C44D7]\n\t(No symbol) [0x00007FF7096DC051]\n\t(No symbol) [0x00007FF7096BCDD3]\n\t(No symbol) [0x00007FF70968A33B]\n\t(No symbol) [0x00007FF70968AED1]\n\tGetHandleVerifier [0x00007FF709B18B1D+3217341]\n\tGetHandleVerifier [0x00007FF709B65AE3+3532675]\n\tGetHandleVerifier [0x00007FF709B5B0E0+3489152]\n\tGetHandleVerifier [0x00007FF7098BE776+750614]\n\t(No symbol) [0x00007FF70979375F]\n\t(No symbol) [0x00007FF70978EB14]\n\t(No symbol) [0x00007FF70978ECA2]\n\t(No symbol) [0x00007FF70977E16F]\n\tBaseThreadInitThunk [0x00007FFA4CEE257D+29]\n\tRtlUserThreadStart [0x00007FFA4DF0AF28+40]\n"
     ]
    }
   ],
   "source": [
    "title_tag = driver.find_elements(By.XPATH,'//href[@class=\"jobCard_pReplaceH2__xWmHg\"]/href/a')\n",
    "title_tag[0:10]\n",
    "\n",
    "job_title = []\n",
    "\n",
    "for i in title_tag[0:10]:\n",
    "    job_title.append(i.text)\n",
    "job_title    "
   ]
  },
  {
   "cell_type": "code",
   "execution_count": 83,
   "id": "71695940",
   "metadata": {},
   "outputs": [],
   "source": [
    "company_tag = driver.find_elements_by_xpath(\"//a[@class='subTitle ellipsis fleft']\")\n",
    "company_tag[0:10]\n",
    "\n",
    "job_title = []\n",
    "\n",
    "for i in title_tag[0:10]:\n",
    "    job_title.append(i.text)\n",
    "job_title    "
   ]
  },
  {
   "cell_type": "code",
   "execution_count": null,
   "id": "d6e24d5b",
   "metadata": {},
   "outputs": [],
   "source": [
    "location_tag = driver.find_elements_by_xpath(\"//a[@class='subTitle ellipsis fleft']\")\n",
    "location_tag[0:10]\n",
    "\n",
    "job_title = []\n",
    "\n",
    "for i in title_tag[0:10]:\n",
    "    job_title.append(i.text)\n",
    "job_title    "
   ]
  },
  {
   "cell_type": "code",
   "execution_count": null,
   "id": "fab14db9",
   "metadata": {},
   "outputs": [],
   "source": [
    "experiance_tag = driver.find_elements_by_xpath(\"//a[@class='subTitle ellipsis fleft']\")\n",
    "experiance_tag[0:10]\n",
    "\n",
    "job_title = []\n",
    "\n",
    "for i in title_tag[0:10]:\n",
    "    job_title.append(i.text)\n",
    "job_title    "
   ]
  },
  {
   "cell_type": "code",
   "execution_count": null,
   "id": "ce1a7e32",
   "metadata": {},
   "outputs": [],
   "source": [
    "#print(len(job_title),len(company_name),len(exp_required),len(job_location))"
   ]
  },
  {
   "cell_type": "code",
   "execution_count": null,
   "id": "40c293ed",
   "metadata": {},
   "outputs": [],
   "source": [
    "#df = pd.DataFrame({'job_title':job_title,'company_name':company_name,'experience_required':experience_required,'job_location':job_location})\n",
    "#df"
   ]
  },
  {
   "cell_type": "code",
   "execution_count": null,
   "id": "fff2f983",
   "metadata": {},
   "outputs": [],
   "source": [
    "# Answer 3\n",
    "\n",
    "Q3: Scrape 100 reviews data from flipkart.com for iphone11 phone. You have to go the link: \n",
    "https://www.flipkart.com/apple-iphone-11-black-64-gb/product\u0002reviews/itm4e5041ba101fd?pid=MOBFWQ6BXGJCEYNY&lid=LSTMOBFWQ6BXGJCEYNYZXSHRJ&marketplace=F\n",
    "LIPKART\n",
    "As shown in the above page you have to scrape the tick marked attributes. These are:\n",
    "1. Rating\n",
    "2. Review summary\n",
    "3. Full review\n",
    "4. You have to scrape this data for first 100reviews.\n"
   ]
  },
  {
   "cell_type": "code",
   "execution_count": 96,
   "id": "30f47eca",
   "metadata": {},
   "outputs": [],
   "source": [
    "driver = webdriver.Chrome()\n",
    "driver.get(\"https://www.flipkart.com/apple-iphone-11-black-64-gb/product-reviews/itm4e5041ba101fd?pid=MOBFWQ6BXGJCEYNY&lid=LSTMOBFWQ6BXGJCEYNYZXSHRJ&marketplace=FLIPKART\")\n"
   ]
  },
  {
   "cell_type": "code",
   "execution_count": 111,
   "id": "040d85ba",
   "metadata": {},
   "outputs": [
    {
     "ename": "WebDriverException",
     "evalue": "Message: disconnected: not connected to DevTools\n  (failed to check if window was closed: disconnected: not connected to DevTools)\n  (Session info: chrome=126.0.6478.127)\nStacktrace:\n\tGetHandleVerifier [0x00007FF70980EEA2+31554]\n\t(No symbol) [0x00007FF709787ED9]\n\t(No symbol) [0x00007FF70964872A]\n\t(No symbol) [0x00007FF70962FA9C]\n\t(No symbol) [0x00007FF70962F960]\n\t(No symbol) [0x00007FF70964AD51]\n\t(No symbol) [0x00007FF7096DC079]\n\t(No symbol) [0x00007FF7096BCDD3]\n\t(No symbol) [0x00007FF70968A33B]\n\t(No symbol) [0x00007FF70968AED1]\n\tGetHandleVerifier [0x00007FF709B18B1D+3217341]\n\tGetHandleVerifier [0x00007FF709B65AE3+3532675]\n\tGetHandleVerifier [0x00007FF709B5B0E0+3489152]\n\tGetHandleVerifier [0x00007FF7098BE776+750614]\n\t(No symbol) [0x00007FF70979375F]\n\t(No symbol) [0x00007FF70978EB14]\n\t(No symbol) [0x00007FF70978ECA2]\n\t(No symbol) [0x00007FF70977E16F]\n\tBaseThreadInitThunk [0x00007FFA4CEE257D+29]\n\tRtlUserThreadStart [0x00007FFA4DF0AF28+40]\n",
     "output_type": "error",
     "traceback": [
      "\u001b[1;31m---------------------------------------------------------------------------\u001b[0m",
      "\u001b[1;31mWebDriverException\u001b[0m                        Traceback (most recent call last)",
      "Cell \u001b[1;32mIn[111], line 5\u001b[0m\n\u001b[0;32m      2\u001b[0m Review_summary \u001b[38;5;241m=\u001b[39m []\n\u001b[0;32m      3\u001b[0m Full_review \u001b[38;5;241m=\u001b[39m []\n\u001b[1;32m----> 5\u001b[0m rating \u001b[38;5;241m=\u001b[39m driver\u001b[38;5;241m.\u001b[39mfind_elements(By\u001b[38;5;241m.\u001b[39mXPATH,\u001b[38;5;124m\"\u001b[39m\u001b[38;5;124m//div[@class=\u001b[39m\u001b[38;5;124m'\u001b[39m\u001b[38;5;124mz9E0IG\u001b[39m\u001b[38;5;124m\"\u001b[39m)\n\u001b[0;32m      6\u001b[0m review \u001b[38;5;241m=\u001b[39m driver\u001b[38;5;241m.\u001b[39mfind_elements(By\u001b[38;5;241m.\u001b[39mXPATH,\u001b[38;5;124m\"\u001b[39m\u001b[38;5;124m//p[@class=\u001b[39m\u001b[38;5;124m'\u001b[39m\u001b[38;5;124m_2-N8zT\u001b[39m\u001b[38;5;124m'\u001b[39m\u001b[38;5;124m]\u001b[39m\u001b[38;5;124m\"\u001b[39m)\n\u001b[0;32m      7\u001b[0m full_review \u001b[38;5;241m=\u001b[39m driver\u001b[38;5;241m.\u001b[39mfind_elements(By\u001b[38;5;241m.\u001b[39mXPATH,\u001b[38;5;124m\"\u001b[39m\u001b[38;5;124m//div[@class=\u001b[39m\u001b[38;5;124m'\u001b[39m\u001b[38;5;124mt-ZTKy\u001b[39m\u001b[38;5;124m'\u001b[39m\u001b[38;5;124m]\u001b[39m\u001b[38;5;124m\"\u001b[39m)\n",
      "File \u001b[1;32m~\\anaconda3\\Lib\\site-packages\\selenium\\webdriver\\remote\\webdriver.py:778\u001b[0m, in \u001b[0;36mWebDriver.find_elements\u001b[1;34m(self, by, value)\u001b[0m\n\u001b[0;32m    774\u001b[0m     value \u001b[38;5;241m=\u001b[39m \u001b[38;5;124mf\u001b[39m\u001b[38;5;124m'\u001b[39m\u001b[38;5;124m[name=\u001b[39m\u001b[38;5;124m\"\u001b[39m\u001b[38;5;132;01m{\u001b[39;00mvalue\u001b[38;5;132;01m}\u001b[39;00m\u001b[38;5;124m\"\u001b[39m\u001b[38;5;124m]\u001b[39m\u001b[38;5;124m'\u001b[39m\n\u001b[0;32m    776\u001b[0m \u001b[38;5;66;03m# Return empty list if driver returns null\u001b[39;00m\n\u001b[0;32m    777\u001b[0m \u001b[38;5;66;03m# See https://github.com/SeleniumHQ/selenium/issues/4555\u001b[39;00m\n\u001b[1;32m--> 778\u001b[0m \u001b[38;5;28;01mreturn\u001b[39;00m \u001b[38;5;28mself\u001b[39m\u001b[38;5;241m.\u001b[39mexecute(Command\u001b[38;5;241m.\u001b[39mFIND_ELEMENTS, {\u001b[38;5;124m\"\u001b[39m\u001b[38;5;124musing\u001b[39m\u001b[38;5;124m\"\u001b[39m: by, \u001b[38;5;124m\"\u001b[39m\u001b[38;5;124mvalue\u001b[39m\u001b[38;5;124m\"\u001b[39m: value})[\u001b[38;5;124m\"\u001b[39m\u001b[38;5;124mvalue\u001b[39m\u001b[38;5;124m\"\u001b[39m] \u001b[38;5;129;01mor\u001b[39;00m []\n",
      "File \u001b[1;32m~\\anaconda3\\Lib\\site-packages\\selenium\\webdriver\\remote\\webdriver.py:354\u001b[0m, in \u001b[0;36mWebDriver.execute\u001b[1;34m(self, driver_command, params)\u001b[0m\n\u001b[0;32m    352\u001b[0m response \u001b[38;5;241m=\u001b[39m \u001b[38;5;28mself\u001b[39m\u001b[38;5;241m.\u001b[39mcommand_executor\u001b[38;5;241m.\u001b[39mexecute(driver_command, params)\n\u001b[0;32m    353\u001b[0m \u001b[38;5;28;01mif\u001b[39;00m response:\n\u001b[1;32m--> 354\u001b[0m     \u001b[38;5;28mself\u001b[39m\u001b[38;5;241m.\u001b[39merror_handler\u001b[38;5;241m.\u001b[39mcheck_response(response)\n\u001b[0;32m    355\u001b[0m     response[\u001b[38;5;124m\"\u001b[39m\u001b[38;5;124mvalue\u001b[39m\u001b[38;5;124m\"\u001b[39m] \u001b[38;5;241m=\u001b[39m \u001b[38;5;28mself\u001b[39m\u001b[38;5;241m.\u001b[39m_unwrap_value(response\u001b[38;5;241m.\u001b[39mget(\u001b[38;5;124m\"\u001b[39m\u001b[38;5;124mvalue\u001b[39m\u001b[38;5;124m\"\u001b[39m, \u001b[38;5;28;01mNone\u001b[39;00m))\n\u001b[0;32m    356\u001b[0m     \u001b[38;5;28;01mreturn\u001b[39;00m response\n",
      "File \u001b[1;32m~\\anaconda3\\Lib\\site-packages\\selenium\\webdriver\\remote\\errorhandler.py:229\u001b[0m, in \u001b[0;36mErrorHandler.check_response\u001b[1;34m(self, response)\u001b[0m\n\u001b[0;32m    227\u001b[0m         alert_text \u001b[38;5;241m=\u001b[39m value[\u001b[38;5;124m\"\u001b[39m\u001b[38;5;124malert\u001b[39m\u001b[38;5;124m\"\u001b[39m]\u001b[38;5;241m.\u001b[39mget(\u001b[38;5;124m\"\u001b[39m\u001b[38;5;124mtext\u001b[39m\u001b[38;5;124m\"\u001b[39m)\n\u001b[0;32m    228\u001b[0m     \u001b[38;5;28;01mraise\u001b[39;00m exception_class(message, screen, stacktrace, alert_text)  \u001b[38;5;66;03m# type: ignore[call-arg]  # mypy is not smart enough here\u001b[39;00m\n\u001b[1;32m--> 229\u001b[0m \u001b[38;5;28;01mraise\u001b[39;00m exception_class(message, screen, stacktrace)\n",
      "\u001b[1;31mWebDriverException\u001b[0m: Message: disconnected: not connected to DevTools\n  (failed to check if window was closed: disconnected: not connected to DevTools)\n  (Session info: chrome=126.0.6478.127)\nStacktrace:\n\tGetHandleVerifier [0x00007FF70980EEA2+31554]\n\t(No symbol) [0x00007FF709787ED9]\n\t(No symbol) [0x00007FF70964872A]\n\t(No symbol) [0x00007FF70962FA9C]\n\t(No symbol) [0x00007FF70962F960]\n\t(No symbol) [0x00007FF70964AD51]\n\t(No symbol) [0x00007FF7096DC079]\n\t(No symbol) [0x00007FF7096BCDD3]\n\t(No symbol) [0x00007FF70968A33B]\n\t(No symbol) [0x00007FF70968AED1]\n\tGetHandleVerifier [0x00007FF709B18B1D+3217341]\n\tGetHandleVerifier [0x00007FF709B65AE3+3532675]\n\tGetHandleVerifier [0x00007FF709B5B0E0+3489152]\n\tGetHandleVerifier [0x00007FF7098BE776+750614]\n\t(No symbol) [0x00007FF70979375F]\n\t(No symbol) [0x00007FF70978EB14]\n\t(No symbol) [0x00007FF70978ECA2]\n\t(No symbol) [0x00007FF70977E16F]\n\tBaseThreadInitThunk [0x00007FFA4CEE257D+29]\n\tRtlUserThreadStart [0x00007FFA4DF0AF28+40]\n"
     ]
    }
   ],
   "source": [
    "#rating=driver.find_elements(By.CLASS_NAME,\"XQDdHH Ga3i8K\")\n",
    "#rating=[]\n",
    "#rating[0:100]\n",
    "\n",
    "reviews = driver.find_elements(By.CSS_SELECTOR, '.z9E0IG\"')\n",
    "for review in reviews[:100]:\n",
    "    rating = review.find_element(By.CSS_SELECTOR, '._3LWZlK').text\n",
    "    summary = review.find_element(By.CSS_SELECTOR, '._2-N8zT').text\n",
    "    full_review = review.find_element(By.CSS_SELECTOR, '.t-ZTKy').text\n"
   ]
  },
  {
   "cell_type": "code",
   "execution_count": null,
   "id": "3350c467",
   "metadata": {},
   "outputs": [],
   "source": [
    "#Answer 4\n",
    "Q4: Scrape data forfirst 100 sneakers you find whenyouvisitflipkart.com and search for “sneakers” inthe search\n",
    "field.\n",
    "You have to scrape 3 attributes of each sneaker:\n",
    "1. Brand\n",
    "2. ProductDescription\n",
    "3. Price\n",
    "As shown in the below image, you have to scrape the above attributes"
   ]
  },
  {
   "cell_type": "code",
   "execution_count": 34,
   "id": "85a706ad",
   "metadata": {},
   "outputs": [],
   "source": [
    "driver = webdriver.Chrome()\n",
    "driver.get(\"https://www.flipkart.com/search?q=sneakers&as=on&as-show=on&otracker=AS_Query_OrganicAutoSuggest_4_4_na_na_na&otracker1=AS_Query_OrganicAutoSuggest_4_4_na_na_na&as-pos=4&as-type=RECENT&suggestionId=sneakers&requestId=30b857cc-858d-4e0c-afc6-5538d0633bac&as-backfill=on\")"
   ]
  },
  {
   "cell_type": "code",
   "execution_count": 16,
   "id": "8b34025d",
   "metadata": {},
   "outputs": [
    {
     "ename": "ElementNotInteractableException",
     "evalue": "Message: element not interactable\n  (Session info: chrome=126.0.6478.127)\nStacktrace:\n\tGetHandleVerifier [0x00007FF70980EEA2+31554]\n\t(No symbol) [0x00007FF709787ED9]\n\t(No symbol) [0x00007FF709648559]\n\t(No symbol) [0x00007FF709691D73]\n\t(No symbol) [0x00007FF70968FEDB]\n\t(No symbol) [0x00007FF7096BD02A]\n\t(No symbol) [0x00007FF70968BA76]\n\t(No symbol) [0x00007FF7096BD240]\n\t(No symbol) [0x00007FF7096DC977]\n\t(No symbol) [0x00007FF7096BCDD3]\n\t(No symbol) [0x00007FF70968A33B]\n\t(No symbol) [0x00007FF70968AED1]\n\tGetHandleVerifier [0x00007FF709B18B1D+3217341]\n\tGetHandleVerifier [0x00007FF709B65AE3+3532675]\n\tGetHandleVerifier [0x00007FF709B5B0E0+3489152]\n\tGetHandleVerifier [0x00007FF7098BE776+750614]\n\t(No symbol) [0x00007FF70979375F]\n\t(No symbol) [0x00007FF70978EB14]\n\t(No symbol) [0x00007FF70978ECA2]\n\t(No symbol) [0x00007FF70977E16F]\n\tBaseThreadInitThunk [0x00007FFA4CEE257D+29]\n\tRtlUserThreadStart [0x00007FFA4DF0AF28+40]\n",
     "output_type": "error",
     "traceback": [
      "\u001b[1;31m---------------------------------------------------------------------------\u001b[0m",
      "\u001b[1;31mElementNotInteractableException\u001b[0m           Traceback (most recent call last)",
      "Cell \u001b[1;32mIn[16], line 2\u001b[0m\n\u001b[0;32m      1\u001b[0m search_column\u001b[38;5;241m=\u001b[39mdriver\u001b[38;5;241m.\u001b[39mfind_element(By\u001b[38;5;241m.\u001b[39mXPATH,\u001b[38;5;124m'\u001b[39m\u001b[38;5;124m//div[@class=\u001b[39m\u001b[38;5;124m\"\u001b[39m\u001b[38;5;124m_2SmNnR\u001b[39m\u001b[38;5;124m\"\u001b[39m\u001b[38;5;124m]\u001b[39m\u001b[38;5;124m'\u001b[39m)\n\u001b[1;32m----> 2\u001b[0m search_column\u001b[38;5;241m.\u001b[39msend_keys(\u001b[38;5;124m\"\u001b[39m\u001b[38;5;124msneakers\u001b[39m\u001b[38;5;124m\"\u001b[39m)\n",
      "File \u001b[1;32m~\\anaconda3\\Lib\\site-packages\\selenium\\webdriver\\remote\\webelement.py:231\u001b[0m, in \u001b[0;36mWebElement.send_keys\u001b[1;34m(self, *value)\u001b[0m\n\u001b[0;32m    228\u001b[0m             remote_files\u001b[38;5;241m.\u001b[39mappend(\u001b[38;5;28mself\u001b[39m\u001b[38;5;241m.\u001b[39m_upload(file))\n\u001b[0;32m    229\u001b[0m         value \u001b[38;5;241m=\u001b[39m \u001b[38;5;124m\"\u001b[39m\u001b[38;5;130;01m\\n\u001b[39;00m\u001b[38;5;124m\"\u001b[39m\u001b[38;5;241m.\u001b[39mjoin(remote_files)\n\u001b[1;32m--> 231\u001b[0m \u001b[38;5;28mself\u001b[39m\u001b[38;5;241m.\u001b[39m_execute(\n\u001b[0;32m    232\u001b[0m     Command\u001b[38;5;241m.\u001b[39mSEND_KEYS_TO_ELEMENT, {\u001b[38;5;124m\"\u001b[39m\u001b[38;5;124mtext\u001b[39m\u001b[38;5;124m\"\u001b[39m: \u001b[38;5;124m\"\u001b[39m\u001b[38;5;124m\"\u001b[39m\u001b[38;5;241m.\u001b[39mjoin(keys_to_typing(value)), \u001b[38;5;124m\"\u001b[39m\u001b[38;5;124mvalue\u001b[39m\u001b[38;5;124m\"\u001b[39m: keys_to_typing(value)}\n\u001b[0;32m    233\u001b[0m )\n",
      "File \u001b[1;32m~\\anaconda3\\Lib\\site-packages\\selenium\\webdriver\\remote\\webelement.py:395\u001b[0m, in \u001b[0;36mWebElement._execute\u001b[1;34m(self, command, params)\u001b[0m\n\u001b[0;32m    393\u001b[0m     params \u001b[38;5;241m=\u001b[39m {}\n\u001b[0;32m    394\u001b[0m params[\u001b[38;5;124m\"\u001b[39m\u001b[38;5;124mid\u001b[39m\u001b[38;5;124m\"\u001b[39m] \u001b[38;5;241m=\u001b[39m \u001b[38;5;28mself\u001b[39m\u001b[38;5;241m.\u001b[39m_id\n\u001b[1;32m--> 395\u001b[0m \u001b[38;5;28;01mreturn\u001b[39;00m \u001b[38;5;28mself\u001b[39m\u001b[38;5;241m.\u001b[39m_parent\u001b[38;5;241m.\u001b[39mexecute(command, params)\n",
      "File \u001b[1;32m~\\anaconda3\\Lib\\site-packages\\selenium\\webdriver\\remote\\webdriver.py:354\u001b[0m, in \u001b[0;36mWebDriver.execute\u001b[1;34m(self, driver_command, params)\u001b[0m\n\u001b[0;32m    352\u001b[0m response \u001b[38;5;241m=\u001b[39m \u001b[38;5;28mself\u001b[39m\u001b[38;5;241m.\u001b[39mcommand_executor\u001b[38;5;241m.\u001b[39mexecute(driver_command, params)\n\u001b[0;32m    353\u001b[0m \u001b[38;5;28;01mif\u001b[39;00m response:\n\u001b[1;32m--> 354\u001b[0m     \u001b[38;5;28mself\u001b[39m\u001b[38;5;241m.\u001b[39merror_handler\u001b[38;5;241m.\u001b[39mcheck_response(response)\n\u001b[0;32m    355\u001b[0m     response[\u001b[38;5;124m\"\u001b[39m\u001b[38;5;124mvalue\u001b[39m\u001b[38;5;124m\"\u001b[39m] \u001b[38;5;241m=\u001b[39m \u001b[38;5;28mself\u001b[39m\u001b[38;5;241m.\u001b[39m_unwrap_value(response\u001b[38;5;241m.\u001b[39mget(\u001b[38;5;124m\"\u001b[39m\u001b[38;5;124mvalue\u001b[39m\u001b[38;5;124m\"\u001b[39m, \u001b[38;5;28;01mNone\u001b[39;00m))\n\u001b[0;32m    356\u001b[0m     \u001b[38;5;28;01mreturn\u001b[39;00m response\n",
      "File \u001b[1;32m~\\anaconda3\\Lib\\site-packages\\selenium\\webdriver\\remote\\errorhandler.py:229\u001b[0m, in \u001b[0;36mErrorHandler.check_response\u001b[1;34m(self, response)\u001b[0m\n\u001b[0;32m    227\u001b[0m         alert_text \u001b[38;5;241m=\u001b[39m value[\u001b[38;5;124m\"\u001b[39m\u001b[38;5;124malert\u001b[39m\u001b[38;5;124m\"\u001b[39m]\u001b[38;5;241m.\u001b[39mget(\u001b[38;5;124m\"\u001b[39m\u001b[38;5;124mtext\u001b[39m\u001b[38;5;124m\"\u001b[39m)\n\u001b[0;32m    228\u001b[0m     \u001b[38;5;28;01mraise\u001b[39;00m exception_class(message, screen, stacktrace, alert_text)  \u001b[38;5;66;03m# type: ignore[call-arg]  # mypy is not smart enough here\u001b[39;00m\n\u001b[1;32m--> 229\u001b[0m \u001b[38;5;28;01mraise\u001b[39;00m exception_class(message, screen, stacktrace)\n",
      "\u001b[1;31mElementNotInteractableException\u001b[0m: Message: element not interactable\n  (Session info: chrome=126.0.6478.127)\nStacktrace:\n\tGetHandleVerifier [0x00007FF70980EEA2+31554]\n\t(No symbol) [0x00007FF709787ED9]\n\t(No symbol) [0x00007FF709648559]\n\t(No symbol) [0x00007FF709691D73]\n\t(No symbol) [0x00007FF70968FEDB]\n\t(No symbol) [0x00007FF7096BD02A]\n\t(No symbol) [0x00007FF70968BA76]\n\t(No symbol) [0x00007FF7096BD240]\n\t(No symbol) [0x00007FF7096DC977]\n\t(No symbol) [0x00007FF7096BCDD3]\n\t(No symbol) [0x00007FF70968A33B]\n\t(No symbol) [0x00007FF70968AED1]\n\tGetHandleVerifier [0x00007FF709B18B1D+3217341]\n\tGetHandleVerifier [0x00007FF709B65AE3+3532675]\n\tGetHandleVerifier [0x00007FF709B5B0E0+3489152]\n\tGetHandleVerifier [0x00007FF7098BE776+750614]\n\t(No symbol) [0x00007FF70979375F]\n\t(No symbol) [0x00007FF70978EB14]\n\t(No symbol) [0x00007FF70978ECA2]\n\t(No symbol) [0x00007FF70977E16F]\n\tBaseThreadInitThunk [0x00007FFA4CEE257D+29]\n\tRtlUserThreadStart [0x00007FFA4DF0AF28+40]\n"
     ]
    }
   ],
   "source": [
    "search_column=driver.find_element(By.XPATH,'//div[@class=\"_2SmNnR\"]')\n",
    "search_column.send_keys(\"sneakers\")"
   ]
  },
  {
   "cell_type": "code",
   "execution_count": 32,
   "id": "9f54799b",
   "metadata": {},
   "outputs": [
    {
     "data": {
      "text/plain": [
       "[<selenium.webdriver.remote.webelement.WebElement (session=\"845b318370524a52f9eb42762cecfb15\", element=\"f.E72C4F486D3005C51761E5B954015FE5.d.281C0041E58F4CD0C1E83CD4F94651BD.e.102\")>,\n",
       " <selenium.webdriver.remote.webelement.WebElement (session=\"845b318370524a52f9eb42762cecfb15\", element=\"f.E72C4F486D3005C51761E5B954015FE5.d.281C0041E58F4CD0C1E83CD4F94651BD.e.667\")>,\n",
       " <selenium.webdriver.remote.webelement.WebElement (session=\"845b318370524a52f9eb42762cecfb15\", element=\"f.E72C4F486D3005C51761E5B954015FE5.d.281C0041E58F4CD0C1E83CD4F94651BD.e.702\")>,\n",
       " <selenium.webdriver.remote.webelement.WebElement (session=\"845b318370524a52f9eb42762cecfb15\", element=\"f.E72C4F486D3005C51761E5B954015FE5.d.281C0041E58F4CD0C1E83CD4F94651BD.e.740\")>,\n",
       " <selenium.webdriver.remote.webelement.WebElement (session=\"845b318370524a52f9eb42762cecfb15\", element=\"f.E72C4F486D3005C51761E5B954015FE5.d.281C0041E58F4CD0C1E83CD4F94651BD.e.776\")>,\n",
       " <selenium.webdriver.remote.webelement.WebElement (session=\"845b318370524a52f9eb42762cecfb15\", element=\"f.E72C4F486D3005C51761E5B954015FE5.d.281C0041E58F4CD0C1E83CD4F94651BD.e.813\")>,\n",
       " <selenium.webdriver.remote.webelement.WebElement (session=\"845b318370524a52f9eb42762cecfb15\", element=\"f.E72C4F486D3005C51761E5B954015FE5.d.281C0041E58F4CD0C1E83CD4F94651BD.e.853\")>,\n",
       " <selenium.webdriver.remote.webelement.WebElement (session=\"845b318370524a52f9eb42762cecfb15\", element=\"f.E72C4F486D3005C51761E5B954015FE5.d.281C0041E58F4CD0C1E83CD4F94651BD.e.893\")>,\n",
       " <selenium.webdriver.remote.webelement.WebElement (session=\"845b318370524a52f9eb42762cecfb15\", element=\"f.E72C4F486D3005C51761E5B954015FE5.d.281C0041E58F4CD0C1E83CD4F94651BD.e.933\")>,\n",
       " <selenium.webdriver.remote.webelement.WebElement (session=\"845b318370524a52f9eb42762cecfb15\", element=\"f.E72C4F486D3005C51761E5B954015FE5.d.281C0041E58F4CD0C1E83CD4F94651BD.e.971\")>,\n",
       " <selenium.webdriver.remote.webelement.WebElement (session=\"845b318370524a52f9eb42762cecfb15\", element=\"f.E72C4F486D3005C51761E5B954015FE5.d.281C0041E58F4CD0C1E83CD4F94651BD.e.1013\")>,\n",
       " <selenium.webdriver.remote.webelement.WebElement (session=\"845b318370524a52f9eb42762cecfb15\", element=\"f.E72C4F486D3005C51761E5B954015FE5.d.281C0041E58F4CD0C1E83CD4F94651BD.e.1055\")>,\n",
       " <selenium.webdriver.remote.webelement.WebElement (session=\"845b318370524a52f9eb42762cecfb15\", element=\"f.E72C4F486D3005C51761E5B954015FE5.d.281C0041E58F4CD0C1E83CD4F94651BD.e.1093\")>,\n",
       " <selenium.webdriver.remote.webelement.WebElement (session=\"845b318370524a52f9eb42762cecfb15\", element=\"f.E72C4F486D3005C51761E5B954015FE5.d.281C0041E58F4CD0C1E83CD4F94651BD.e.1131\")>,\n",
       " <selenium.webdriver.remote.webelement.WebElement (session=\"845b318370524a52f9eb42762cecfb15\", element=\"f.E72C4F486D3005C51761E5B954015FE5.d.281C0041E58F4CD0C1E83CD4F94651BD.e.1169\")>,\n",
       " <selenium.webdriver.remote.webelement.WebElement (session=\"845b318370524a52f9eb42762cecfb15\", element=\"f.E72C4F486D3005C51761E5B954015FE5.d.281C0041E58F4CD0C1E83CD4F94651BD.e.1205\")>,\n",
       " <selenium.webdriver.remote.webelement.WebElement (session=\"845b318370524a52f9eb42762cecfb15\", element=\"f.E72C4F486D3005C51761E5B954015FE5.d.281C0041E58F4CD0C1E83CD4F94651BD.e.1249\")>,\n",
       " <selenium.webdriver.remote.webelement.WebElement (session=\"845b318370524a52f9eb42762cecfb15\", element=\"f.E72C4F486D3005C51761E5B954015FE5.d.281C0041E58F4CD0C1E83CD4F94651BD.e.1289\")>,\n",
       " <selenium.webdriver.remote.webelement.WebElement (session=\"845b318370524a52f9eb42762cecfb15\", element=\"f.E72C4F486D3005C51761E5B954015FE5.d.281C0041E58F4CD0C1E83CD4F94651BD.e.1321\")>,\n",
       " <selenium.webdriver.remote.webelement.WebElement (session=\"845b318370524a52f9eb42762cecfb15\", element=\"f.E72C4F486D3005C51761E5B954015FE5.d.281C0041E58F4CD0C1E83CD4F94651BD.e.1353\")>,\n",
       " <selenium.webdriver.remote.webelement.WebElement (session=\"845b318370524a52f9eb42762cecfb15\", element=\"f.E72C4F486D3005C51761E5B954015FE5.d.281C0041E58F4CD0C1E83CD4F94651BD.e.1391\")>,\n",
       " <selenium.webdriver.remote.webelement.WebElement (session=\"845b318370524a52f9eb42762cecfb15\", element=\"f.E72C4F486D3005C51761E5B954015FE5.d.281C0041E58F4CD0C1E83CD4F94651BD.e.1429\")>,\n",
       " <selenium.webdriver.remote.webelement.WebElement (session=\"845b318370524a52f9eb42762cecfb15\", element=\"f.E72C4F486D3005C51761E5B954015FE5.d.281C0041E58F4CD0C1E83CD4F94651BD.e.1463\")>,\n",
       " <selenium.webdriver.remote.webelement.WebElement (session=\"845b318370524a52f9eb42762cecfb15\", element=\"f.E72C4F486D3005C51761E5B954015FE5.d.281C0041E58F4CD0C1E83CD4F94651BD.e.1501\")>,\n",
       " <selenium.webdriver.remote.webelement.WebElement (session=\"845b318370524a52f9eb42762cecfb15\", element=\"f.E72C4F486D3005C51761E5B954015FE5.d.281C0041E58F4CD0C1E83CD4F94651BD.e.1541\")>,\n",
       " <selenium.webdriver.remote.webelement.WebElement (session=\"845b318370524a52f9eb42762cecfb15\", element=\"f.E72C4F486D3005C51761E5B954015FE5.d.281C0041E58F4CD0C1E83CD4F94651BD.e.1579\")>,\n",
       " <selenium.webdriver.remote.webelement.WebElement (session=\"845b318370524a52f9eb42762cecfb15\", element=\"f.E72C4F486D3005C51761E5B954015FE5.d.281C0041E58F4CD0C1E83CD4F94651BD.e.1621\")>,\n",
       " <selenium.webdriver.remote.webelement.WebElement (session=\"845b318370524a52f9eb42762cecfb15\", element=\"f.E72C4F486D3005C51761E5B954015FE5.d.281C0041E58F4CD0C1E83CD4F94651BD.e.1657\")>,\n",
       " <selenium.webdriver.remote.webelement.WebElement (session=\"845b318370524a52f9eb42762cecfb15\", element=\"f.E72C4F486D3005C51761E5B954015FE5.d.281C0041E58F4CD0C1E83CD4F94651BD.e.1695\")>,\n",
       " <selenium.webdriver.remote.webelement.WebElement (session=\"845b318370524a52f9eb42762cecfb15\", element=\"f.E72C4F486D3005C51761E5B954015FE5.d.281C0041E58F4CD0C1E83CD4F94651BD.e.1733\")>,\n",
       " <selenium.webdriver.remote.webelement.WebElement (session=\"845b318370524a52f9eb42762cecfb15\", element=\"f.E72C4F486D3005C51761E5B954015FE5.d.281C0041E58F4CD0C1E83CD4F94651BD.e.1775\")>,\n",
       " <selenium.webdriver.remote.webelement.WebElement (session=\"845b318370524a52f9eb42762cecfb15\", element=\"f.E72C4F486D3005C51761E5B954015FE5.d.281C0041E58F4CD0C1E83CD4F94651BD.e.1815\")>,\n",
       " <selenium.webdriver.remote.webelement.WebElement (session=\"845b318370524a52f9eb42762cecfb15\", element=\"f.E72C4F486D3005C51761E5B954015FE5.d.281C0041E58F4CD0C1E83CD4F94651BD.e.1853\")>,\n",
       " <selenium.webdriver.remote.webelement.WebElement (session=\"845b318370524a52f9eb42762cecfb15\", element=\"f.E72C4F486D3005C51761E5B954015FE5.d.281C0041E58F4CD0C1E83CD4F94651BD.e.1891\")>,\n",
       " <selenium.webdriver.remote.webelement.WebElement (session=\"845b318370524a52f9eb42762cecfb15\", element=\"f.E72C4F486D3005C51761E5B954015FE5.d.281C0041E58F4CD0C1E83CD4F94651BD.e.1923\")>,\n",
       " <selenium.webdriver.remote.webelement.WebElement (session=\"845b318370524a52f9eb42762cecfb15\", element=\"f.E72C4F486D3005C51761E5B954015FE5.d.281C0041E58F4CD0C1E83CD4F94651BD.e.1959\")>,\n",
       " <selenium.webdriver.remote.webelement.WebElement (session=\"845b318370524a52f9eb42762cecfb15\", element=\"f.E72C4F486D3005C51761E5B954015FE5.d.281C0041E58F4CD0C1E83CD4F94651BD.e.2003\")>,\n",
       " <selenium.webdriver.remote.webelement.WebElement (session=\"845b318370524a52f9eb42762cecfb15\", element=\"f.E72C4F486D3005C51761E5B954015FE5.d.281C0041E58F4CD0C1E83CD4F94651BD.e.2043\")>,\n",
       " <selenium.webdriver.remote.webelement.WebElement (session=\"845b318370524a52f9eb42762cecfb15\", element=\"f.E72C4F486D3005C51761E5B954015FE5.d.281C0041E58F4CD0C1E83CD4F94651BD.e.2075\")>,\n",
       " <selenium.webdriver.remote.webelement.WebElement (session=\"845b318370524a52f9eb42762cecfb15\", element=\"f.E72C4F486D3005C51761E5B954015FE5.d.281C0041E58F4CD0C1E83CD4F94651BD.e.2113\")>,\n",
       " 'BRUTON',\n",
       " 'BRUTON',\n",
       " 'Deals4you',\n",
       " 'aadi',\n",
       " 'U.S. POLO ASSN.',\n",
       " 'aadi',\n",
       " 'BRUTON',\n",
       " 'BRUTON',\n",
       " 'ATOM',\n",
       " 'PUMA',\n",
       " 'BRUTON',\n",
       " 'BRUTON',\n",
       " 'PUMA',\n",
       " 'PUMA',\n",
       " 'aadi',\n",
       " 'PUMA',\n",
       " 'aadi',\n",
       " 'BRUTON',\n",
       " 'Kook N Keech',\n",
       " 'PUMA',\n",
       " 'BRUTON',\n",
       " 'BRUTON',\n",
       " 'asian',\n",
       " 'asian',\n",
       " 'asian',\n",
       " 'RUN SEVEN',\n",
       " 'Deals4you',\n",
       " 'JUMPLITE',\n",
       " 'Zixer',\n",
       " 'VENDOZ',\n",
       " 'Deals4you',\n",
       " 'BRUTON',\n",
       " 'PUMA',\n",
       " 'URBANBOX',\n",
       " 'Ifah',\n",
       " 'PUMA',\n",
       " 'Aeonik',\n",
       " 'Zixer',\n",
       " 'aadi',\n",
       " 'PUMA']"
      ]
     },
     "execution_count": 32,
     "metadata": {},
     "output_type": "execute_result"
    }
   ],
   "source": [
    "brand=[]\n",
    "brand =driver.find_elements(By.XPATH,'//div[@class=\"syl9yP\"]')\n",
    "brand[0:100]\n",
    "for i in brand[0:100]:\n",
    "    brand.append(i.text)\n",
    "brand    "
   ]
  },
  {
   "cell_type": "code",
   "execution_count": 35,
   "id": "12b6dc02",
   "metadata": {},
   "outputs": [
    {
     "data": {
      "text/plain": [
       "[<selenium.webdriver.remote.webelement.WebElement (session=\"7d0637ee016adedfa7e05836fc68d55f\", element=\"f.1E94C950693247460A7B71A0E1D4741F.d.A864480C4EFC23996595C22143334A02.e.685\")>,\n",
       " <selenium.webdriver.remote.webelement.WebElement (session=\"7d0637ee016adedfa7e05836fc68d55f\", element=\"f.1E94C950693247460A7B71A0E1D4741F.d.A864480C4EFC23996595C22143334A02.e.723\")>,\n",
       " <selenium.webdriver.remote.webelement.WebElement (session=\"7d0637ee016adedfa7e05836fc68d55f\", element=\"f.1E94C950693247460A7B71A0E1D4741F.d.A864480C4EFC23996595C22143334A02.e.794\")>,\n",
       " <selenium.webdriver.remote.webelement.WebElement (session=\"7d0637ee016adedfa7e05836fc68d55f\", element=\"f.1E94C950693247460A7B71A0E1D4741F.d.A864480C4EFC23996595C22143334A02.e.830\")>,\n",
       " <selenium.webdriver.remote.webelement.WebElement (session=\"7d0637ee016adedfa7e05836fc68d55f\", element=\"f.1E94C950693247460A7B71A0E1D4741F.d.A864480C4EFC23996595C22143334A02.e.867\")>,\n",
       " <selenium.webdriver.remote.webelement.WebElement (session=\"7d0637ee016adedfa7e05836fc68d55f\", element=\"f.1E94C950693247460A7B71A0E1D4741F.d.A864480C4EFC23996595C22143334A02.e.946\")>,\n",
       " <selenium.webdriver.remote.webelement.WebElement (session=\"7d0637ee016adedfa7e05836fc68d55f\", element=\"f.1E94C950693247460A7B71A0E1D4741F.d.A864480C4EFC23996595C22143334A02.e.1098\")>,\n",
       " <selenium.webdriver.remote.webelement.WebElement (session=\"7d0637ee016adedfa7e05836fc68d55f\", element=\"f.1E94C950693247460A7B71A0E1D4741F.d.A864480C4EFC23996595C22143334A02.e.1136\")>,\n",
       " <selenium.webdriver.remote.webelement.WebElement (session=\"7d0637ee016adedfa7e05836fc68d55f\", element=\"f.1E94C950693247460A7B71A0E1D4741F.d.A864480C4EFC23996595C22143334A02.e.1174\")>,\n",
       " <selenium.webdriver.remote.webelement.WebElement (session=\"7d0637ee016adedfa7e05836fc68d55f\", element=\"f.1E94C950693247460A7B71A0E1D4741F.d.A864480C4EFC23996595C22143334A02.e.1212\")>,\n",
       " <selenium.webdriver.remote.webelement.WebElement (session=\"7d0637ee016adedfa7e05836fc68d55f\", element=\"f.1E94C950693247460A7B71A0E1D4741F.d.A864480C4EFC23996595C22143334A02.e.1252\")>,\n",
       " <selenium.webdriver.remote.webelement.WebElement (session=\"7d0637ee016adedfa7e05836fc68d55f\", element=\"f.1E94C950693247460A7B71A0E1D4741F.d.A864480C4EFC23996595C22143334A02.e.1290\")>,\n",
       " <selenium.webdriver.remote.webelement.WebElement (session=\"7d0637ee016adedfa7e05836fc68d55f\", element=\"f.1E94C950693247460A7B71A0E1D4741F.d.A864480C4EFC23996595C22143334A02.e.1328\")>,\n",
       " <selenium.webdriver.remote.webelement.WebElement (session=\"7d0637ee016adedfa7e05836fc68d55f\", element=\"f.1E94C950693247460A7B71A0E1D4741F.d.A864480C4EFC23996595C22143334A02.e.1366\")>,\n",
       " <selenium.webdriver.remote.webelement.WebElement (session=\"7d0637ee016adedfa7e05836fc68d55f\", element=\"f.1E94C950693247460A7B71A0E1D4741F.d.A864480C4EFC23996595C22143334A02.e.1410\")>,\n",
       " <selenium.webdriver.remote.webelement.WebElement (session=\"7d0637ee016adedfa7e05836fc68d55f\", element=\"f.1E94C950693247460A7B71A0E1D4741F.d.A864480C4EFC23996595C22143334A02.e.1520\")>,\n",
       " <selenium.webdriver.remote.webelement.WebElement (session=\"7d0637ee016adedfa7e05836fc68d55f\", element=\"f.1E94C950693247460A7B71A0E1D4741F.d.A864480C4EFC23996595C22143334A02.e.1560\")>,\n",
       " <selenium.webdriver.remote.webelement.WebElement (session=\"7d0637ee016adedfa7e05836fc68d55f\", element=\"f.1E94C950693247460A7B71A0E1D4741F.d.A864480C4EFC23996595C22143334A02.e.1598\")>,\n",
       " <selenium.webdriver.remote.webelement.WebElement (session=\"7d0637ee016adedfa7e05836fc68d55f\", element=\"f.1E94C950693247460A7B71A0E1D4741F.d.A864480C4EFC23996595C22143334A02.e.1718\")>,\n",
       " <selenium.webdriver.remote.webelement.WebElement (session=\"7d0637ee016adedfa7e05836fc68d55f\", element=\"f.1E94C950693247460A7B71A0E1D4741F.d.A864480C4EFC23996595C22143334A02.e.1756\")>,\n",
       " <selenium.webdriver.remote.webelement.WebElement (session=\"7d0637ee016adedfa7e05836fc68d55f\", element=\"f.1E94C950693247460A7B71A0E1D4741F.d.A864480C4EFC23996595C22143334A02.e.1876\")>,\n",
       " <selenium.webdriver.remote.webelement.WebElement (session=\"7d0637ee016adedfa7e05836fc68d55f\", element=\"f.1E94C950693247460A7B71A0E1D4741F.d.A864480C4EFC23996595C22143334A02.e.1910\")>,\n",
       " <selenium.webdriver.remote.webelement.WebElement (session=\"7d0637ee016adedfa7e05836fc68d55f\", element=\"f.1E94C950693247460A7B71A0E1D4741F.d.A864480C4EFC23996595C22143334A02.e.1948\")>,\n",
       " <selenium.webdriver.remote.webelement.WebElement (session=\"7d0637ee016adedfa7e05836fc68d55f\", element=\"f.1E94C950693247460A7B71A0E1D4741F.d.A864480C4EFC23996595C22143334A02.e.1986\")>,\n",
       " <selenium.webdriver.remote.webelement.WebElement (session=\"7d0637ee016adedfa7e05836fc68d55f\", element=\"f.1E94C950693247460A7B71A0E1D4741F.d.A864480C4EFC23996595C22143334A02.e.2102\")>,\n",
       " <selenium.webdriver.remote.webelement.WebElement (session=\"7d0637ee016adedfa7e05836fc68d55f\", element=\"f.1E94C950693247460A7B71A0E1D4741F.d.A864480C4EFC23996595C22143334A02.e.2140\")>,\n",
       " 'Modern Trendy Sneakers Shoes Sneakers For Men',\n",
       " 'Sneakers For Women',\n",
       " 'Cliff IDP Sneakers For Men',\n",
       " 'LEXUS Sneakers For Men',\n",
       " 'Lite Casual Shoes Sneakers For Men',\n",
       " 'OG TerraForge Low-Top Series: Bold Street-Ready Sneaker...',\n",
       " 'Puma knit V3 Sneakers For Men',\n",
       " 'CLARKIN Sneakers For Men',\n",
       " 'Mesh| Lightweight| Premiun| Comfort| Summer Tendy| Outd...',\n",
       " 'Trending Stylish Casual Outdoor Shoes Sneakers For Men',\n",
       " 'Trendy & Stylish Casual Shoes Sneakers For Men',\n",
       " 'Combo Pack Of 4 Casual Loafer Shoes Sneakers For Men',\n",
       " 'Sneaker Casual Shoes For Men | Soft Cushion Insole || B...',\n",
       " 'Mesh| Lightweight| Premiun| Comfort| Summer Tendy| Outd...',\n",
       " 'Trendy & Stylish Casual Shoes Sneakers For Men',\n",
       " 'Mesh |Lightweight|Comfort|Summer|Trendy|Walking|Outdoor...',\n",
       " 'Spring Edge Alpha 2 Sneakers For Men',\n",
       " 'Casual Sneakers Shoes For Men Mexico-11 Sneakers For Me...',\n",
       " 'Puma Shuffle Ultra Sneakers For Men',\n",
       " 'Sneakers For Men',\n",
       " 'Flat Sole Sneakers Shoes for all Day wear with Memory C...',\n",
       " 'Sneakers For Women',\n",
       " 'URBAN CHUNKY Sneakers For Men',\n",
       " 'Supernova Sneakers For Men',\n",
       " 'Casual Stylish Trending Sneakers For Women',\n",
       " 'Sneaker Casual Shoes for Men | Soft Cushioned Insole, S...']"
      ]
     },
     "execution_count": 35,
     "metadata": {},
     "output_type": "execute_result"
    }
   ],
   "source": [
    "product_des=[]\n",
    "product_des=driver.find_elements(By.XPATH,'//a[@class=\"WKTcLC\"]')\n",
    "product_des[0:100]\n",
    "for i in product_des[0:100]:\n",
    "    product_des.append(i.text)\n",
    "product_des   "
   ]
  },
  {
   "cell_type": "code",
   "execution_count": 33,
   "id": "1ea423b8",
   "metadata": {},
   "outputs": [
    {
     "data": {
      "text/plain": [
       "[<selenium.webdriver.remote.webelement.WebElement (session=\"845b318370524a52f9eb42762cecfb15\", element=\"f.E72C4F486D3005C51761E5B954015FE5.d.281C0041E58F4CD0C1E83CD4F94651BD.e.632\")>,\n",
       " <selenium.webdriver.remote.webelement.WebElement (session=\"845b318370524a52f9eb42762cecfb15\", element=\"f.E72C4F486D3005C51761E5B954015FE5.d.281C0041E58F4CD0C1E83CD4F94651BD.e.673\")>,\n",
       " <selenium.webdriver.remote.webelement.WebElement (session=\"845b318370524a52f9eb42762cecfb15\", element=\"f.E72C4F486D3005C51761E5B954015FE5.d.281C0041E58F4CD0C1E83CD4F94651BD.e.710\")>,\n",
       " <selenium.webdriver.remote.webelement.WebElement (session=\"845b318370524a52f9eb42762cecfb15\", element=\"f.E72C4F486D3005C51761E5B954015FE5.d.281C0041E58F4CD0C1E83CD4F94651BD.e.746\")>,\n",
       " <selenium.webdriver.remote.webelement.WebElement (session=\"845b318370524a52f9eb42762cecfb15\", element=\"f.E72C4F486D3005C51761E5B954015FE5.d.281C0041E58F4CD0C1E83CD4F94651BD.e.784\")>,\n",
       " <selenium.webdriver.remote.webelement.WebElement (session=\"845b318370524a52f9eb42762cecfb15\", element=\"f.E72C4F486D3005C51761E5B954015FE5.d.281C0041E58F4CD0C1E83CD4F94651BD.e.819\")>,\n",
       " <selenium.webdriver.remote.webelement.WebElement (session=\"845b318370524a52f9eb42762cecfb15\", element=\"f.E72C4F486D3005C51761E5B954015FE5.d.281C0041E58F4CD0C1E83CD4F94651BD.e.859\")>,\n",
       " <selenium.webdriver.remote.webelement.WebElement (session=\"845b318370524a52f9eb42762cecfb15\", element=\"f.E72C4F486D3005C51761E5B954015FE5.d.281C0041E58F4CD0C1E83CD4F94651BD.e.901\")>,\n",
       " <selenium.webdriver.remote.webelement.WebElement (session=\"845b318370524a52f9eb42762cecfb15\", element=\"f.E72C4F486D3005C51761E5B954015FE5.d.281C0041E58F4CD0C1E83CD4F94651BD.e.941\")>,\n",
       " <selenium.webdriver.remote.webelement.WebElement (session=\"845b318370524a52f9eb42762cecfb15\", element=\"f.E72C4F486D3005C51761E5B954015FE5.d.281C0041E58F4CD0C1E83CD4F94651BD.e.979\")>,\n",
       " <selenium.webdriver.remote.webelement.WebElement (session=\"845b318370524a52f9eb42762cecfb15\", element=\"f.E72C4F486D3005C51761E5B954015FE5.d.281C0041E58F4CD0C1E83CD4F94651BD.e.1021\")>,\n",
       " <selenium.webdriver.remote.webelement.WebElement (session=\"845b318370524a52f9eb42762cecfb15\", element=\"f.E72C4F486D3005C51761E5B954015FE5.d.281C0041E58F4CD0C1E83CD4F94651BD.e.1061\")>,\n",
       " <selenium.webdriver.remote.webelement.WebElement (session=\"845b318370524a52f9eb42762cecfb15\", element=\"f.E72C4F486D3005C51761E5B954015FE5.d.281C0041E58F4CD0C1E83CD4F94651BD.e.1101\")>,\n",
       " <selenium.webdriver.remote.webelement.WebElement (session=\"845b318370524a52f9eb42762cecfb15\", element=\"f.E72C4F486D3005C51761E5B954015FE5.d.281C0041E58F4CD0C1E83CD4F94651BD.e.1139\")>,\n",
       " <selenium.webdriver.remote.webelement.WebElement (session=\"845b318370524a52f9eb42762cecfb15\", element=\"f.E72C4F486D3005C51761E5B954015FE5.d.281C0041E58F4CD0C1E83CD4F94651BD.e.1175\")>,\n",
       " <selenium.webdriver.remote.webelement.WebElement (session=\"845b318370524a52f9eb42762cecfb15\", element=\"f.E72C4F486D3005C51761E5B954015FE5.d.281C0041E58F4CD0C1E83CD4F94651BD.e.1213\")>,\n",
       " <selenium.webdriver.remote.webelement.WebElement (session=\"845b318370524a52f9eb42762cecfb15\", element=\"f.E72C4F486D3005C51761E5B954015FE5.d.281C0041E58F4CD0C1E83CD4F94651BD.e.1255\")>,\n",
       " <selenium.webdriver.remote.webelement.WebElement (session=\"845b318370524a52f9eb42762cecfb15\", element=\"f.E72C4F486D3005C51761E5B954015FE5.d.281C0041E58F4CD0C1E83CD4F94651BD.e.1295\")>,\n",
       " <selenium.webdriver.remote.webelement.WebElement (session=\"845b318370524a52f9eb42762cecfb15\", element=\"f.E72C4F486D3005C51761E5B954015FE5.d.281C0041E58F4CD0C1E83CD4F94651BD.e.1327\")>,\n",
       " <selenium.webdriver.remote.webelement.WebElement (session=\"845b318370524a52f9eb42762cecfb15\", element=\"f.E72C4F486D3005C51761E5B954015FE5.d.281C0041E58F4CD0C1E83CD4F94651BD.e.1359\")>,\n",
       " <selenium.webdriver.remote.webelement.WebElement (session=\"845b318370524a52f9eb42762cecfb15\", element=\"f.E72C4F486D3005C51761E5B954015FE5.d.281C0041E58F4CD0C1E83CD4F94651BD.e.1399\")>,\n",
       " <selenium.webdriver.remote.webelement.WebElement (session=\"845b318370524a52f9eb42762cecfb15\", element=\"f.E72C4F486D3005C51761E5B954015FE5.d.281C0041E58F4CD0C1E83CD4F94651BD.e.1437\")>,\n",
       " <selenium.webdriver.remote.webelement.WebElement (session=\"845b318370524a52f9eb42762cecfb15\", element=\"f.E72C4F486D3005C51761E5B954015FE5.d.281C0041E58F4CD0C1E83CD4F94651BD.e.1471\")>,\n",
       " <selenium.webdriver.remote.webelement.WebElement (session=\"845b318370524a52f9eb42762cecfb15\", element=\"f.E72C4F486D3005C51761E5B954015FE5.d.281C0041E58F4CD0C1E83CD4F94651BD.e.1509\")>,\n",
       " <selenium.webdriver.remote.webelement.WebElement (session=\"845b318370524a52f9eb42762cecfb15\", element=\"f.E72C4F486D3005C51761E5B954015FE5.d.281C0041E58F4CD0C1E83CD4F94651BD.e.1549\")>,\n",
       " <selenium.webdriver.remote.webelement.WebElement (session=\"845b318370524a52f9eb42762cecfb15\", element=\"f.E72C4F486D3005C51761E5B954015FE5.d.281C0041E58F4CD0C1E83CD4F94651BD.e.1587\")>,\n",
       " <selenium.webdriver.remote.webelement.WebElement (session=\"845b318370524a52f9eb42762cecfb15\", element=\"f.E72C4F486D3005C51761E5B954015FE5.d.281C0041E58F4CD0C1E83CD4F94651BD.e.1627\")>,\n",
       " <selenium.webdriver.remote.webelement.WebElement (session=\"845b318370524a52f9eb42762cecfb15\", element=\"f.E72C4F486D3005C51761E5B954015FE5.d.281C0041E58F4CD0C1E83CD4F94651BD.e.1663\")>,\n",
       " <selenium.webdriver.remote.webelement.WebElement (session=\"845b318370524a52f9eb42762cecfb15\", element=\"f.E72C4F486D3005C51761E5B954015FE5.d.281C0041E58F4CD0C1E83CD4F94651BD.e.1703\")>,\n",
       " <selenium.webdriver.remote.webelement.WebElement (session=\"845b318370524a52f9eb42762cecfb15\", element=\"f.E72C4F486D3005C51761E5B954015FE5.d.281C0041E58F4CD0C1E83CD4F94651BD.e.1741\")>,\n",
       " <selenium.webdriver.remote.webelement.WebElement (session=\"845b318370524a52f9eb42762cecfb15\", element=\"f.E72C4F486D3005C51761E5B954015FE5.d.281C0041E58F4CD0C1E83CD4F94651BD.e.1781\")>,\n",
       " <selenium.webdriver.remote.webelement.WebElement (session=\"845b318370524a52f9eb42762cecfb15\", element=\"f.E72C4F486D3005C51761E5B954015FE5.d.281C0041E58F4CD0C1E83CD4F94651BD.e.1821\")>,\n",
       " <selenium.webdriver.remote.webelement.WebElement (session=\"845b318370524a52f9eb42762cecfb15\", element=\"f.E72C4F486D3005C51761E5B954015FE5.d.281C0041E58F4CD0C1E83CD4F94651BD.e.1861\")>,\n",
       " <selenium.webdriver.remote.webelement.WebElement (session=\"845b318370524a52f9eb42762cecfb15\", element=\"f.E72C4F486D3005C51761E5B954015FE5.d.281C0041E58F4CD0C1E83CD4F94651BD.e.1897\")>,\n",
       " <selenium.webdriver.remote.webelement.WebElement (session=\"845b318370524a52f9eb42762cecfb15\", element=\"f.E72C4F486D3005C51761E5B954015FE5.d.281C0041E58F4CD0C1E83CD4F94651BD.e.1929\")>,\n",
       " <selenium.webdriver.remote.webelement.WebElement (session=\"845b318370524a52f9eb42762cecfb15\", element=\"f.E72C4F486D3005C51761E5B954015FE5.d.281C0041E58F4CD0C1E83CD4F94651BD.e.1967\")>,\n",
       " <selenium.webdriver.remote.webelement.WebElement (session=\"845b318370524a52f9eb42762cecfb15\", element=\"f.E72C4F486D3005C51761E5B954015FE5.d.281C0041E58F4CD0C1E83CD4F94651BD.e.2009\")>,\n",
       " <selenium.webdriver.remote.webelement.WebElement (session=\"845b318370524a52f9eb42762cecfb15\", element=\"f.E72C4F486D3005C51761E5B954015FE5.d.281C0041E58F4CD0C1E83CD4F94651BD.e.2049\")>,\n",
       " <selenium.webdriver.remote.webelement.WebElement (session=\"845b318370524a52f9eb42762cecfb15\", element=\"f.E72C4F486D3005C51761E5B954015FE5.d.281C0041E58F4CD0C1E83CD4F94651BD.e.2083\")>,\n",
       " <selenium.webdriver.remote.webelement.WebElement (session=\"845b318370524a52f9eb42762cecfb15\", element=\"f.E72C4F486D3005C51761E5B954015FE5.d.281C0041E58F4CD0C1E83CD4F94651BD.e.2121\")>,\n",
       " '₹297',\n",
       " '₹297',\n",
       " '₹399',\n",
       " '₹299',\n",
       " '₹1,249',\n",
       " '₹439',\n",
       " '₹297',\n",
       " '₹297',\n",
       " '₹1,685',\n",
       " '₹1,047',\n",
       " '₹499',\n",
       " '₹297',\n",
       " '₹1,200',\n",
       " '₹1,047',\n",
       " '₹425',\n",
       " '₹1,043',\n",
       " '₹299',\n",
       " '₹449',\n",
       " '₹879',\n",
       " '₹1,298',\n",
       " '₹297',\n",
       " '₹297',\n",
       " '₹808',\n",
       " '₹749',\n",
       " '₹746',\n",
       " '₹999',\n",
       " '₹399',\n",
       " '₹999',\n",
       " '₹899',\n",
       " '₹599',\n",
       " '₹399',\n",
       " '₹297',\n",
       " '₹1,075',\n",
       " '₹449',\n",
       " '₹699',\n",
       " '₹1,680',\n",
       " '₹497',\n",
       " '₹699',\n",
       " '₹299',\n",
       " '₹1,201']"
      ]
     },
     "execution_count": 33,
     "metadata": {},
     "output_type": "execute_result"
    }
   ],
   "source": [
    "price=[]\n",
    "price =driver.find_elements(By.XPATH,'//div[@class=\"Nx9bqj\"]')\n",
    "price[0:100]\n",
    "for i in price[0:100]:\n",
    "    price.append(i.text)\n",
    "price   "
   ]
  },
  {
   "cell_type": "code",
   "execution_count": 36,
   "id": "5c7dc9a4",
   "metadata": {},
   "outputs": [
    {
     "name": "stdout",
     "output_type": "stream",
     "text": [
      "80 80 52\n"
     ]
    }
   ],
   "source": [
    "print(len(brand),len(price),len(product_des))"
   ]
  },
  {
   "cell_type": "code",
   "execution_count": 40,
   "id": "597b0b6b",
   "metadata": {},
   "outputs": [
    {
     "ename": "ValueError",
     "evalue": "All arrays must be of the same length",
     "output_type": "error",
     "traceback": [
      "\u001b[1;31m---------------------------------------------------------------------------\u001b[0m",
      "\u001b[1;31mValueError\u001b[0m                                Traceback (most recent call last)",
      "Cell \u001b[1;32mIn[40], line 1\u001b[0m\n\u001b[1;32m----> 1\u001b[0m df \u001b[38;5;241m=\u001b[39m pd\u001b[38;5;241m.\u001b[39mDataFrame({\u001b[38;5;124m'\u001b[39m\u001b[38;5;124mbrand\u001b[39m\u001b[38;5;124m'\u001b[39m:brand,\u001b[38;5;124m'\u001b[39m\u001b[38;5;124mprice\u001b[39m\u001b[38;5;124m'\u001b[39m:price,\u001b[38;5;124m'\u001b[39m\u001b[38;5;124mProductDes\u001b[39m\u001b[38;5;124m'\u001b[39m:product_des})\n\u001b[0;32m      2\u001b[0m df\n",
      "File \u001b[1;32m~\\anaconda3\\Lib\\site-packages\\pandas\\core\\frame.py:709\u001b[0m, in \u001b[0;36mDataFrame.__init__\u001b[1;34m(self, data, index, columns, dtype, copy)\u001b[0m\n\u001b[0;32m    703\u001b[0m     mgr \u001b[38;5;241m=\u001b[39m \u001b[38;5;28mself\u001b[39m\u001b[38;5;241m.\u001b[39m_init_mgr(\n\u001b[0;32m    704\u001b[0m         data, axes\u001b[38;5;241m=\u001b[39m{\u001b[38;5;124m\"\u001b[39m\u001b[38;5;124mindex\u001b[39m\u001b[38;5;124m\"\u001b[39m: index, \u001b[38;5;124m\"\u001b[39m\u001b[38;5;124mcolumns\u001b[39m\u001b[38;5;124m\"\u001b[39m: columns}, dtype\u001b[38;5;241m=\u001b[39mdtype, copy\u001b[38;5;241m=\u001b[39mcopy\n\u001b[0;32m    705\u001b[0m     )\n\u001b[0;32m    707\u001b[0m \u001b[38;5;28;01melif\u001b[39;00m \u001b[38;5;28misinstance\u001b[39m(data, \u001b[38;5;28mdict\u001b[39m):\n\u001b[0;32m    708\u001b[0m     \u001b[38;5;66;03m# GH#38939 de facto copy defaults to False only in non-dict cases\u001b[39;00m\n\u001b[1;32m--> 709\u001b[0m     mgr \u001b[38;5;241m=\u001b[39m dict_to_mgr(data, index, columns, dtype\u001b[38;5;241m=\u001b[39mdtype, copy\u001b[38;5;241m=\u001b[39mcopy, typ\u001b[38;5;241m=\u001b[39mmanager)\n\u001b[0;32m    710\u001b[0m \u001b[38;5;28;01melif\u001b[39;00m \u001b[38;5;28misinstance\u001b[39m(data, ma\u001b[38;5;241m.\u001b[39mMaskedArray):\n\u001b[0;32m    711\u001b[0m     \u001b[38;5;28;01mfrom\u001b[39;00m \u001b[38;5;21;01mnumpy\u001b[39;00m\u001b[38;5;21;01m.\u001b[39;00m\u001b[38;5;21;01mma\u001b[39;00m \u001b[38;5;28;01mimport\u001b[39;00m mrecords\n",
      "File \u001b[1;32m~\\anaconda3\\Lib\\site-packages\\pandas\\core\\internals\\construction.py:481\u001b[0m, in \u001b[0;36mdict_to_mgr\u001b[1;34m(data, index, columns, dtype, typ, copy)\u001b[0m\n\u001b[0;32m    477\u001b[0m     \u001b[38;5;28;01melse\u001b[39;00m:\n\u001b[0;32m    478\u001b[0m         \u001b[38;5;66;03m# dtype check to exclude e.g. range objects, scalars\u001b[39;00m\n\u001b[0;32m    479\u001b[0m         arrays \u001b[38;5;241m=\u001b[39m [x\u001b[38;5;241m.\u001b[39mcopy() \u001b[38;5;28;01mif\u001b[39;00m \u001b[38;5;28mhasattr\u001b[39m(x, \u001b[38;5;124m\"\u001b[39m\u001b[38;5;124mdtype\u001b[39m\u001b[38;5;124m\"\u001b[39m) \u001b[38;5;28;01melse\u001b[39;00m x \u001b[38;5;28;01mfor\u001b[39;00m x \u001b[38;5;129;01min\u001b[39;00m arrays]\n\u001b[1;32m--> 481\u001b[0m \u001b[38;5;28;01mreturn\u001b[39;00m arrays_to_mgr(arrays, columns, index, dtype\u001b[38;5;241m=\u001b[39mdtype, typ\u001b[38;5;241m=\u001b[39mtyp, consolidate\u001b[38;5;241m=\u001b[39mcopy)\n",
      "File \u001b[1;32m~\\anaconda3\\Lib\\site-packages\\pandas\\core\\internals\\construction.py:115\u001b[0m, in \u001b[0;36marrays_to_mgr\u001b[1;34m(arrays, columns, index, dtype, verify_integrity, typ, consolidate)\u001b[0m\n\u001b[0;32m    112\u001b[0m \u001b[38;5;28;01mif\u001b[39;00m verify_integrity:\n\u001b[0;32m    113\u001b[0m     \u001b[38;5;66;03m# figure out the index, if necessary\u001b[39;00m\n\u001b[0;32m    114\u001b[0m     \u001b[38;5;28;01mif\u001b[39;00m index \u001b[38;5;129;01mis\u001b[39;00m \u001b[38;5;28;01mNone\u001b[39;00m:\n\u001b[1;32m--> 115\u001b[0m         index \u001b[38;5;241m=\u001b[39m _extract_index(arrays)\n\u001b[0;32m    116\u001b[0m     \u001b[38;5;28;01melse\u001b[39;00m:\n\u001b[0;32m    117\u001b[0m         index \u001b[38;5;241m=\u001b[39m ensure_index(index)\n",
      "File \u001b[1;32m~\\anaconda3\\Lib\\site-packages\\pandas\\core\\internals\\construction.py:655\u001b[0m, in \u001b[0;36m_extract_index\u001b[1;34m(data)\u001b[0m\n\u001b[0;32m    653\u001b[0m lengths \u001b[38;5;241m=\u001b[39m \u001b[38;5;28mlist\u001b[39m(\u001b[38;5;28mset\u001b[39m(raw_lengths))\n\u001b[0;32m    654\u001b[0m \u001b[38;5;28;01mif\u001b[39;00m \u001b[38;5;28mlen\u001b[39m(lengths) \u001b[38;5;241m>\u001b[39m \u001b[38;5;241m1\u001b[39m:\n\u001b[1;32m--> 655\u001b[0m     \u001b[38;5;28;01mraise\u001b[39;00m \u001b[38;5;167;01mValueError\u001b[39;00m(\u001b[38;5;124m\"\u001b[39m\u001b[38;5;124mAll arrays must be of the same length\u001b[39m\u001b[38;5;124m\"\u001b[39m)\n\u001b[0;32m    657\u001b[0m \u001b[38;5;28;01mif\u001b[39;00m have_dicts:\n\u001b[0;32m    658\u001b[0m     \u001b[38;5;28;01mraise\u001b[39;00m \u001b[38;5;167;01mValueError\u001b[39;00m(\n\u001b[0;32m    659\u001b[0m         \u001b[38;5;124m\"\u001b[39m\u001b[38;5;124mMixing dicts with non-Series may lead to ambiguous ordering.\u001b[39m\u001b[38;5;124m\"\u001b[39m\n\u001b[0;32m    660\u001b[0m     )\n",
      "\u001b[1;31mValueError\u001b[0m: All arrays must be of the same length"
     ]
    }
   ],
   "source": [
    "df = pd.DataFrame({'brand':brand,'price':price,'ProductDes':product_des})\n",
    "df"
   ]
  },
  {
   "cell_type": "code",
   "execution_count": null,
   "id": "94c9891f",
   "metadata": {},
   "outputs": [],
   "source": [
    "# Answer 5\n",
    "\n",
    "Q5: Go to webpage https://www.amazon.in/ Enter “Laptop” in the search field and then click the search icon. Then set CPU\n",
    "Type filter to “Intel Core i7” as shown in the below image\n",
    "Aftersetting the filters scrape first 10 laptops data. You have to scrape 3 attributes for each laptop:\n",
    "1. Title\n",
    "2. Ratings\n",
    "3. Price\n"
   ]
  },
  {
   "cell_type": "code",
   "execution_count": 56,
   "id": "a0f6634e",
   "metadata": {},
   "outputs": [],
   "source": [
    "driver = webdriver.Chrome()\n",
    "driver.get(\"https://www.amazon.in\")"
   ]
  },
  {
   "cell_type": "code",
   "execution_count": 57,
   "id": "1ee0e18c",
   "metadata": {},
   "outputs": [],
   "source": [
    "search_col=driver.find_element(By.XPATH,\"//input[@class='nav-input nav-progressive-attribute']\")\n",
    "search_col.send_keys('laptop')"
   ]
  },
  {
   "cell_type": "code",
   "execution_count": 60,
   "id": "17072f53",
   "metadata": {},
   "outputs": [],
   "source": [
    "search_button=driver.find_elements(By.XPATH,\"//input[@class='nav-input nav-progressive-attribute']\")\n",
    "search_button[1].click()"
   ]
  },
  {
   "cell_type": "code",
   "execution_count": 64,
   "id": "0e714595",
   "metadata": {},
   "outputs": [],
   "source": [
    "i7=driver.find_elements(By.XPATH,'//div[@class=\"a-checkbox a-checkbox-fancy s-navigation-checkbox aok-float-left\"]')\n",
    "i7[1].click()\n",
    "#for i in i7:\n",
    "    #print(i.text)\n",
    "#if(i.text)=='Intel Core i7':\n",
    "   # i.click()\n",
    "#break\n",
    "    "
   ]
  },
  {
   "cell_type": "code",
   "execution_count": 70,
   "id": "2b9a6f74",
   "metadata": {},
   "outputs": [
    {
     "data": {
      "text/plain": [
       "[<selenium.webdriver.remote.webelement.WebElement (session=\"465c47a1ce31512650225bfe15987cb5\", element=\"f.2A430952CDBACEC0DCFC04C648869455.d.CF23FC59EE18025A2F88DD8112E985D1.e.64261\")>,\n",
       " <selenium.webdriver.remote.webelement.WebElement (session=\"465c47a1ce31512650225bfe15987cb5\", element=\"f.2A430952CDBACEC0DCFC04C648869455.d.CF23FC59EE18025A2F88DD8112E985D1.e.64262\")>,\n",
       " <selenium.webdriver.remote.webelement.WebElement (session=\"465c47a1ce31512650225bfe15987cb5\", element=\"f.2A430952CDBACEC0DCFC04C648869455.d.CF23FC59EE18025A2F88DD8112E985D1.e.64263\")>,\n",
       " <selenium.webdriver.remote.webelement.WebElement (session=\"465c47a1ce31512650225bfe15987cb5\", element=\"f.2A430952CDBACEC0DCFC04C648869455.d.CF23FC59EE18025A2F88DD8112E985D1.e.64264\")>,\n",
       " <selenium.webdriver.remote.webelement.WebElement (session=\"465c47a1ce31512650225bfe15987cb5\", element=\"f.2A430952CDBACEC0DCFC04C648869455.d.CF23FC59EE18025A2F88DD8112E985D1.e.64265\")>,\n",
       " <selenium.webdriver.remote.webelement.WebElement (session=\"465c47a1ce31512650225bfe15987cb5\", element=\"f.2A430952CDBACEC0DCFC04C648869455.d.CF23FC59EE18025A2F88DD8112E985D1.e.64266\")>,\n",
       " <selenium.webdriver.remote.webelement.WebElement (session=\"465c47a1ce31512650225bfe15987cb5\", element=\"f.2A430952CDBACEC0DCFC04C648869455.d.CF23FC59EE18025A2F88DD8112E985D1.e.64267\")>,\n",
       " <selenium.webdriver.remote.webelement.WebElement (session=\"465c47a1ce31512650225bfe15987cb5\", element=\"f.2A430952CDBACEC0DCFC04C648869455.d.CF23FC59EE18025A2F88DD8112E985D1.e.64268\")>,\n",
       " <selenium.webdriver.remote.webelement.WebElement (session=\"465c47a1ce31512650225bfe15987cb5\", element=\"f.2A430952CDBACEC0DCFC04C648869455.d.CF23FC59EE18025A2F88DD8112E985D1.e.64269\")>,\n",
       " <selenium.webdriver.remote.webelement.WebElement (session=\"465c47a1ce31512650225bfe15987cb5\", element=\"f.2A430952CDBACEC0DCFC04C648869455.d.CF23FC59EE18025A2F88DD8112E985D1.e.64270\")>,\n",
       " <selenium.webdriver.remote.webelement.WebElement (session=\"465c47a1ce31512650225bfe15987cb5\", element=\"f.2A430952CDBACEC0DCFC04C648869455.d.CF23FC59EE18025A2F88DD8112E985D1.e.64271\")>,\n",
       " <selenium.webdriver.remote.webelement.WebElement (session=\"465c47a1ce31512650225bfe15987cb5\", element=\"f.2A430952CDBACEC0DCFC04C648869455.d.CF23FC59EE18025A2F88DD8112E985D1.e.64272\")>,\n",
       " <selenium.webdriver.remote.webelement.WebElement (session=\"465c47a1ce31512650225bfe15987cb5\", element=\"f.2A430952CDBACEC0DCFC04C648869455.d.CF23FC59EE18025A2F88DD8112E985D1.e.64273\")>,\n",
       " <selenium.webdriver.remote.webelement.WebElement (session=\"465c47a1ce31512650225bfe15987cb5\", element=\"f.2A430952CDBACEC0DCFC04C648869455.d.CF23FC59EE18025A2F88DD8112E985D1.e.64274\")>,\n",
       " <selenium.webdriver.remote.webelement.WebElement (session=\"465c47a1ce31512650225bfe15987cb5\", element=\"f.2A430952CDBACEC0DCFC04C648869455.d.CF23FC59EE18025A2F88DD8112E985D1.e.64275\")>,\n",
       " <selenium.webdriver.remote.webelement.WebElement (session=\"465c47a1ce31512650225bfe15987cb5\", element=\"f.2A430952CDBACEC0DCFC04C648869455.d.CF23FC59EE18025A2F88DD8112E985D1.e.64276\")>,\n",
       " <selenium.webdriver.remote.webelement.WebElement (session=\"465c47a1ce31512650225bfe15987cb5\", element=\"f.2A430952CDBACEC0DCFC04C648869455.d.CF23FC59EE18025A2F88DD8112E985D1.e.64277\")>,\n",
       " <selenium.webdriver.remote.webelement.WebElement (session=\"465c47a1ce31512650225bfe15987cb5\", element=\"f.2A430952CDBACEC0DCFC04C648869455.d.CF23FC59EE18025A2F88DD8112E985D1.e.64278\")>,\n",
       " <selenium.webdriver.remote.webelement.WebElement (session=\"465c47a1ce31512650225bfe15987cb5\", element=\"f.2A430952CDBACEC0DCFC04C648869455.d.CF23FC59EE18025A2F88DD8112E985D1.e.64279\")>,\n",
       " <selenium.webdriver.remote.webelement.WebElement (session=\"465c47a1ce31512650225bfe15987cb5\", element=\"f.2A430952CDBACEC0DCFC04C648869455.d.CF23FC59EE18025A2F88DD8112E985D1.e.64280\")>,\n",
       " <selenium.webdriver.remote.webelement.WebElement (session=\"465c47a1ce31512650225bfe15987cb5\", element=\"f.2A430952CDBACEC0DCFC04C648869455.d.CF23FC59EE18025A2F88DD8112E985D1.e.64281\")>,\n",
       " <selenium.webdriver.remote.webelement.WebElement (session=\"465c47a1ce31512650225bfe15987cb5\", element=\"f.2A430952CDBACEC0DCFC04C648869455.d.CF23FC59EE18025A2F88DD8112E985D1.e.64282\")>,\n",
       " <selenium.webdriver.remote.webelement.WebElement (session=\"465c47a1ce31512650225bfe15987cb5\", element=\"f.2A430952CDBACEC0DCFC04C648869455.d.CF23FC59EE18025A2F88DD8112E985D1.e.64283\")>,\n",
       " <selenium.webdriver.remote.webelement.WebElement (session=\"465c47a1ce31512650225bfe15987cb5\", element=\"f.2A430952CDBACEC0DCFC04C648869455.d.CF23FC59EE18025A2F88DD8112E985D1.e.64284\")>,\n",
       " 'MSI Modern 14, Intel 12th Gen. i7-1255U, 36CM FHD 60Hz Laptop (16GB/512GB NVMe SSD/Windows 11 Home/Intel Iris Xe Graphics/Classic Black/1.4Kg), C12M-459IN',\n",
       " 'HP Laptop 15s, 12th Gen Intel Core i7-1255U, 15.6-inch (39.6 cm), FHD, 16GB DDR4, 512GB SSD, Intel Iris Xe graphics, Backlit KB, Thin & light (Win 11, MSO 2021, Silver, 1.69 kg), fq5190TU',\n",
       " 'Lenovo IdeaPad 3 Intel Core i7 12th Gen 1255U - (16 GB/512 GB SSD/Windows 11 Home) 15IAU7 Laptop 82RK011GIN (39.62 cm, Arctic Grey, 1.63 Kg, with MS Office)',\n",
       " 'Lenovo IdeaPad Slim 5 Intel Core i7 13700H 16\" (40.6cm) 2.5K IPS 350Nits Laptop (16GB/1TB SSD/Win 11/Office 2021/Backlit KB/FHD 1080p +IR Camera/Alexa/3 month Game Pass/Cloud Grey/1.9Kg), 82XF0078IN',\n",
       " 'HP Pavilion 14 12th Gen Intel Core i7 16GB SDRAM/1TB SSD 14 inch(35.6cm) FHD,IPS,Micro-Edge Display/Intel Iris Xe Graphics/B&O/Win 11/Alexa Built-in/Backlit KB/FPR/MSO 2021/Natural Silver,14-dv2015TU',\n",
       " 'ASUS Vivobook 15, IntelCore i7-12650H 12th Gen, 15.6\" (39.62 cm) FHD, Thin and Light Laptop (16 GB RAM/512GB SSD/Win11/Office 2021/Backlit/42WHr /Silver/1.75), X1502ZA-EJ742WS',\n",
       " 'Dell [Smartchoice Inspiron 5430 Thin & Light Laptop, 13th Gen Intel Core i7-1360P/16GB/1TB SSD/14.0\" (35.56cm) FHD+ WVA 250 nits/Backlit KB + FPR/Windows 11 + MSO\\'21/15 Month McAfee/Silver/1.59kg',\n",
       " 'HP Pavilion 14, 11th Gen Intel Core i7-1195G7, 14-inch (35.6 cm), FHD, 16GB DDR4, 1TB SSD, Intel Iris Xe graphics, FPR, Backlit KB, Audio by B&O (Win 11, MSO 2019, Silver, 1.41 kg), dv1029TU',\n",
       " 'Dell Latitude 7480 14in FHD Laptop PC - Intel Core i7-6600U 2.6GHz 16GB 512GB SSD Windows 10 Professional (Renewed)',\n",
       " 'Dell Inspiron 3530 Laptop, 13th Generation Intel Core i7-1355U Processor, 16GB, 512GB, 15.6\" (39.62cm) FHD 120Hz Display, Backlit KB, Win 11 + MSO\\'21, 15 Month McAfee, Silver, Thin & Light-1.62kg']"
      ]
     },
     "execution_count": 70,
     "metadata": {},
     "output_type": "execute_result"
    }
   ],
   "source": [
    "title=[]\n",
    "title=driver.find_elements(By.XPATH,'//span[@class=\"a-size-medium a-color-base a-text-normal\"]')\n",
    "title[0:10]\n",
    "for i in title[0:10]:\n",
    "    title.append(i.text)\n",
    "title   "
   ]
  },
  {
   "cell_type": "code",
   "execution_count": 69,
   "id": "24200689",
   "metadata": {},
   "outputs": [
    {
     "data": {
      "text/plain": [
       "[<selenium.webdriver.remote.webelement.WebElement (session=\"465c47a1ce31512650225bfe15987cb5\", element=\"f.2A430952CDBACEC0DCFC04C648869455.d.CF23FC59EE18025A2F88DD8112E985D1.e.64285\")>,\n",
       " <selenium.webdriver.remote.webelement.WebElement (session=\"465c47a1ce31512650225bfe15987cb5\", element=\"f.2A430952CDBACEC0DCFC04C648869455.d.CF23FC59EE18025A2F88DD8112E985D1.e.64286\")>,\n",
       " <selenium.webdriver.remote.webelement.WebElement (session=\"465c47a1ce31512650225bfe15987cb5\", element=\"f.2A430952CDBACEC0DCFC04C648869455.d.CF23FC59EE18025A2F88DD8112E985D1.e.64287\")>,\n",
       " <selenium.webdriver.remote.webelement.WebElement (session=\"465c47a1ce31512650225bfe15987cb5\", element=\"f.2A430952CDBACEC0DCFC04C648869455.d.CF23FC59EE18025A2F88DD8112E985D1.e.64288\")>,\n",
       " <selenium.webdriver.remote.webelement.WebElement (session=\"465c47a1ce31512650225bfe15987cb5\", element=\"f.2A430952CDBACEC0DCFC04C648869455.d.CF23FC59EE18025A2F88DD8112E985D1.e.64289\")>,\n",
       " <selenium.webdriver.remote.webelement.WebElement (session=\"465c47a1ce31512650225bfe15987cb5\", element=\"f.2A430952CDBACEC0DCFC04C648869455.d.CF23FC59EE18025A2F88DD8112E985D1.e.64290\")>,\n",
       " <selenium.webdriver.remote.webelement.WebElement (session=\"465c47a1ce31512650225bfe15987cb5\", element=\"f.2A430952CDBACEC0DCFC04C648869455.d.CF23FC59EE18025A2F88DD8112E985D1.e.64291\")>,\n",
       " <selenium.webdriver.remote.webelement.WebElement (session=\"465c47a1ce31512650225bfe15987cb5\", element=\"f.2A430952CDBACEC0DCFC04C648869455.d.CF23FC59EE18025A2F88DD8112E985D1.e.64292\")>,\n",
       " <selenium.webdriver.remote.webelement.WebElement (session=\"465c47a1ce31512650225bfe15987cb5\", element=\"f.2A430952CDBACEC0DCFC04C648869455.d.CF23FC59EE18025A2F88DD8112E985D1.e.64293\")>,\n",
       " <selenium.webdriver.remote.webelement.WebElement (session=\"465c47a1ce31512650225bfe15987cb5\", element=\"f.2A430952CDBACEC0DCFC04C648869455.d.CF23FC59EE18025A2F88DD8112E985D1.e.64294\")>,\n",
       " <selenium.webdriver.remote.webelement.WebElement (session=\"465c47a1ce31512650225bfe15987cb5\", element=\"f.2A430952CDBACEC0DCFC04C648869455.d.CF23FC59EE18025A2F88DD8112E985D1.e.64295\")>,\n",
       " <selenium.webdriver.remote.webelement.WebElement (session=\"465c47a1ce31512650225bfe15987cb5\", element=\"f.2A430952CDBACEC0DCFC04C648869455.d.CF23FC59EE18025A2F88DD8112E985D1.e.64296\")>,\n",
       " <selenium.webdriver.remote.webelement.WebElement (session=\"465c47a1ce31512650225bfe15987cb5\", element=\"f.2A430952CDBACEC0DCFC04C648869455.d.CF23FC59EE18025A2F88DD8112E985D1.e.64297\")>,\n",
       " <selenium.webdriver.remote.webelement.WebElement (session=\"465c47a1ce31512650225bfe15987cb5\", element=\"f.2A430952CDBACEC0DCFC04C648869455.d.CF23FC59EE18025A2F88DD8112E985D1.e.64298\")>,\n",
       " <selenium.webdriver.remote.webelement.WebElement (session=\"465c47a1ce31512650225bfe15987cb5\", element=\"f.2A430952CDBACEC0DCFC04C648869455.d.CF23FC59EE18025A2F88DD8112E985D1.e.64299\")>,\n",
       " <selenium.webdriver.remote.webelement.WebElement (session=\"465c47a1ce31512650225bfe15987cb5\", element=\"f.2A430952CDBACEC0DCFC04C648869455.d.CF23FC59EE18025A2F88DD8112E985D1.e.64300\")>,\n",
       " <selenium.webdriver.remote.webelement.WebElement (session=\"465c47a1ce31512650225bfe15987cb5\", element=\"f.2A430952CDBACEC0DCFC04C648869455.d.CF23FC59EE18025A2F88DD8112E985D1.e.64301\")>,\n",
       " <selenium.webdriver.remote.webelement.WebElement (session=\"465c47a1ce31512650225bfe15987cb5\", element=\"f.2A430952CDBACEC0DCFC04C648869455.d.CF23FC59EE18025A2F88DD8112E985D1.e.64302\")>,\n",
       " <selenium.webdriver.remote.webelement.WebElement (session=\"465c47a1ce31512650225bfe15987cb5\", element=\"f.2A430952CDBACEC0DCFC04C648869455.d.CF23FC59EE18025A2F88DD8112E985D1.e.64303\")>,\n",
       " <selenium.webdriver.remote.webelement.WebElement (session=\"465c47a1ce31512650225bfe15987cb5\", element=\"f.2A430952CDBACEC0DCFC04C648869455.d.CF23FC59EE18025A2F88DD8112E985D1.e.64304\")>,\n",
       " <selenium.webdriver.remote.webelement.WebElement (session=\"465c47a1ce31512650225bfe15987cb5\", element=\"f.2A430952CDBACEC0DCFC04C648869455.d.CF23FC59EE18025A2F88DD8112E985D1.e.64305\")>,\n",
       " <selenium.webdriver.remote.webelement.WebElement (session=\"465c47a1ce31512650225bfe15987cb5\", element=\"f.2A430952CDBACEC0DCFC04C648869455.d.CF23FC59EE18025A2F88DD8112E985D1.e.64306\")>,\n",
       " <selenium.webdriver.remote.webelement.WebElement (session=\"465c47a1ce31512650225bfe15987cb5\", element=\"f.2A430952CDBACEC0DCFC04C648869455.d.CF23FC59EE18025A2F88DD8112E985D1.e.64307\")>,\n",
       " <selenium.webdriver.remote.webelement.WebElement (session=\"465c47a1ce31512650225bfe15987cb5\", element=\"f.2A430952CDBACEC0DCFC04C648869455.d.CF23FC59EE18025A2F88DD8112E985D1.e.64308\")>,\n",
       " <selenium.webdriver.remote.webelement.WebElement (session=\"465c47a1ce31512650225bfe15987cb5\", element=\"f.2A430952CDBACEC0DCFC04C648869455.d.CF23FC59EE18025A2F88DD8112E985D1.e.64309\")>,\n",
       " '47,990',\n",
       " '64,990',\n",
       " '47,990',\n",
       " '65,490',\n",
       " '62,009',\n",
       " '84,190',\n",
       " '78,850',\n",
       " '64,990',\n",
       " '80,490',\n",
       " '66,990']"
      ]
     },
     "execution_count": 69,
     "metadata": {},
     "output_type": "execute_result"
    }
   ],
   "source": [
    "price=[]\n",
    "price =driver.find_elements(By.XPATH,'//span[@class=\"a-price-whole\"]')\n",
    "price[0:10]\n",
    "for i in price[0:10]:\n",
    "    price.append(i.text)\n",
    "price   "
   ]
  },
  {
   "cell_type": "code",
   "execution_count": 67,
   "id": "2ed3ea6c",
   "metadata": {},
   "outputs": [
    {
     "data": {
      "text/plain": [
       "[<selenium.webdriver.remote.webelement.WebElement (session=\"465c47a1ce31512650225bfe15987cb5\", element=\"f.2A430952CDBACEC0DCFC04C648869455.d.D85D7ACC5B7C7DC55DB1B8C78CE701E3.e.40887\")>,\n",
       " <selenium.webdriver.remote.webelement.WebElement (session=\"465c47a1ce31512650225bfe15987cb5\", element=\"f.2A430952CDBACEC0DCFC04C648869455.d.D85D7ACC5B7C7DC55DB1B8C78CE701E3.e.41022\")>,\n",
       " <selenium.webdriver.remote.webelement.WebElement (session=\"465c47a1ce31512650225bfe15987cb5\", element=\"f.2A430952CDBACEC0DCFC04C648869455.d.D85D7ACC5B7C7DC55DB1B8C78CE701E3.e.41149\")>,\n",
       " <selenium.webdriver.remote.webelement.WebElement (session=\"465c47a1ce31512650225bfe15987cb5\", element=\"f.2A430952CDBACEC0DCFC04C648869455.d.D85D7ACC5B7C7DC55DB1B8C78CE701E3.e.41290\")>,\n",
       " <selenium.webdriver.remote.webelement.WebElement (session=\"465c47a1ce31512650225bfe15987cb5\", element=\"f.2A430952CDBACEC0DCFC04C648869455.d.D85D7ACC5B7C7DC55DB1B8C78CE701E3.e.41417\")>,\n",
       " <selenium.webdriver.remote.webelement.WebElement (session=\"465c47a1ce31512650225bfe15987cb5\", element=\"f.2A430952CDBACEC0DCFC04C648869455.d.D85D7ACC5B7C7DC55DB1B8C78CE701E3.e.41581\")>,\n",
       " <selenium.webdriver.remote.webelement.WebElement (session=\"465c47a1ce31512650225bfe15987cb5\", element=\"f.2A430952CDBACEC0DCFC04C648869455.d.D85D7ACC5B7C7DC55DB1B8C78CE701E3.e.41723\")>,\n",
       " <selenium.webdriver.remote.webelement.WebElement (session=\"465c47a1ce31512650225bfe15987cb5\", element=\"f.2A430952CDBACEC0DCFC04C648869455.d.D85D7ACC5B7C7DC55DB1B8C78CE701E3.e.41850\")>,\n",
       " <selenium.webdriver.remote.webelement.WebElement (session=\"465c47a1ce31512650225bfe15987cb5\", element=\"f.2A430952CDBACEC0DCFC04C648869455.d.D85D7ACC5B7C7DC55DB1B8C78CE701E3.e.42013\")>,\n",
       " <selenium.webdriver.remote.webelement.WebElement (session=\"465c47a1ce31512650225bfe15987cb5\", element=\"f.2A430952CDBACEC0DCFC04C648869455.d.D85D7ACC5B7C7DC55DB1B8C78CE701E3.e.42061\")>,\n",
       " <selenium.webdriver.remote.webelement.WebElement (session=\"465c47a1ce31512650225bfe15987cb5\", element=\"f.2A430952CDBACEC0DCFC04C648869455.d.D85D7ACC5B7C7DC55DB1B8C78CE701E3.e.42179\")>,\n",
       " <selenium.webdriver.remote.webelement.WebElement (session=\"465c47a1ce31512650225bfe15987cb5\", element=\"f.2A430952CDBACEC0DCFC04C648869455.d.D85D7ACC5B7C7DC55DB1B8C78CE701E3.e.42311\")>,\n",
       " <selenium.webdriver.remote.webelement.WebElement (session=\"465c47a1ce31512650225bfe15987cb5\", element=\"f.2A430952CDBACEC0DCFC04C648869455.d.D85D7ACC5B7C7DC55DB1B8C78CE701E3.e.42446\")>,\n",
       " <selenium.webdriver.remote.webelement.WebElement (session=\"465c47a1ce31512650225bfe15987cb5\", element=\"f.2A430952CDBACEC0DCFC04C648869455.d.D85D7ACC5B7C7DC55DB1B8C78CE701E3.e.42573\")>,\n",
       " <selenium.webdriver.remote.webelement.WebElement (session=\"465c47a1ce31512650225bfe15987cb5\", element=\"f.2A430952CDBACEC0DCFC04C648869455.d.D85D7ACC5B7C7DC55DB1B8C78CE701E3.e.42838\")>,\n",
       " <selenium.webdriver.remote.webelement.WebElement (session=\"465c47a1ce31512650225bfe15987cb5\", element=\"f.2A430952CDBACEC0DCFC04C648869455.d.D85D7ACC5B7C7DC55DB1B8C78CE701E3.e.42971\")>,\n",
       " <selenium.webdriver.remote.webelement.WebElement (session=\"465c47a1ce31512650225bfe15987cb5\", element=\"f.2A430952CDBACEC0DCFC04C648869455.d.D85D7ACC5B7C7DC55DB1B8C78CE701E3.e.43098\")>,\n",
       " <selenium.webdriver.remote.webelement.WebElement (session=\"465c47a1ce31512650225bfe15987cb5\", element=\"f.2A430952CDBACEC0DCFC04C648869455.d.D85D7ACC5B7C7DC55DB1B8C78CE701E3.e.43241\")>,\n",
       " <selenium.webdriver.remote.webelement.WebElement (session=\"465c47a1ce31512650225bfe15987cb5\", element=\"f.2A430952CDBACEC0DCFC04C648869455.d.D85D7ACC5B7C7DC55DB1B8C78CE701E3.e.43323\")>,\n",
       " <selenium.webdriver.remote.webelement.WebElement (session=\"465c47a1ce31512650225bfe15987cb5\", element=\"f.2A430952CDBACEC0DCFC04C648869455.d.D85D7ACC5B7C7DC55DB1B8C78CE701E3.e.43470\")>,\n",
       " <selenium.webdriver.remote.webelement.WebElement (session=\"465c47a1ce31512650225bfe15987cb5\", element=\"f.2A430952CDBACEC0DCFC04C648869455.d.D85D7ACC5B7C7DC55DB1B8C78CE701E3.e.43564\")>,\n",
       " <selenium.webdriver.remote.webelement.WebElement (session=\"465c47a1ce31512650225bfe15987cb5\", element=\"f.2A430952CDBACEC0DCFC04C648869455.d.D85D7ACC5B7C7DC55DB1B8C78CE701E3.e.43691\")>,\n",
       " <selenium.webdriver.remote.webelement.WebElement (session=\"465c47a1ce31512650225bfe15987cb5\", element=\"f.2A430952CDBACEC0DCFC04C648869455.d.D85D7ACC5B7C7DC55DB1B8C78CE701E3.e.43824\")>,\n",
       " '',\n",
       " '',\n",
       " '',\n",
       " '',\n",
       " '',\n",
       " '',\n",
       " '',\n",
       " '',\n",
       " '',\n",
       " '',\n",
       " '',\n",
       " '',\n",
       " '',\n",
       " '',\n",
       " '',\n",
       " '',\n",
       " '',\n",
       " '',\n",
       " '',\n",
       " '',\n",
       " '',\n",
       " '',\n",
       " '']"
      ]
     },
     "execution_count": 67,
     "metadata": {},
     "output_type": "execute_result"
    }
   ],
   "source": [
    "rating=[]\n",
    "rating =driver.find_elements(By.XPATH,'//i[@data-cy=\"reviews-ratings-slot\"]')\n",
    "rating[0:100]\n",
    "for i in rating[0:100]:\n",
    "    rating.append(i.text)\n",
    "rating   "
   ]
  },
  {
   "cell_type": "code",
   "execution_count": 74,
   "id": "7ceb6de7",
   "metadata": {},
   "outputs": [],
   "source": [
    "print(len(title),len(price),len(rating))"
   ]
  },
  {
   "cell_type": "code",
   "execution_count": 73,
   "id": "d2f76054",
   "metadata": {},
   "outputs": [],
   "source": [
    "df = pd.DataFrame({'Title':title,'Price':price,'Rating':rating})\n",
    "df"
   ]
  },
  {
   "cell_type": "code",
   "execution_count": null,
   "id": "b79918ff",
   "metadata": {},
   "outputs": [],
   "source": [
    "# Answer 6\n",
    "Q6: Write a python program to scrape data for Top 1000 Quotes of All Time.\n",
    "The above task will be done in following steps:\n",
    "1. First get the webpagehttps://www.azquotes.com/\n",
    "2. Click on TopQuote\n",
    "3. Than scrap a)Quote b) Author c) Type Of Quotes\n"
   ]
  },
  {
   "cell_type": "code",
   "execution_count": 78,
   "id": "e720a68f",
   "metadata": {},
   "outputs": [],
   "source": [
    "driver = webdriver.Chrome()\n",
    "driver.get(\"https://www.azquotes.com\")"
   ]
  },
  {
   "cell_type": "code",
   "execution_count": 80,
   "id": "b3b49214",
   "metadata": {},
   "outputs": [],
   "source": [
    "search_col=driver.find_element(By.XPATH,'//a[@href=\"/top_quotes.html\"]')\n",
    "search_col.send_keys('TopQuote')"
   ]
  },
  {
   "cell_type": "code",
   "execution_count": null,
   "id": "e0665c44",
   "metadata": {},
   "outputs": [],
   "source": [
    "search_button=driver.find_elements(By.XPATH,\"//input[@class='nav-input nav-progressive-attribute']\")\n",
    "search_button[1].click()"
   ]
  },
  {
   "cell_type": "code",
   "execution_count": null,
   "id": "1a23c3b4",
   "metadata": {},
   "outputs": [],
   "source": [
    "quote=[]\n",
    "quote =driver.find_elements(By.XPATH,'//i[@data-cy=\"reviews-ratings-slot\"]')\n",
    "quote[0:1000]\n",
    "for i in quote[0:1000]:\n",
    "    quote.append(i.text)\n",
    "quote   "
   ]
  },
  {
   "cell_type": "code",
   "execution_count": null,
   "id": "d32e24f8",
   "metadata": {},
   "outputs": [],
   "source": [
    "author=[]\n",
    "author =driver.find_elements(By.XPATH,'//i[@data-cy=\"reviews-ratings-slot\"]')\n",
    "author[0:1000]\n",
    "for i in author[0:1000]:\n",
    "    author.append(i.text)\n",
    "author  "
   ]
  },
  {
   "cell_type": "code",
   "execution_count": null,
   "id": "1c3a2e41",
   "metadata": {},
   "outputs": [],
   "source": [
    "type_of_quote=[]\n",
    "type_of_quote =driver.find_elements(By.XPATH,'//i[@data-cy=\"reviews-ratings-slot\"]')\n",
    "type_of_quote[0:1000]\n",
    "for i in type_of_quote[0:1000]:\n",
    "    type_of_quote.append(i.text)\n",
    "type_of_quotequote   "
   ]
  },
  {
   "cell_type": "code",
   "execution_count": null,
   "id": "d7720a63",
   "metadata": {},
   "outputs": [],
   "source": [
    "print(len(quote),len(author),len(type_of_quote))"
   ]
  },
  {
   "cell_type": "code",
   "execution_count": null,
   "id": "0ba394cb",
   "metadata": {},
   "outputs": [],
   "source": [
    "df = pd.DataFrame({'Quote':quote,'Author':author,'Type of quote':type_of_quote})\n",
    "df"
   ]
  },
  {
   "cell_type": "code",
   "execution_count": null,
   "id": "9c1cbe71",
   "metadata": {},
   "outputs": [],
   "source": []
  },
  {
   "cell_type": "code",
   "execution_count": null,
   "id": "8c66ed11",
   "metadata": {},
   "outputs": [],
   "source": [
    "# Answer 7\n",
    "\n",
    "Q7: Write a python program to display list of respected former Prime Ministers of India (i.e. Name,\n",
    "Born-Dead, Term of office, Remarks) from https://www.jagranjosh.com/general-knowledge/list-of\u0002all-prime-ministers-of-india-1473165149-1\n",
    "scrap the mentioned data and make the DataFrame"
   ]
  },
  {
   "cell_type": "code",
   "execution_count": null,
   "id": "821ba38a",
   "metadata": {},
   "outputs": [],
   "source": [
    "driver = webdriver.Chrome()\n",
    "driver.get(\"https://www.jagranjosh.com/general-knowledge/list-of\u0002all-prime-ministers-of-india-1473165149-1\")"
   ]
  },
  {
   "cell_type": "code",
   "execution_count": null,
   "id": "321b4a59",
   "metadata": {},
   "outputs": [],
   "source": [
    "name=[]\n",
    "name =driver.find_elements(By.XPATH,'//i[@data-cy=\"reviews-ratings-slot\"]')\n",
    "name\n",
    "for i in name:\n",
    "    name.append(i.text)\n",
    "name  "
   ]
  },
  {
   "cell_type": "code",
   "execution_count": null,
   "id": "605a0d41",
   "metadata": {},
   "outputs": [],
   "source": [
    "born_dead=[]\n",
    "born_dead =driver.find_elements(By.XPATH,'//i[@data-cy=\"reviews-ratings-slot\"]')\n",
    "born_dead\n",
    "for i in :born_dead\n",
    "    born_dead.append(i.text)\n",
    "born_dead "
   ]
  },
  {
   "cell_type": "code",
   "execution_count": null,
   "id": "e657810d",
   "metadata": {},
   "outputs": [],
   "source": [
    "term_of_office=[]\n",
    "term_of_office =driver.find_elements(By.XPATH,'//i[@data-cy=\"reviews-ratings-slot\"]')\n",
    "term_of_office\n",
    "for i in term_of_office:\n",
    "    term_of_office.append(i.text)\n",
    "term_of_office"
   ]
  },
  {
   "cell_type": "code",
   "execution_count": null,
   "id": "5cb55e94",
   "metadata": {},
   "outputs": [],
   "source": [
    "remark=[]\n",
    "remark =driver.find_elements(By.XPATH,'//i[@data-cy=\"reviews-ratings-slot\"]')\n",
    "remark\n",
    "for i in remark:\n",
    "    remark.append(i.text)\n",
    "remark"
   ]
  },
  {
   "cell_type": "code",
   "execution_count": null,
   "id": "d87e74bb",
   "metadata": {},
   "outputs": [],
   "source": []
  },
  {
   "cell_type": "code",
   "execution_count": null,
   "id": "d6275a73",
   "metadata": {},
   "outputs": [],
   "source": []
  },
  {
   "cell_type": "code",
   "execution_count": null,
   "id": "0689afe9",
   "metadata": {},
   "outputs": [],
   "source": [
    "print(len(name),len(born_dead),len(term_of_Office),len(remark))"
   ]
  },
  {
   "cell_type": "code",
   "execution_count": null,
   "id": "4fc40053",
   "metadata": {},
   "outputs": [],
   "source": [
    "df = pd.DataFrame({'Name':name,'Born-Dead':born_dead,'Term Of Office':term_of_office,'Remarks':remark})\n",
    "df"
   ]
  },
  {
   "cell_type": "code",
   "execution_count": null,
   "id": "b84f760e",
   "metadata": {},
   "outputs": [],
   "source": [
    "# Answer 8 \n",
    "Q8: Write a python program to display list of 50 Most expensive cars in the world\n",
    "(i.e. Car name and Price) from https://www.motor1.com/\n",
    "This task will be done in following steps:\n",
    "1. First get the webpage https://www.motor1.com/\n",
    "2. Then You have to type in the search bar ’50 most expensive cars’\n",
    "3. Then click on 50 most expensive carsin the world..\n",
    "4. Then scrap thementioned data and make the dataframe"
   ]
  },
  {
   "cell_type": "code",
   "execution_count": null,
   "id": "eb4a2ba0",
   "metadata": {},
   "outputs": [],
   "source": [
    "driver = webdriver.Chrome()\n",
    "driver.get(\"https://www.motor1.com\")"
   ]
  },
  {
   "cell_type": "code",
   "execution_count": null,
   "id": "f3855fa7",
   "metadata": {},
   "outputs": [],
   "source": []
  },
  {
   "cell_type": "code",
   "execution_count": null,
   "id": "95905089",
   "metadata": {},
   "outputs": [],
   "source": [
    "carname=[]\n",
    "carname =driver.find_elements(By.XPATH,'//i[@data-cy=\"reviews-ratings-slot\"]')\n",
    "carname[:50]\n",
    "for i in carname:\n",
    "    carname.append(i.text)\n",
    "carname  "
   ]
  },
  {
   "cell_type": "code",
   "execution_count": null,
   "id": "089c9c6f",
   "metadata": {},
   "outputs": [],
   "source": [
    "price=[]\n",
    "price =driver.find_elements(By.XPATH,'//i[@data-cy=\"reviews-ratings-slot\"]')\n",
    "price[:50]\n",
    "for i in price:\n",
    "    price.append(i.text)\n",
    "price"
   ]
  },
  {
   "cell_type": "code",
   "execution_count": null,
   "id": "94e076b0",
   "metadata": {},
   "outputs": [],
   "source": []
  },
  {
   "cell_type": "code",
   "execution_count": null,
   "id": "8f155f04",
   "metadata": {},
   "outputs": [],
   "source": []
  },
  {
   "cell_type": "code",
   "execution_count": null,
   "id": "7c2aa968",
   "metadata": {},
   "outputs": [],
   "source": [
    "print(len(carname),len(price))"
   ]
  },
  {
   "cell_type": "code",
   "execution_count": null,
   "id": "ba26cfcc",
   "metadata": {},
   "outputs": [],
   "source": [
    "df = pd.DataFrame({'Car Name':carname,'Price':price})\n",
    "df"
   ]
  }
 ],
 "metadata": {
  "kernelspec": {
   "display_name": "Python 3 (ipykernel)",
   "language": "python",
   "name": "python3"
  },
  "language_info": {
   "codemirror_mode": {
    "name": "ipython",
    "version": 3
   },
   "file_extension": ".py",
   "mimetype": "text/x-python",
   "name": "python",
   "nbconvert_exporter": "python",
   "pygments_lexer": "ipython3",
   "version": "3.11.5"
  }
 },
 "nbformat": 4,
 "nbformat_minor": 5
}
