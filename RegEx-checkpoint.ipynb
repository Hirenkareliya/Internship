{
 "cells": [
  {
   "cell_type": "code",
   "execution_count": 6,
   "id": "21bf1d5a",
   "metadata": {},
   "outputs": [
    {
     "name": "stdout",
     "output_type": "stream",
     "text": [
      "Python:Exercises::PHP:exercises:\n"
     ]
    }
   ],
   "source": [
    "# Ansewer-1\n",
    "\n",
    "import re\n",
    "sample='Python Exercises, PHP exercises.'\n",
    "\n",
    "print(re.sub(\"[ ,.]\", \":\", sample))\n"
   ]
  },
  {
   "cell_type": "code",
   "execution_count": 2,
   "id": "56d75bf3",
   "metadata": {},
   "outputs": [],
   "source": [
    "# Answer-2\n",
    "\n",
    "import pandas as pd\n",
    "import re\n",
    "D1= {'SUMMARY' : ['hello, world!', 'XXXXX test', '123four, five:; six...']}\n",
    "\n",
    "df=pd.DataFrame(D1)"
   ]
  },
  {
   "cell_type": "code",
   "execution_count": 17,
   "id": "ca843cf1",
   "metadata": {},
   "outputs": [
    {
     "data": {
      "text/plain": [
       "pandas.core.frame.DataFrame"
      ]
     },
     "execution_count": 17,
     "metadata": {},
     "output_type": "execute_result"
    }
   ],
   "source": [
    "type(df)"
   ]
  },
  {
   "cell_type": "code",
   "execution_count": 18,
   "id": "97d4747b",
   "metadata": {},
   "outputs": [
    {
     "ename": "SyntaxError",
     "evalue": "invalid syntax (2458900648.py, line 1)",
     "output_type": "error",
     "traceback": [
      "\u001b[1;36m  Cell \u001b[1;32mIn[18], line 1\u001b[1;36m\u001b[0m\n\u001b[1;33m    df.[\"SUMMARY\"].[\"hello world\"],['test'],['four'],['five'],['six']\u001b[0m\n\u001b[1;37m       ^\u001b[0m\n\u001b[1;31mSyntaxError\u001b[0m\u001b[1;31m:\u001b[0m invalid syntax\n"
     ]
    }
   ],
   "source": [
    "df.[\"SUMMARY\"].[\"hello world\"],['test'],['four'],['five'],['six']"
   ]
  },
  {
   "cell_type": "code",
   "execution_count": 23,
   "id": "c6a1a4d3",
   "metadata": {},
   "outputs": [
    {
     "ename": "NameError",
     "evalue": "name 'split_by_position' is not defined",
     "output_type": "error",
     "traceback": [
      "\u001b[1;31m---------------------------------------------------------------------------\u001b[0m",
      "\u001b[1;31mNameError\u001b[0m                                 Traceback (most recent call last)",
      "Cell \u001b[1;32mIn[23], line 1\u001b[0m\n\u001b[1;32m----> 1\u001b[0m df\u001b[38;5;241m=\u001b[39mre\u001b[38;5;241m.\u001b[39msplit(\u001b[38;5;124m\"\u001b[39m\u001b[38;5;124m\\\u001b[39m\u001b[38;5;124mS\u001b[39m\u001b[38;5;124m\"\u001b[39m, split_by_position,\u001b[38;5;241m1\u001b[39m)\n",
      "\u001b[1;31mNameError\u001b[0m: name 'split_by_position' is not defined"
     ]
    }
   ],
   "source": [
    "df=re.split(\"\\S\", split_by_position,1)"
   ]
  },
  {
   "cell_type": "code",
   "execution_count": 32,
   "id": "67adfe65",
   "metadata": {},
   "outputs": [
    {
     "ename": "SyntaxError",
     "evalue": "invalid syntax (333920839.py, line 1)",
     "output_type": "error",
     "traceback": [
      "\u001b[1;36m  Cell \u001b[1;32mIn[32], line 1\u001b[1;36m\u001b[0m\n\u001b[1;33m    df.['SUMMARY']=re.sub(',!',' ',df)\u001b[0m\n\u001b[1;37m       ^\u001b[0m\n\u001b[1;31mSyntaxError\u001b[0m\u001b[1;31m:\u001b[0m invalid syntax\n"
     ]
    }
   ],
   "source": [
    "df.['SUMMARY']=re.sub(',!',' ',"
   ]
  },
  {
   "cell_type": "code",
   "execution_count": 30,
   "id": "7db28ee8",
   "metadata": {},
   "outputs": [
    {
     "name": "stdout",
     "output_type": "stream",
     "text": [
      "                  SUMMARY\n",
      "0           hello, world!\n",
      "1              XXXXX test\n",
      "2  123four, five:; six...\n"
     ]
    }
   ],
   "source": [
    "print(df)"
   ]
  },
  {
   "cell_type": "code",
   "execution_count": 161,
   "id": "5c58f22e",
   "metadata": {},
   "outputs": [
    {
     "name": "stdout",
     "output_type": "stream",
     "text": [
      "right\n",
      "india\n",
      "fours\n"
     ]
    }
   ],
   "source": [
    "# Answer-3\n",
    "\n",
    "import pandas as pd\n",
    "import re\n",
    "\n",
    "mystr = \"Sachin was right handed batsman of an india he hits so many fours \"\n",
    "\n",
    "pattern = re.compile(r'\\b\\w{5}\\b')\n",
    "\n",
    "matches= pattern.findall(mystr)\n",
    "for match in matches:\n",
    "    print(match)\n",
    "\n"
   ]
  },
  {
   "cell_type": "code",
   "execution_count": 104,
   "id": "746c74e2",
   "metadata": {},
   "outputs": [
    {
     "name": "stdout",
     "output_type": "stream",
     "text": [
      "['was', 'right', 'india', 'hits', 'many', 'fours']\n"
     ]
    }
   ],
   "source": [
    "# Answer-4\n",
    "\n",
    "import pandas as pd\n",
    "import re\n",
    "\n",
    "mystr = \"Sachin was right handed batsman of an india he hits so many fours \"\n",
    "\n",
    "print(re.findall(r\"\\b\\w{3,5}\\b\", mystr))"
   ]
  },
  {
   "cell_type": "code",
   "execution_count": 38,
   "id": "de950c40",
   "metadata": {},
   "outputs": [
    {
     "ename": "TypeError",
     "evalue": "expected string or bytes-like object, got 'list'",
     "output_type": "error",
     "traceback": [
      "\u001b[1;31m---------------------------------------------------------------------------\u001b[0m",
      "\u001b[1;31mTypeError\u001b[0m                                 Traceback (most recent call last)",
      "Cell \u001b[1;32mIn[38], line 9\u001b[0m\n\u001b[0;32m      6\u001b[0m mystr\u001b[38;5;241m=\u001b[39m [\u001b[38;5;124m\"\u001b[39m\u001b[38;5;124mexample (.com)\u001b[39m\u001b[38;5;124m\"\u001b[39m, \u001b[38;5;124m\"\u001b[39m\u001b[38;5;124mhr@fliprobo (.com)\u001b[39m\u001b[38;5;124m\"\u001b[39m, \u001b[38;5;124m\"\u001b[39m\u001b[38;5;124mgithub (.com)\u001b[39m\u001b[38;5;124m\"\u001b[39m, \u001b[38;5;124m\"\u001b[39m\u001b[38;5;124mHello (Data Science World)\u001b[39m\u001b[38;5;124m\"\u001b[39m, \u001b[38;5;124m\"\u001b[39m\u001b[38;5;124mData (Scientist)\u001b[39m\u001b[38;5;124m\"\u001b[39m]\n\u001b[0;32m      8\u001b[0m pattern \u001b[38;5;241m=\u001b[39m re\u001b[38;5;241m.\u001b[39mcompile(\u001b[38;5;124mr\u001b[39m\u001b[38;5;124m\"\u001b[39m\u001b[38;5;124m\\\u001b[39m\u001b[38;5;124ms*\u001b[39m\u001b[38;5;124m\\\u001b[39m\u001b[38;5;124m([^)]*\u001b[39m\u001b[38;5;124m\\\u001b[39m\u001b[38;5;124m)\u001b[39m\u001b[38;5;124m\"\u001b[39m)\n\u001b[1;32m----> 9\u001b[0m matches\u001b[38;5;241m=\u001b[39m pattern\u001b[38;5;241m.\u001b[39mfinditer(mystr)\n\u001b[0;32m     10\u001b[0m \u001b[38;5;28;01mfor\u001b[39;00m match \u001b[38;5;129;01min\u001b[39;00m matches:\n\u001b[0;32m     11\u001b[0m     \u001b[38;5;28mprint\u001b[39m(match)\n",
      "\u001b[1;31mTypeError\u001b[0m: expected string or bytes-like object, got 'list'"
     ]
    }
   ],
   "source": [
    "# Answer-5\n",
    "\n",
    "import pandas as pd\n",
    "import re\n",
    "\n",
    "mystr= [\"example (.com)\", \"hr@fliprobo (.com)\", \"github (.com)\", \"Hello (Data Science World)\", \"Data (Scientist)\"]\n",
    "\n",
    "pattern = re.compile(r\"\\s*\\([^)]*\\)\")\n",
    "matches= pattern.finditer(mystr)\n",
    "for match in matches:\n",
    "    print(match)\n"
   ]
  },
  {
   "cell_type": "code",
   "execution_count": null,
   "id": "6adac6a5",
   "metadata": {},
   "outputs": [],
   "source": []
  },
  {
   "cell_type": "code",
   "execution_count": 39,
   "id": "c074605f",
   "metadata": {},
   "outputs": [
    {
     "ename": "NameError",
     "evalue": "name 'text' is not defined",
     "output_type": "error",
     "traceback": [
      "\u001b[1;31m---------------------------------------------------------------------------\u001b[0m",
      "\u001b[1;31mNameError\u001b[0m                                 Traceback (most recent call last)",
      "Cell \u001b[1;32mIn[39], line 7\u001b[0m\n\u001b[0;32m      3\u001b[0m Text: [\u001b[38;5;124m\"\u001b[39m\u001b[38;5;124mexample (.com)\u001b[39m\u001b[38;5;124m\"\u001b[39m, \u001b[38;5;124m\"\u001b[39m\u001b[38;5;124mhr@fliprobo (.com)\u001b[39m\u001b[38;5;124m\"\u001b[39m, \u001b[38;5;124m\"\u001b[39m\u001b[38;5;124mgithub (.com)\u001b[39m\u001b[38;5;124m\"\u001b[39m, \u001b[38;5;124m\"\u001b[39m\u001b[38;5;124mHello (Data Science World)\u001b[39m\u001b[38;5;124m\"\u001b[39m, \u001b[38;5;124m\"\u001b[39m\u001b[38;5;124mData (Scientist)\u001b[39m\u001b[38;5;124m\"\u001b[39m]\n\u001b[0;32m      5\u001b[0m \u001b[38;5;28;01mimport\u001b[39;00m \u001b[38;5;21;01mre\u001b[39;00m\n\u001b[1;32m----> 7\u001b[0m pattern\u001b[38;5;241m=\u001b[39mre\u001b[38;5;241m.\u001b[39msub(\u001b[38;5;124mr\u001b[39m\u001b[38;5;124m\"\u001b[39m\u001b[38;5;124m\\\u001b[39m\u001b[38;5;124ms*\u001b[39m\u001b[38;5;124m\\\u001b[39m\u001b[38;5;124m([^)]*\u001b[39m\u001b[38;5;124m\\\u001b[39m\u001b[38;5;124m)\u001b[39m\u001b[38;5;124m\"\u001b[39m,text)\n\u001b[0;32m      8\u001b[0m prtint(text)\n",
      "\u001b[1;31mNameError\u001b[0m: name 'text' is not defined"
     ]
    }
   ],
   "source": [
    "# Answer 6\n",
    "\n",
    "Text: [\"example (.com)\", \"hr@fliprobo (.com)\", \"github (.com)\", \"Hello (Data Science World)\", \"Data (Scientist)\"]\n",
    "    \n",
    "import re\n",
    "\n",
    "pattern=re.sub(r\"\\s*\\([^)]*\\)\",text)\n",
    "prtint(text)\n",
    "\n"
   ]
  },
  {
   "cell_type": "code",
   "execution_count": 1,
   "id": "077c0581",
   "metadata": {},
   "outputs": [
    {
     "name": "stdout",
     "output_type": "stream",
     "text": [
      "['Importance', 'Of', 'Regular', 'Expressions', 'In', 'Python']\n"
     ]
    }
   ],
   "source": [
    "# Answer 7\n",
    "\n",
    "import re\n",
    "\n",
    "result = re.findall('[A-Z][^A-Z]*', 'ImportanceOfRegularExpressionsInPython')\n",
    "print(result) "
   ]
  },
  {
   "cell_type": "code",
   "execution_count": 40,
   "id": "5020e342",
   "metadata": {},
   "outputs": [
    {
     "name": "stdout",
     "output_type": "stream",
     "text": [
      "['1IsAn2ImportantTopic3InPython']\n"
     ]
    }
   ],
   "source": [
    "# Answer 8\n",
    "\n",
    "text:'RegularExpression1IsAn2ImportantTopic3InPython'\n",
    "\n",
    "import re\n",
    "\n",
    "result=re.findall('\\d\\w*','RegularExpression1IsAn2ImportantTopic3InPython')\n",
    "\n",
    "\n",
    "print(result)"
   ]
  },
  {
   "cell_type": "code",
   "execution_count": 86,
   "id": "78ac1899",
   "metadata": {},
   "outputs": [
    {
     "name": "stdout",
     "output_type": "stream",
     "text": [
      "['1Is', '2Im', '3In']\n"
     ]
    }
   ],
   "source": [
    "# Answer 9\n",
    "import re\n",
    "\n",
    "text:'RegularExpression1IsAn2ImportantTopic3InPython'\n",
    "\n",
    "\n",
    "result = re.findall('[0-9][a-z]*[A-Z]\\w\\s*','RegularExpression1IsAn2ImportantTopic3InPython')\n",
    "\n",
    "print(result)\n",
    "\n"
   ]
  },
  {
   "cell_type": "code",
   "execution_count": null,
   "id": "3b702f3d",
   "metadata": {},
   "outputs": [],
   "source": []
  },
  {
   "cell_type": "code",
   "execution_count": 167,
   "id": "1f6be884",
   "metadata": {},
   "outputs": [],
   "source": [
    "# Answer 9\n",
    "import re\n",
    "\n",
    "def insert_spaces(text):\n",
    "    \n",
    "    pattern=r'(\\d\\w*)'\n",
    "    return ''.join(re.sub(pattern, r'\\1', word)\n",
    "    for word in text_split())\n",
    "\n",
    "    input_text:'RegularExpression1IsAn2ImportantTopic3InPython'\n",
    "    result=insert_spaces(input_text)\n",
    "    print(result)"
   ]
  },
  {
   "cell_type": "code",
   "execution_count": null,
   "id": "b0ffcfa1",
   "metadata": {},
   "outputs": [],
   "source": []
  },
  {
   "cell_type": "code",
   "execution_count": 126,
   "id": "c5c89ce0",
   "metadata": {},
   "outputs": [
    {
     "ename": "TypeError",
     "evalue": "'function' object is not subscriptable",
     "output_type": "error",
     "traceback": [
      "\u001b[1;31m---------------------------------------------------------------------------\u001b[0m",
      "\u001b[1;31mTypeError\u001b[0m                                 Traceback (most recent call last)",
      "Cell \u001b[1;32mIn[126], line 10\u001b[0m\n\u001b[0;32m      8\u001b[0m df\u001b[38;5;241m=\u001b[39mpd\u001b[38;5;241m.\u001b[39mread_csv\n\u001b[0;32m      9\u001b[0m df(url)\n\u001b[1;32m---> 10\u001b[0m df[\u001b[38;5;124m'\u001b[39m\u001b[38;5;124mFirst_six_letters\u001b[39m\u001b[38;5;124m'\u001b[39m]\u001b[38;5;241m=\u001b[39m df[\u001b[38;5;124m'\u001b[39m\u001b[38;5;124mCountry\u001b[39m\u001b[38;5;124m'\u001b[39m]\u001b[38;5;241m.\u001b[39mapply(\u001b[38;5;28;01mlambda\u001b[39;00m x:x[:\u001b[38;5;241m6\u001b[39m])\n",
      "\u001b[1;31mTypeError\u001b[0m: 'function' object is not subscriptable"
     ]
    }
   ],
   "source": [
    "# Answer 10\n",
    "\n",
    "import pandas as pd\n",
    "import re\n",
    "\n",
    "\n",
    "url=\"https://raw.githubusercontent.com/dsrscientist/DSData/master/happiness_score_dataset.csv\"\n",
    "df=pd.read_csv\n",
    "df(url)\n",
    "df['First_six_letters']= df['Country'].apply(lambda x:x[:6])"
   ]
  },
  {
   "cell_type": "code",
   "execution_count": 128,
   "id": "772bb6ba",
   "metadata": {},
   "outputs": [
    {
     "name": "stdout",
     "output_type": "stream",
     "text": [
      "Not matched!\n",
      "Found a match!\n"
     ]
    }
   ],
   "source": [
    "# Answer 11\n",
    "\n",
    "import re\n",
    "\n",
    "def text_match(text):\n",
    "    pattern = r'^[a-zA-Z0-9_]*$'\n",
    "    if re.match(pattern, text):\n",
    "        return 'Found a match!'\n",
    "    else:\n",
    "        return 'Not matched!'\n",
    "print(text_match(\"The sachin is god of cericket.\"))\n",
    "print(text_match(\"Assignment_Python_1\"))"
   ]
  },
  {
   "cell_type": "code",
   "execution_count": 168,
   "id": "703358e6",
   "metadata": {},
   "outputs": [
    {
     "name": "stdout",
     "output_type": "stream",
     "text": [
      "The resulting string is: 55 is the answer to everything.\n"
     ]
    }
   ],
   "source": [
    "# Answer 12\n",
    "\n",
    "def create_string_with_number(number, text):\n",
    "    \n",
    "    return f\"{number}{text}\"\n",
    "\n",
    "specific_number = 55\n",
    "suffix_text = \" is the answer to everything.\"\n",
    "resulting_string = create_string_with_number(specific_number, suffix_text)\n",
    "print(f\"The resulting string is: {resulting_string}\")\n"
   ]
  },
  {
   "cell_type": "code",
   "execution_count": null,
   "id": "bb72737e",
   "metadata": {},
   "outputs": [],
   "source": []
  },
  {
   "cell_type": "code",
   "execution_count": 169,
   "id": "9b490b29",
   "metadata": {},
   "outputs": [
    {
     "name": "stdout",
     "output_type": "stream",
     "text": [
      "10.0.1.10\n",
      "10.0.2.20\n"
     ]
    }
   ],
   "source": [
    "# Answer 13\n",
    "\n",
    "import re\n",
    "\n",
    "def remove_zeros(ip_adr):\n",
    "    return re.sub(r'(^|\\.)0+(?=[^.])', r'\\1', ip_adr)\n",
    "print(remove_zeros('10.0.01.10'))  \n",
    "print(remove_zeros('10.00.002.20'))  \n"
   ]
  },
  {
   "cell_type": "code",
   "execution_count": 61,
   "id": "4f8f8ed4",
   "metadata": {},
   "outputs": [
    {
     "ename": "SyntaxError",
     "evalue": "unterminated string literal (detected at line 3) (2623294509.py, line 3)",
     "output_type": "error",
     "traceback": [
      "\u001b[1;36m  Cell \u001b[1;32mIn[61], line 3\u001b[1;36m\u001b[0m\n\u001b[1;33m    input =  ' On August 15th 1947 that India was declared independent from British colonialism, and the reins of control were handed over to the leaders of the Country’.\u001b[0m\n\u001b[1;37m             ^\u001b[0m\n\u001b[1;31mSyntaxError\u001b[0m\u001b[1;31m:\u001b[0m unterminated string literal (detected at line 3)\n"
     ]
    }
   ],
   "source": [
    "import re\n",
    "import datetime\n",
    "input =  ' On August 15th 1947 that India was declared independent from British colonialism, and the reins of control were handed over to the leaders of the Country’.\n",
    "format = '%Y/%m/%d'\n",
    "datetime = datetime.datetime.strptime(input, format)\n",
    "print(datetime.date())"
   ]
  },
  {
   "cell_type": "code",
   "execution_count": 64,
   "id": "b2541401",
   "metadata": {},
   "outputs": [
    {
     "name": "stdout",
     "output_type": "stream",
     "text": [
      "August 15th 1947\n"
     ]
    }
   ],
   "source": [
    "# Answer 14\n",
    "\n",
    "import re\n",
    "import datetime\n",
    "\n",
    "text = \"On August 15th 1947 that India was declared independent from British colonialism, and the reins of control were handed over to the leaders of the Country.\"\n",
    "\n",
    "pattern = r\"\\b([A-Z][a-z]+ \\d{1,2}(?:st|nd|rd|th)? \\d{4})\\b\"\n",
    "\n",
    "matches = re.findall(pattern, text)\n",
    "date_string = matches[0] if matches else None\n",
    "\n",
    "print(date_string)\n"
   ]
  },
  {
   "cell_type": "code",
   "execution_count": 71,
   "id": "6cbaa483",
   "metadata": {},
   "outputs": [
    {
     "name": "stdout",
     "output_type": "stream",
     "text": [
      "Searching for \"fox\" in \":-\" ->\n",
      "Matched!\n",
      "Searching for \"dog\" in \":-\" ->\n",
      "Matched!\n",
      "Searching for \"horse\" in \":-\" ->\n",
      "Not Matched!\n"
     ]
    }
   ],
   "source": [
    "# Andswer 15\n",
    "import re\n",
    "\n",
    "patterns = [ 'fox', 'dog', 'horse' ]\n",
    "text = 'The quick brown fox jumps over the lazy dog.'\n",
    "for pattern in patterns:\n",
    "    print('Searching for \"%s\" in \"%s\" ->' % (pattern, ':-'),)\n",
    "    if re.search(pattern,  text):\n",
    "        print('Matched!')\n",
    "    else:\n",
    "        print('Not Matched!')"
   ]
  },
  {
   "cell_type": "code",
   "execution_count": 72,
   "id": "12b614ca",
   "metadata": {},
   "outputs": [
    {
     "name": "stdout",
     "output_type": "stream",
     "text": [
      "Found \"fox\" in \"The quick brown fox jumps over the lazy dog.\" from 16 to 19 \n"
     ]
    }
   ],
   "source": [
    "# Ansqwer 16\n",
    "\n",
    "import re\n",
    "pattern = 'fox'\n",
    "text = 'The quick brown fox jumps over the lazy dog.'\n",
    "match = re.search(pattern, text)\n",
    "s = match.start()\n",
    "e = match.end()\n",
    "print('Found \"%s\" in \"%s\" from %d to %d ' % \\\n",
    "    (match.re.pattern, match.string, s, e))"
   ]
  },
  {
   "cell_type": "code",
   "execution_count": 73,
   "id": "74e76dff",
   "metadata": {},
   "outputs": [
    {
     "name": "stdout",
     "output_type": "stream",
     "text": [
      "Substring: Python exercises\n",
      "Substring: PHP exercises\n",
      "Substring: C# exercises\n"
     ]
    }
   ],
   "source": [
    "# Answer 17\n",
    "\n",
    "def find_substrings(text):\n",
    "\n",
    "    substrings = text.split(', ')\n",
    "    \n",
    "    for substring in substrings:\n",
    "        print(f\"Substring: {substring}\")\n",
    "\n",
    "sample_text = 'Python exercises, PHP exercises, C# exercises'\n",
    "find_substrings(sample_text)\n"
   ]
  },
  {
   "cell_type": "code",
   "execution_count": 74,
   "id": "6f868801",
   "metadata": {},
   "outputs": [
    {
     "name": "stdout",
     "output_type": "stream",
     "text": [
      "Found \"exercises\" at 7:16\n",
      "Found \"exercises\" at 22:31\n",
      "Found \"exercises\" at 36:45\n"
     ]
    }
   ],
   "source": [
    "# Answer 18\n",
    "\n",
    "import re\n",
    "\n",
    "text = 'Python exercises, PHP exercises, C# exercises'\n",
    "pattern = 'exercises'\n",
    "\n",
    "for match in re.finditer(pattern, text):\n",
    "    start_pos = match.start()\n",
    "    end_pos = match.end()\n",
    "    print(f\"Found \\\"{text[start_pos:end_pos]}\\\" at {start_pos}:{end_pos}\")\n"
   ]
  },
  {
   "cell_type": "code",
   "execution_count": 204,
   "id": "e8e768c6",
   "metadata": {},
   "outputs": [
    {
     "name": "stdout",
     "output_type": "stream",
     "text": [
      "Old date in YYYY-MM-DD Format:  2026-01-02\n",
      "New date in DD-MM-YYYY Format:  02-01-2026\n"
     ]
    }
   ],
   "source": [
    "# Answer 19\n",
    "\n",
    "import re\n",
    "def date_format(dt):\n",
    "        return re.sub(r'(\\d{4})-(\\d{1,2})-(\\d{1,2})', '\\\\3-\\\\2-\\\\1', dt)\n",
    "dt1 = \"2026-01-02\"\n",
    "print(\"Old date in YYYY-MM-DD Format: \",dt1)\n",
    "print(\"New date in DD-MM-YYYY Format: \",date_format(dt1))\n"
   ]
  },
  {
   "cell_type": "code",
   "execution_count": 201,
   "id": "9e00347e",
   "metadata": {},
   "outputs": [
    {
     "name": "stdout",
     "output_type": "stream",
     "text": [
      "True\n",
      "False\n"
     ]
    }
   ],
   "source": [
    "# Answer 20\n",
    "\n",
    "def decimal(num):\n",
    "    import re\n",
    "    dnumre = re.compile(r\"\"\"^[0-9]+(\\.[0-9]{1,2})?$\"\"\")\n",
    "    result = dnumre.search(num)\n",
    "    return bool(result)\n",
    "\n",
    "print(decimal('123.11'))\n",
    "\n",
    "print(decimal('e666.86'))\n",
    "    "
   ]
  },
  {
   "cell_type": "code",
   "execution_count": 202,
   "id": "adbbfc77",
   "metadata": {},
   "outputs": [
    {
     "name": "stdout",
     "output_type": "stream",
     "text": [
      "['01.12', '0132.12', '2.31', '145.8', '3.01', '27.25', '0.25']\n"
     ]
    }
   ],
   "source": [
    "# Answer 20\n",
    "\n",
    "import re\n",
    "\n",
    "sample_text = \"01.12 0132.123 2.31875 145.8 3.01 27.25 0.25\"\n",
    "\n",
    "def find_decimal(text):\n",
    "\n",
    "    pattern = re.compile(r\"\\d+\\.\\d{1,2}\")\n",
    "    decimal_numbers = pattern.findall(text)\n",
    "    return decimal_numbers\n",
    "\n",
    "result = find_decimal(sample_text)\n",
    "print(result)\n"
   ]
  },
  {
   "cell_type": "code",
   "execution_count": 189,
   "id": "e6aef13d",
   "metadata": {},
   "outputs": [
    {
     "name": "stdout",
     "output_type": "stream",
     "text": [
      "Number: 100, Position: 90\n"
     ]
    }
   ],
   "source": [
    "# Answer 21\n",
    "\n",
    "import re\n",
    "\n",
    "text = \"The master blaster sachin tendulkar was the all format right handed batsman and he scored 100 century in international cricket\"\n",
    "\n",
    "for m in re.finditer(r\"\\d+\", text):\n",
    "    print(f\"Number: {m.group(0)}, Position: {m.start()}\")\n"
   ]
  },
  {
   "cell_type": "code",
   "execution_count": 10,
   "id": "aef69a5a",
   "metadata": {},
   "outputs": [
    {
     "ename": "IndentationError",
     "evalue": "unexpected indent (491767504.py, line 7)",
     "output_type": "error",
     "traceback": [
      "\u001b[1;36m  Cell \u001b[1;32mIn[10], line 7\u001b[1;36m\u001b[0m\n\u001b[1;33m    for m in re.finiter(r\"{max\\d+}\",text)\u001b[0m\n\u001b[1;37m    ^\u001b[0m\n\u001b[1;31mIndentationError\u001b[0m\u001b[1;31m:\u001b[0m unexpected indent\n"
     ]
    }
   ],
   "source": [
    "# Answer 22\n",
    "\n",
    "import re\n",
    "\n",
    "Text: 'My marks in each semester are: 947, 896, 926, 524, 734, 950, 642'\n",
    "\n",
    "    for m in re.finiter(r\"{max\\d+}\",text)\n",
    "        print(f'Max Number:{m.max()}\")\n",
    "              "
   ]
  },
  {
   "cell_type": "code",
   "execution_count": 12,
   "id": "74540d20",
   "metadata": {},
   "outputs": [
    {
     "name": "stdout",
     "output_type": "stream",
     "text": [
      "Max_value: 950\n"
     ]
    }
   ],
   "source": [
    "import re\n",
    "\n",
    "text= 'My marks in each semester are: 947, 896, 926, 524, 734, 950, 642'\n",
    "\n",
    "number = re.findall('\\d+', text)\n",
    "\n",
    "number = map(int, number)\n",
    "\n",
    "print(\"Max_value:\",max(number))"
   ]
  },
  {
   "cell_type": "code",
   "execution_count": 192,
   "id": "3c3f0f49",
   "metadata": {},
   "outputs": [
    {
     "name": "stdout",
     "output_type": "stream",
     "text": [
      " Regular Expression Is An Important Topic In Python\n"
     ]
    }
   ],
   "source": [
    "# Answer 23\n",
    "\n",
    "import re\n",
    "\n",
    "def insert_spaces(text):\n",
    "    \n",
    "    pattern = r'([A-Z][a-z]+)'\n",
    "    \n",
    "    return re.sub(pattern, r' \\1', text)\n",
    "\n",
    "\n",
    "sample_text = \"RegularExpressionIsAnImportantTopicInPython\"\n",
    "result = insert_spaces(sample_text)\n",
    "print(result)\n"
   ]
  },
  {
   "cell_type": "code",
   "execution_count": null,
   "id": "d3edfc7e",
   "metadata": {},
   "outputs": [],
   "source": []
  },
  {
   "cell_type": "code",
   "execution_count": 199,
   "id": "8d426259",
   "metadata": {},
   "outputs": [
    {
     "ename": "IndentationError",
     "evalue": "unindent does not match any outer indentation level (<tokenize>, line 6)",
     "output_type": "error",
     "traceback": [
      "\u001b[1;36m  File \u001b[1;32m<tokenize>:6\u001b[1;36m\u001b[0m\n\u001b[1;33m    re.sub(r\"(\\w)([A-Z])\", r\"\\1\\2\", str1)\u001b[0m\n\u001b[1;37m    ^\u001b[0m\n\u001b[1;31mIndentationError\u001b[0m\u001b[1;31m:\u001b[0m unindent does not match any outer indentation level\n"
     ]
    }
   ],
   "source": [
    "# Answer 24\n",
    "import re\n",
    "\n",
    "def capital_words(str1):\n",
    "      return \n",
    "     re.sub(r\"(\\w)([A-Z])\", r\"\\1\\2\", str1)\n",
    "\n",
    "print(capital_words(“RegularExpressionIsAnImportantTopicInPython\"))\n"
   ]
  },
  {
   "cell_type": "code",
   "execution_count": 34,
   "id": "9b795530",
   "metadata": {},
   "outputs": [
    {
     "name": "stdout",
     "output_type": "stream",
     "text": [
      "Regular Expression Is An Important Topic In Python\n"
     ]
    }
   ],
   "source": [
    "import re\n",
    "def capital_words_spaces(str1):\n",
    "  return re.sub(r\"(\\w)([A-Z])\", r\"\\1 \\2\", str1)\n",
    "\n",
    "\n",
    "print(capital_words_spaces(\"RegularExpressionIsAnImportantTopicInPython\"))\n"
   ]
  },
  {
   "cell_type": "code",
   "execution_count": 38,
   "id": "db9a9313",
   "metadata": {},
   "outputs": [
    {
     "name": "stdout",
     "output_type": "stream",
     "text": [
      "Found a match!\n",
      "Not matched!\n"
     ]
    }
   ],
   "source": [
    " # Answer 24\n",
    "    \n",
    "import re\n",
    "def text_match(text):\n",
    "        patterns = '[A-Z]+[a-z]+$'\n",
    "        if re.search(patterns, text):\n",
    "                return 'Found a match!'\n",
    "        else:\n",
    "                return('Not matched!')\n",
    "\n",
    "print(text_match(\"Bharat\"))\n",
    "\n",
    "print(text_match(\"INDIA\"))\n",
    "\n"
   ]
  },
  {
   "cell_type": "code",
   "execution_count": 58,
   "id": "92fcbee5",
   "metadata": {},
   "outputs": [
    {
     "name": "stdout",
     "output_type": "stream",
     "text": [
      "Hello hello world\n"
     ]
    }
   ],
   "source": [
    "# Answer 25\n",
    "import re\n",
    "\n",
    "def remove_words(str1):\n",
    "\n",
    "    pattern = r'\\b(\\w+)(?:\\W+\\1\\b)+'\n",
    "\n",
    "    return re.sub(pattern, r'\\1', str1)\n",
    "\n",
    "text = \"Hello hello world world\"\n",
    "print(remove_words(text))\n",
    "\n"
   ]
  },
  {
   "cell_type": "code",
   "execution_count": 68,
   "id": "5efaf47b",
   "metadata": {},
   "outputs": [
    {
     "name": "stdout",
     "output_type": "stream",
     "text": [
      "End with Alphanumeric\n",
      "Not end with Aplhanumeric\n"
     ]
    }
   ],
   "source": [
    "# Answer 26\n",
    "\n",
    "import re\n",
    "\n",
    "pattern = '[a-zA-Z0-9]$'\n",
    "\n",
    "def check_string(string):\n",
    "    if re.search(pattern, string):\n",
    "        print(\"End with Alphanumeric\")\n",
    "    else:\n",
    "        print(\"Not end with Aplhanumeric\")\n",
    "\n",
    "string1 = \"India1947\"  \n",
    "string2 = \"India@\" \n",
    "\n",
    "\n",
    "check_string(string1)\n",
    "check_string(string2)\n"
   ]
  },
  {
   "cell_type": "code",
   "execution_count": 84,
   "id": "ecef7ccd",
   "metadata": {},
   "outputs": [
    {
     "name": "stdout",
     "output_type": "stream",
     "text": [
      "#Doltiwal\n",
      "#xyzabc\n",
      "#Demonetization\n"
     ]
    }
   ],
   "source": [
    "# Answer 27\n",
    "\n",
    "\n",
    "\n",
    "import re\n",
    "\n",
    "text1=\"\"\"RT @kapil_kausik: #Doltiwal I mean #xyzabc is \"hurt\" by #Demonetization as the same has rendered USELESS <ed><U+00A0><U+00BD><ed><U+00B1><U+0089> \"acquired funds\" No wo\"\"\"\n",
    "\n",
    "textList = text1.split()\n",
    "for i in textList:\n",
    "    if(i[0] == \"#\"):\n",
    "        tag = i.replace(\"#\", '#')\n",
    "        print(tag)"
   ]
  },
  {
   "cell_type": "code",
   "execution_count": 85,
   "id": "92c430bd",
   "metadata": {},
   "outputs": [
    {
     "ename": "IndentationError",
     "evalue": "unexpected indent (1440640575.py, line 6)",
     "output_type": "error",
     "traceback": [
      "\u001b[1;36m  Cell \u001b[1;32mIn[85], line 6\u001b[1;36m\u001b[0m\n\u001b[1;33m    print(text1)\u001b[0m\n\u001b[1;37m    ^\u001b[0m\n\u001b[1;31mIndentationError\u001b[0m\u001b[1;31m:\u001b[0m unexpected indent\n"
     ]
    }
   ],
   "source": [
    "import re\n",
    "\n",
    "text1=\"\"\"RT @kapil_kausik: #Doltiwal I mean #xyzabc is \"hurt\" by #Demonetization as the same has rendered USELESS <ed><U+00A0><U+00BD><ed><U+00B1><U+0089> \"acquired funds\" No wo\"\"\"\n",
    "\n",
    "textlist = text1.findall(\"#\", text1)\n",
    "    print(text1)"
   ]
  },
  {
   "cell_type": "code",
   "execution_count": 97,
   "id": "d138b7a1",
   "metadata": {},
   "outputs": [
    {
     "ename": "SyntaxError",
     "evalue": "invalid syntax (3837979379.py, line 10)",
     "output_type": "error",
     "traceback": [
      "\u001b[1;36m  Cell \u001b[1;32mIn[97], line 10\u001b[1;36m\u001b[0m\n\u001b[1;33m    tag = i.replace('U+*', '-'):\u001b[0m\n\u001b[1;37m                               ^\u001b[0m\n\u001b[1;31mSyntaxError\u001b[0m\u001b[1;31m:\u001b[0m invalid syntax\n"
     ]
    }
   ],
   "source": [
    "# Answer 28\n",
    "\n",
    "import re\n",
    "\n",
    "Text1: \"@Jags123456 Bharat band on 28??<ed><U+00A0><U+00BD><ed><U+00B8><U+0082>Those who  are protesting #demonetization  are all different party leaders\"\n",
    "    \n",
    "textList = Text1.split()\n",
    "for i in textList:\n",
    "    if(i[0] == \"U+\"):\n",
    "        tag = i.replace('U+*', '-'):\n",
    "        print(tag)    "
   ]
  },
  {
   "cell_type": "code",
   "execution_count": 124,
   "id": "c660510d",
   "metadata": {},
   "outputs": [
    {
     "name": "stdout",
     "output_type": "stream",
     "text": [
      " Jags123456 Bharat band on 28  <ed><U 00A0><U 00BD><ed><U 00B8><U 0082>Those who are protesting  demonetization are all different party leaders\n"
     ]
    }
   ],
   "source": [
    "import re\n",
    "\n",
    "sample_text = \"@Jags123456 Bharat band on 28??<ed><U+00A0><U+00BD><ed><U+00B8><U+0082>Those who are protesting #demonetization are all different party leaders\"\n",
    "\n",
    "cleaned_text = re.sub(r'[^<U>$\\d\\w\\.]', ' ', sample_text)\n",
    "\n",
    "print(cleaned_text)\n"
   ]
  },
  {
   "cell_type": "code",
   "execution_count": 142,
   "id": "1055ea54",
   "metadata": {},
   "outputs": [
    {
     "ename": "SyntaxError",
     "evalue": "leading zeros in decimal integer literals are not permitted; use an 0o prefix for octal integers (2564556557.py, line 6)",
     "output_type": "error",
     "traceback": [
      "\u001b[1;36m  Cell \u001b[1;32mIn[142], line 6\u001b[1;36m\u001b[0m\n\u001b[1;33m    Text: Ron was born on 12-09-1992 and he was admitted to school 15-12-1999.\u001b[0m\n\u001b[1;37m                             ^\u001b[0m\n\u001b[1;31mSyntaxError\u001b[0m\u001b[1;31m:\u001b[0m leading zeros in decimal integer literals are not permitted; use an 0o prefix for octal integers\n"
     ]
    }
   ],
   "source": [
    "# Answer 29\n",
    "\n",
    "import re\n",
    "import datetime\n",
    "\n",
    "Text: Ron was born on 12-09-1992 and he was admitted to school 15-12-1999.\n",
    "    \n",
    "textlist=text.split()\n",
    "for d in textlist:\n",
    "    if (d==%d %m %y)\n",
    "    tag=d.findall(dd-mm-yyyy)\n",
    "    print(t)"
   ]
  },
  {
   "cell_type": "code",
   "execution_count": 143,
   "id": "3428b604",
   "metadata": {},
   "outputs": [
    {
     "name": "stdout",
     "output_type": "stream",
     "text": [
      "[]\n"
     ]
    }
   ],
   "source": [
    "import re\n",
    "\n",
    "\n",
    "text = \"Ron was born on 12-09-1992 and he was admitted to school 15-12-1999\"\n",
    "\n",
    "matches = re.findall(r'(\\d+/\\d+/\\d+)',text)\n",
    "\n",
    "print(matches)"
   ]
  },
  {
   "cell_type": "code",
   "execution_count": 144,
   "id": "d4fb7ec7",
   "metadata": {},
   "outputs": [
    {
     "ename": "NameError",
     "evalue": "name 'file29' is not defined",
     "output_type": "error",
     "traceback": [
      "\u001b[1;31m---------------------------------------------------------------------------\u001b[0m",
      "\u001b[1;31mNameError\u001b[0m                                 Traceback (most recent call last)",
      "Cell \u001b[1;32mIn[144], line 3\u001b[0m\n\u001b[0;32m      1\u001b[0m \u001b[38;5;28;01mimport\u001b[39;00m \u001b[38;5;21;01mre\u001b[39;00m\n\u001b[1;32m----> 3\u001b[0m f\u001b[38;5;241m=\u001b[39m\u001b[38;5;28mopen\u001b[39m(file29\u001b[38;5;241m.\u001b[39mtxt, \u001b[38;5;124m\"\u001b[39m\u001b[38;5;124mw\u001b[39m\u001b[38;5;124m\"\u001b[39m)\n\u001b[0;32m      4\u001b[0m f\u001b[38;5;241m.\u001b[39mwrite( \u001b[38;5;124m\"\u001b[39m\u001b[38;5;124mRon was born on 12-09-1992 and he was admitted to school 15-12-1999\u001b[39m\u001b[38;5;124m\"\u001b[39m)\n\u001b[0;32m      5\u001b[0m f\u001b[38;5;241m.\u001b[39mclose()\n",
      "\u001b[1;31mNameError\u001b[0m: name 'file29' is not defined"
     ]
    }
   ],
   "source": [
    "import re\n",
    "\n",
    "f=open(file29.txt, \"w\")\n",
    "f.write( \"Ron was born on 12-09-1992 and he was admitted to school 15-12-1999\")\n",
    "f.close()\n",
    "\n",
    "text =  \"Ron was born on 12-09-1992 and he was admitted to school 15-12-1999\"\n",
    "\n",
    "pattern = \"\\d{2}[/-]\\d{2}[/-]\\d{4}\"\n",
    "\n",
    "dates = re.findall(pattern, text)\n",
    "\n",
    "for date in dates:\n",
    "    print(date)"
   ]
  },
  {
   "cell_type": "code",
   "execution_count": 132,
   "id": "f654d1a3",
   "metadata": {},
   "outputs": [
    {
     "ename": "SyntaxError",
     "evalue": "(unicode error) 'unicodeescape' codec can't decode bytes in position 2-3: truncated \\UXXXXXXXX escape (4269603915.py, line 3)",
     "output_type": "error",
     "traceback": [
      "\u001b[1;36m  Cell \u001b[1;32mIn[132], line 3\u001b[1;36m\u001b[0m\n\u001b[1;33m    f = open(\"C:\\Users\\Hiren Kareliya\\OneDrive\\Desktop\\que29.txt\", 'r')\u001b[0m\n\u001b[1;37m                                                                 ^\u001b[0m\n\u001b[1;31mSyntaxError\u001b[0m\u001b[1;31m:\u001b[0m (unicode error) 'unicodeescape' codec can't decode bytes in position 2-3: truncated \\UXXXXXXXX escape\n"
     ]
    }
   ],
   "source": [
    "import re\n",
    "\n",
    "f = open(\"C:\\Users\\Hiren Kareliya\\OneDrive\\Desktop\\que29.txt\", 'r')\n",
    "\n",
    "content = f.read()\n",
    "\n",
    "\n",
    "pattern = \"\\d{2}[/-]\\d{2}[/-]\\d{4}\"\n",
    "\n",
    "\n",
    "dates = re.findall(pattern, content)\n",
    "\n",
    "for date in dates:\n",
    "    print(date)"
   ]
  },
  {
   "cell_type": "code",
   "execution_count": 133,
   "id": "fc6c5344",
   "metadata": {},
   "outputs": [
    {
     "ename": "SyntaxError",
     "evalue": "(unicode error) 'unicodeescape' codec can't decode bytes in position 2-3: truncated \\UXXXXXXXX escape (2401071867.py, line 3)",
     "output_type": "error",
     "traceback": [
      "\u001b[1;36m  Cell \u001b[1;32mIn[133], line 3\u001b[1;36m\u001b[0m\n\u001b[1;33m    f = open(\"C:\\Users\\Hiren Kareliya\\OneDrive\\Desktop\\que29.txt\", 'r')\u001b[0m\n\u001b[1;37m                                                                 ^\u001b[0m\n\u001b[1;31mSyntaxError\u001b[0m\u001b[1;31m:\u001b[0m (unicode error) 'unicodeescape' codec can't decode bytes in position 2-3: truncated \\UXXXXXXXX escape\n"
     ]
    }
   ],
   "source": [
    "import re\n",
    "\n",
    "f = open(\"C:\\Users\\Hiren Kareliya\\OneDrive\\Desktop\\que29.txt\", 'r')\n",
    "\n",
    "\n",
    "content = f.read()"
   ]
  },
  {
   "cell_type": "code",
   "execution_count": 154,
   "id": "7a2e9eba",
   "metadata": {
    "scrolled": true
   },
   "outputs": [
    {
     "name": "stdout",
     "output_type": "stream",
     "text": [
      "12-09-1992\n",
      "15-12-1999\n"
     ]
    }
   ],
   "source": [
    "# Answer 29\n",
    "\n",
    "import re\n",
    "\n",
    "f=open(\"file29.txt\", \"w\")\n",
    "f.write( \"Ron was born on 12-09-1992 and he was admitted to school 15-12-1999\")\n",
    "f.close()\n",
    "\n",
    "f=open(\"file29.txt\",\"r\")\n",
    "filedata = f.read()\n",
    "\n",
    "pattern = \"\\d{2}[/-]\\d{2}[/-]\\d{4}\"\n",
    "\n",
    "dates = re.findall(pattern, filedata)\n",
    "for date in dates:\n",
    "    print(date)\n",
    "    f.close()"
   ]
  },
  {
   "cell_type": "code",
   "execution_count": 197,
   "id": "be558fb7",
   "metadata": {},
   "outputs": [
    {
     "name": "stdout",
     "output_type": "stream",
     "text": [
      " following example creates  ArrayList  a capacity   elements. 4 elements   added   ArrayList   ArrayList  trimmed accordingly.\n"
     ]
    }
   ],
   "source": [
    "# Answer 30\n",
    "\n",
    "import re\n",
    "\n",
    "text: \"The following example creates an ArrayList with a capacity of 50 elements. 4 elements are then added to the ArrayList and the ArrayList is trimmed accordingly.\"\n",
    "    \n",
    "def remove_words(text):\n",
    "    \n",
    "    pattern = r'\\b\\w{2,4}\\b'\n",
    "    \n",
    "    new_text = re.sub(pattern, '', text)\n",
    "    \n",
    "    return new_text\n",
    "\n",
    "text = \"The following example creates an ArrayList with a capacity of 50 elements. 4 elements are then added to the ArrayList and the ArrayList is trimmed accordingly.\"\n",
    "result = remove_words(text)\n",
    "print(result)\n",
    " "
   ]
  },
  {
   "cell_type": "code",
   "execution_count": null,
   "id": "77fbca6c",
   "metadata": {},
   "outputs": [],
   "source": [
    "\n"
   ]
  }
 ],
 "metadata": {
  "kernelspec": {
   "display_name": "Python 3 (ipykernel)",
   "language": "python",
   "name": "python3"
  },
  "language_info": {
   "codemirror_mode": {
    "name": "ipython",
    "version": 3
   },
   "file_extension": ".py",
   "mimetype": "text/x-python",
   "name": "python",
   "nbconvert_exporter": "python",
   "pygments_lexer": "ipython3",
   "version": "3.11.5"
  }
 },
 "nbformat": 4,
 "nbformat_minor": 5
}
