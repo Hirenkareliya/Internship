{
 "cells": [
  {
   "cell_type": "code",
   "execution_count": null,
   "id": "b0dddf24",
   "metadata": {},
   "outputs": [],
   "source": [
    "ASSIGNMENT\n",
    "WEB SCRAPING – ASSIGNMENT 4\n",
    "• Read all the problem statements, notes carefully and scrape the required data using any web scraping tool of \n",
    "your choice. \n",
    "• You have to handle commonly occurring EXCEPTIONS by using exception handling programing. To get \n",
    "information about selenium Exceptions. You may visit following links: \n",
    "1. https://selenium-python.readthedocs.io/api.html\n",
    "2. https://www.guru99.com/exception-handling-selenium.html\n",
    "3. https://stackoverflow.com/questions/38022658/selenium-python-handling-no-such-element￾exception/38023345\n",
    "1. Scrape the details of most viewed videos on YouTube from Wikipedia. Url \n",
    "= https://en.wikipedia.org/wiki/List_of_most-viewed_YouTube_videos You need to find following details: A)\n",
    "Rank \n",
    "B) Name \n",
    "C) Artist \n",
    "D) Upload date \n",
    "E) Views \n",
    "2. Scrape the details team India’s international fixtures from bcci.tv. \n",
    "Url = https://www.bcci.tv/. \n",
    "You need to find following details: \n",
    "A) Series \n",
    "B) Place \n",
    "C) Date \n",
    "D) Time \n",
    "Note: - From bcci.tv home page you have reach to the international fixture page through code. \n",
    "3. Scrape the details of State-wise GDP of India from statisticstime.com. \n",
    "Url = http://statisticstimes.com/ \n",
    "You have to find following details: A) Rank \n",
    "B) State \n",
    "C) GSDP(18-19)- at current prices \n",
    "D) GSDP(19-20)- at current prices \n",
    "E) Share(18-19) \n",
    "F) GDP($ billion) \n",
    "Note: - From statisticstimes home page you have to reach to economy page through code. \n",
    "4. Scrape the details of trending repositories on Github.com. \n",
    "Url = https://github.com/ \n",
    "You have to find the following details: \n",
    "A) Repository title \n",
    "B) Repository description \n",
    "C) Contributors count \n",
    "D) Language used \n",
    "Note: - From the home page you have to click on the trending option from Explore menu through code. \n",
    "5. Scrape the details of top 100 songs on billiboard.com. Url = https:/www.billboard.com/ You have to find the \n",
    "following details: \n",
    "A) Song name \n",
    "B) Artist name \n",
    "C) Last week rank \n",
    "D) Peak rank \n",
    "E) Weeks on board \n",
    " Note: - From the home page you have to click on the charts option then hot 100-page link through code. \n",
    "6. Scrape the details of Highest selling novels. \n",
    "A) Book name \n",
    "B) Author name \n",
    "C) Volumes sold \n",
    "D) Publisher \n",
    "E) Genre \n",
    " Url - https://www.theguardian.com/news/datablog/2012/aug/09/best-selling-books-all-time-fifty-shades-grey-compare\n",
    " \n",
    "7. Scrape the details most watched tv series of all time from imdb.com. \n",
    "Url = https://www.imdb.com/list/ls095964455/ You have \n",
    "to find the following details: \n",
    "A) Name \n",
    "B) Year span \n",
    "C) Genre \n",
    "D) Run time \n",
    "E) Ratings \n",
    "F) Votes \n",
    " \n",
    "8. Details of Datasets from UCI machine learning repositories. \n",
    "Url = https://archive.ics.uci.edu/ You \n",
    "have to find the following details: \n",
    "A) Dataset name \n",
    "B) Data type \n",
    "C) Task \n",
    "D) Attribute type \n",
    "E) No of instances \n",
    "F) No of attribute G) Year \n",
    " Note: - from the home page you have to go to the Show All Dataset page through code. \n",
    " \n",
    "ASSIGNMENT\n",
    " "
   ]
  },
  {
   "cell_type": "code",
   "execution_count": null,
   "id": "2bf28197",
   "metadata": {},
   "outputs": [],
   "source": []
  },
  {
   "cell_type": "code",
   "execution_count": null,
   "id": "adcffe39",
   "metadata": {},
   "outputs": [],
   "source": [
    "#1. Scrape the details of most viewed videos on YouTube from Wikipedia. Url \n",
    "= https://en.wikipedia.org/wiki/List_of_most-viewed_YouTube_videos You need to find following details: A)\n",
    "Rank \n",
    "B) Name \n",
    "C) Artist \n",
    "D) Upload date \n",
    "E) Views "
   ]
  },
  {
   "cell_type": "markdown",
   "id": "9e0a73ec",
   "metadata": {},
   "source": [
    "# answer 1"
   ]
  },
  {
   "cell_type": "code",
   "execution_count": 1,
   "id": "143d92d4",
   "metadata": {},
   "outputs": [
    {
     "name": "stdout",
     "output_type": "stream",
     "text": [
      "Requirement already satisfied: BeautifulSoup4 in c:\\users\\hiren kareliya\\anaconda3\\lib\\site-packages (4.12.2)\n",
      "Requirement already satisfied: soupsieve>1.2 in c:\\users\\hiren kareliya\\anaconda3\\lib\\site-packages (from BeautifulSoup4) (2.4)\n",
      "Requirement already satisfied: selenium in c:\\users\\hiren kareliya\\anaconda3\\lib\\site-packages (4.22.0)\n",
      "Requirement already satisfied: urllib3[socks]<3,>=1.26 in c:\\users\\hiren kareliya\\anaconda3\\lib\\site-packages (from selenium) (1.26.16)\n",
      "Requirement already satisfied: trio~=0.17 in c:\\users\\hiren kareliya\\anaconda3\\lib\\site-packages (from selenium) (0.25.1)\n",
      "Requirement already satisfied: trio-websocket~=0.9 in c:\\users\\hiren kareliya\\anaconda3\\lib\\site-packages (from selenium) (0.11.1)\n",
      "Requirement already satisfied: certifi>=2021.10.8 in c:\\users\\hiren kareliya\\anaconda3\\lib\\site-packages (from selenium) (2023.7.22)\n",
      "Requirement already satisfied: typing_extensions>=4.9.0 in c:\\users\\hiren kareliya\\anaconda3\\lib\\site-packages (from selenium) (4.12.2)\n",
      "Requirement already satisfied: websocket-client>=1.8.0 in c:\\users\\hiren kareliya\\anaconda3\\lib\\site-packages (from selenium) (1.8.0)\n",
      "Requirement already satisfied: attrs>=23.2.0 in c:\\users\\hiren kareliya\\anaconda3\\lib\\site-packages (from trio~=0.17->selenium) (23.2.0)\n",
      "Requirement already satisfied: sortedcontainers in c:\\users\\hiren kareliya\\anaconda3\\lib\\site-packages (from trio~=0.17->selenium) (2.4.0)\n",
      "Requirement already satisfied: idna in c:\\users\\hiren kareliya\\anaconda3\\lib\\site-packages (from trio~=0.17->selenium) (3.4)\n",
      "Requirement already satisfied: outcome in c:\\users\\hiren kareliya\\anaconda3\\lib\\site-packages (from trio~=0.17->selenium) (1.3.0.post0)\n",
      "Requirement already satisfied: sniffio>=1.3.0 in c:\\users\\hiren kareliya\\anaconda3\\lib\\site-packages (from trio~=0.17->selenium) (1.3.1)\n",
      "Requirement already satisfied: cffi>=1.14 in c:\\users\\hiren kareliya\\anaconda3\\lib\\site-packages (from trio~=0.17->selenium) (1.15.1)\n",
      "Requirement already satisfied: wsproto>=0.14 in c:\\users\\hiren kareliya\\anaconda3\\lib\\site-packages (from trio-websocket~=0.9->selenium) (1.2.0)\n",
      "Requirement already satisfied: PySocks!=1.5.7,<2.0,>=1.5.6 in c:\\users\\hiren kareliya\\anaconda3\\lib\\site-packages (from urllib3[socks]<3,>=1.26->selenium) (1.7.1)\n",
      "Requirement already satisfied: pycparser in c:\\users\\hiren kareliya\\anaconda3\\lib\\site-packages (from cffi>=1.14->trio~=0.17->selenium) (2.21)\n",
      "Requirement already satisfied: h11<1,>=0.9.0 in c:\\users\\hiren kareliya\\anaconda3\\lib\\site-packages (from wsproto>=0.14->trio-websocket~=0.9->selenium) (0.14.0)\n",
      "Requirement already satisfied: requests in c:\\users\\hiren kareliya\\anaconda3\\lib\\site-packages (2.31.0)\n",
      "Requirement already satisfied: charset-normalizer<4,>=2 in c:\\users\\hiren kareliya\\anaconda3\\lib\\site-packages (from requests) (2.0.4)\n",
      "Requirement already satisfied: idna<4,>=2.5 in c:\\users\\hiren kareliya\\anaconda3\\lib\\site-packages (from requests) (3.4)\n",
      "Requirement already satisfied: urllib3<3,>=1.21.1 in c:\\users\\hiren kareliya\\anaconda3\\lib\\site-packages (from requests) (1.26.16)\n",
      "Requirement already satisfied: certifi>=2017.4.17 in c:\\users\\hiren kareliya\\anaconda3\\lib\\site-packages (from requests) (2023.7.22)\n"
     ]
    }
   ],
   "source": [
    "!pip install BeautifulSoup4\n",
    "!pip install selenium\n",
    "!pip install requests\n"
   ]
  },
  {
   "cell_type": "code",
   "execution_count": 52,
   "id": "2dcb7d77",
   "metadata": {},
   "outputs": [],
   "source": [
    "import requests\n",
    "from selenium import webdriver\n",
    "import pandas as pd\n",
    "import math\n",
    "import re\n",
    "import warnings\n",
    "warnings.filterwarnings('ignore')\n",
    "from selenium.webdriver.common.by import By\n",
    "from selenium.webdriver.common.keys import Keys\n",
    "from selenium.webdriver.chrome.service import Service\n",
    "from selenium.webdriver.chrome.options import Options\n",
    "import time\n",
    "from selenium.common.exceptions import NoSuchElementException, StaleElementReferenceException\n",
    "from selenium.webdriver.support.ui import WebDriverWait\n",
    "from selenium.webdriver.support import expected_conditions as EC\n"
   ]
  },
  {
   "cell_type": "code",
   "execution_count": 56,
   "id": "5a58d466",
   "metadata": {},
   "outputs": [],
   "source": [
    "driver = webdriver.Chrome()\n",
    "driver.get(\"https://en.wikipedia.org/wiki/List_of_most-viewed_YouTube_videos\")"
   ]
  },
  {
   "cell_type": "code",
   "execution_count": null,
   "id": "d5607d92",
   "metadata": {},
   "outputs": [],
   "source": [
    "#search_el=[]\n",
    "#search_el=driver.find_element(By.XPATH,'/html/body/div[1]/header/div/div[1]/div[2]/div/form/div[2]/div[1]/input')\n",
    "#search_el.send_keys('guitar')"
   ]
  },
  {
   "cell_type": "code",
   "execution_count": null,
   "id": "be70c59f",
   "metadata": {},
   "outputs": [],
   "source": [
    "#search=driver.find_element(By.CLASS_NAME,\"nav-search-submit-text\")\n",
    "#search.click()"
   ]
  },
  {
   "cell_type": "code",
   "execution_count": 58,
   "id": "adad238a",
   "metadata": {},
   "outputs": [
    {
     "name": "stdout",
     "output_type": "stream",
     "text": [
      "{'Rank': '\"Baby Shark Dance\"[7]', 'Name': \"Pinkfong Baby Shark - Kids' Songs & Stories\", 'Artist': '14.82', 'Upload date': 'June 17, 2016', 'Views': '[A]'}\n",
      "{'Rank': '\"Despacito\"[10]', 'Name': 'Luis Fonsi', 'Artist': '8.49', 'Upload date': 'January 12, 2017', 'Views': '[B]'}\n",
      "{'Rank': '\"Johny Johny Yes Papa\"[18]', 'Name': \"LooLoo Kids - Nursery Rhymes and Children's Songs\", 'Artist': '6.94', 'Upload date': 'October 8, 2016', 'Views': ''}\n",
      "{'Rank': '\"Bath Song\"[19]', 'Name': 'Cocomelon - Nursery Rhymes', 'Artist': '6.79', 'Upload date': 'May 2, 2018', 'Views': ''}\n",
      "{'Rank': '\"Wheels on the Bus\"[20]', 'Name': 'Cocomelon - Nursery Rhymes', 'Artist': '6.34', 'Upload date': 'May 24, 2018', 'Views': ''}\n",
      "{'Rank': '\"See You Again\"[21]', 'Name': 'Wiz Khalifa', 'Artist': '6.33', 'Upload date': 'April 6, 2015', 'Views': '[C]'}\n",
      "{'Rank': '\"Shape of You\"[26]', 'Name': 'Ed Sheeran', 'Artist': '6.30', 'Upload date': 'January 30, 2017', 'Views': '[D]'}\n",
      "{'Rank': '\"Phonics Song with Two Words\"[29]', 'Name': 'ChuChu TV Nursery Rhymes & Kids Songs', 'Artist': '5.90', 'Upload date': 'March 6, 2014', 'Views': ''}\n",
      "{'Rank': '\"Uptown Funk\"[30]', 'Name': 'Mark Ronson', 'Artist': '5.28', 'Upload date': 'November 19, 2014', 'Views': ''}\n",
      "{'Rank': '\"Gangnam Style\"[31]', 'Name': 'Psy', 'Artist': '5.22', 'Upload date': 'July 15, 2012', 'Views': '[E]'}\n",
      "{'Rank': '\"Learning Colors – Colorful Eggs on a Farm\"[36]', 'Name': 'Miroshka TV', 'Artist': '5.15', 'Upload date': 'February 27, 2018', 'Views': ''}\n",
      "{'Rank': '\"Dame Tu Cosita\"[37]', 'Name': 'Ultra Records', 'Artist': '4.72', 'Upload date': 'April 5, 2018', 'Views': ''}\n",
      "{'Rank': '\"Axel F\"[38]', 'Name': 'Crazy Frog', 'Artist': '4.66', 'Upload date': 'June 16, 2009', 'Views': ''}\n",
      "{'Rank': '\"Masha and the Bear – Recipe for Disaster\"[39]', 'Name': 'Get Movies', 'Artist': '4.59', 'Upload date': 'January 31, 2012', 'Views': ''}\n",
      "{'Rank': '\"Baa Baa Black Sheep\"[40]', 'Name': 'Cocomelon - Nursery Rhymes', 'Artist': '4.14', 'Upload date': 'June 25, 2018', 'Views': ''}\n",
      "{'Rank': '\"Lakdi Ki Kathi\"[41]', 'Name': 'Jingle Toons', 'Artist': '4.11', 'Upload date': 'June 14, 2018', 'Views': ''}\n",
      "{'Rank': '\"Sugar\"[42]', 'Name': 'Maroon 5', 'Artist': '4.08', 'Upload date': 'January 14, 2015', 'Views': ''}\n",
      "{'Rank': '\"Counting Stars\"[43]', 'Name': 'OneRepublic', 'Artist': '4.05', 'Upload date': 'May 31, 2013', 'Views': ''}\n",
      "{'Rank': '\"Roar\"[44]', 'Name': 'Katy Perry', 'Artist': '4.03', 'Upload date': 'September 5, 2013', 'Views': ''}\n",
      "{'Rank': '\"Waka Waka (This Time for Africa)\"[45]', 'Name': 'Shakira', 'Artist': '3.99', 'Upload date': 'June 4, 2010', 'Views': ''}\n",
      "{'Rank': '\"Shree Hanuman Chalisa\"[46]', 'Name': 'T-Series Bhakti Sagar', 'Artist': '3.94', 'Upload date': 'May 10, 2011', 'Views': ''}\n",
      "{'Rank': '\"Humpty the train on a fruits ride\"[47]', 'Name': 'Kiddiestv Hindi - Nursery Rhymes & Kids Songs', 'Artist': '3.87', 'Upload date': 'January 26, 2018', 'Views': ''}\n",
      "{'Rank': '\"Sorry\"[48]', 'Name': 'Justin Bieber', 'Artist': '3.83', 'Upload date': 'October 22, 2015', 'Views': ''}\n",
      "{'Rank': '\"Thinking Out Loud\"[49]', 'Name': 'Ed Sheeran', 'Artist': '3.79', 'Upload date': 'October 7, 2014', 'Views': ''}\n",
      "{'Rank': '\"Perfect\"[50]', 'Name': 'Ed Sheeran', 'Artist': '3.77', 'Upload date': 'November 9, 2017', 'Views': ''}\n",
      "{'Rank': '\"Dark Horse\"[51]', 'Name': 'Katy Perry', 'Artist': '3.76', 'Upload date': 'February 20, 2014', 'Views': ''}\n",
      "{'Rank': '\"Let Her Go\"[52]', 'Name': 'Passenger', 'Artist': '3.69', 'Upload date': 'July 25, 2012', 'Views': ''}\n",
      "{'Rank': '\"Faded\"[53]', 'Name': 'Alan Walker', 'Artist': '3.66', 'Upload date': 'December 3, 2015', 'Views': ''}\n",
      "{'Rank': '\"Girls Like You\"[54]', 'Name': 'Maroon 5', 'Artist': '3.64', 'Upload date': 'May 31, 2018', 'Views': ''}\n",
      "{'Rank': '\"Lean On\"[55]', 'Name': 'Major Lazer Official', 'Artist': '3.64', 'Upload date': 'March 22, 2015', 'Views': ''}\n"
     ]
    }
   ],
   "source": [
    "driver = webdriver.Chrome()\n",
    "driver.get(\"https://en.wikipedia.org/wiki/List_of_most-viewed_YouTube_videos\")\n",
    "\n",
    "driver.get(url)\n",
    "table = driver.find_element(By.XPATH, '/html/body/div[2]/div/div[3]/main/div[3]/div[3]/div[1]/table[1]')\n",
    "\n",
    "rows = table.find_elements(By.TAG_NAME, \"tr\")\n",
    "\n",
    "videos = []\n",
    "for row in rows[1:]: \n",
    "    cols = row.find_elements(By.TAG_NAME, \"td\")\n",
    "    if len(cols) >= 5:\n",
    "        rank = cols[0].text\n",
    "        name = cols[1].text\n",
    "        artist = cols[2].text\n",
    "        upload_date = cols[3].text\n",
    "        views = cols[4].text\n",
    "        videos.append({\n",
    "            \"Rank\": rank,\n",
    "            \"Name\": name,\n",
    "            \"Artist\": artist,\n",
    "            \"Upload date\": upload_date,\n",
    "            \"Views\": views\n",
    "        })\n",
    "\n",
    "for video in videos:\n",
    "    print(video)\n",
    "\n",
    "driver.quit()\n"
   ]
  },
  {
   "cell_type": "code",
   "execution_count": null,
   "id": "d5087aab",
   "metadata": {},
   "outputs": [],
   "source": []
  },
  {
   "cell_type": "markdown",
   "id": "7b719a99",
   "metadata": {},
   "source": [
    "# answer 2"
   ]
  },
  {
   "cell_type": "markdown",
   "id": "cb3a22fc",
   "metadata": {},
   "source": [
    "#2. Scrape the details team India’s international fixtures from bcci.tv. \n",
    "Url = https://www.bcci.tv/. \n",
    "You need to find following details: \n",
    "A) Series \n",
    "B) Place \n",
    "C) Date \n",
    "D) Time "
   ]
  },
  {
   "cell_type": "code",
   "execution_count": 60,
   "id": "9d38ab80",
   "metadata": {},
   "outputs": [],
   "source": [
    "driver = webdriver.Chrome()\n",
    "driver.get(\"https://www.bcci.tv\")\n",
    "driver.maximize_window()"
   ]
  },
  {
   "cell_type": "code",
   "execution_count": 68,
   "id": "4d7db3bc",
   "metadata": {
    "scrolled": true
   },
   "outputs": [
    {
     "ename": "SyntaxError",
     "evalue": "invalid syntax. Perhaps you forgot a comma? (1592164526.py, line 17)",
     "output_type": "error",
     "traceback": [
      "\u001b[1;36m  Cell \u001b[1;32mIn[68], line 17\u001b[1;36m\u001b[0m\n\u001b[1;33m    place= driver.find_element(By.XPATH,'//p[@class='fixture__additional-info']/span')\u001b[0m\n\u001b[1;37m                                        ^\u001b[0m\n\u001b[1;31mSyntaxError\u001b[0m\u001b[1;31m:\u001b[0m invalid syntax. Perhaps you forgot a comma?\n"
     ]
    }
   ],
   "source": [
    "Series=[]\n",
    "Place=[]\n",
    "Date=[]\n",
    "Time=[]\n",
    "\n",
    "\n",
    "series =driver.find_elements(By.XPATH,'/html/body/div[5]/div[2]/div/div/div[2]/div/div[2]/div/div/div/div[2]/div/div/div/div[1]/div/div/a/div[1]/div[1]/h5')\n",
    "#series =[]\n",
    "#for i in series:\n",
    " #   series.append(i.text)\n",
    "    \n",
    "#series= driver.find_elements(By.XPATH,'//span[@class='u-unskewed-text fixture__tournament-label u-truncated']')\n",
    "for i in series:\n",
    "    Series.append(i.text)\n",
    "    \n",
    "\n",
    "place= driver.find_elements(By.XPATH,'//p[@class='fixture__additional-info']/span')\n",
    "for i in place:\n",
    "    Place.append(i.text)   \n",
    "    \n",
    "\n",
    "date= driver.find_elements(By.XPATH,'//div[@class='fixture__full-date']')\n",
    "for i in date:\n",
    "    Date.append(i.text)   \n",
    "    \n",
    "time= driver.find_elements(By.XPATH,'//span[@class='fixture__time']')\n",
    "for i in time:\n",
    "    Time.append(i.text) \n",
    "\n",
    "Fixture=pd.DataFrame({})\n",
    "\n",
    "Fixture['Series']=Series\n",
    "Fixture['Place']=Place\n",
    "Fixture['Date']=Date\n",
    "Fixture['Time']=Time\n",
    "Fixture\n",
    "\n"
   ]
  },
  {
   "cell_type": "code",
   "execution_count": 5,
   "id": "cced111f",
   "metadata": {},
   "outputs": [
    {
     "data": {
      "text/plain": [
       "[]"
      ]
     },
     "execution_count": 5,
     "metadata": {},
     "output_type": "execute_result"
    }
   ],
   "source": [
    "series =driver.find_elements(By.XPATH,'/html/body/div[2]/div/div[3]/main/div[3]/div[3]/div[1]/table[1]/tbody/tr[1]/td[2]/a')\n",
    "artist =[]\n",
    "for i in artist:\n",
    "    artist.append(i.text)\n",
    "artist"
   ]
  },
  {
   "cell_type": "code",
   "execution_count": null,
   "id": "df1fc7d8",
   "metadata": {},
   "outputs": [],
   "source": [
    "upload_date =driver.find_elements(By.XPATH,'//span[@class=\"a-price-whole\"]')\n",
    "upload_date =[]\n",
    "for i in upload_date:\n",
    "    upload_date.append(i.text)\n",
    "upload_date"
   ]
  },
  {
   "cell_type": "code",
   "execution_count": null,
   "id": "11bb1926",
   "metadata": {},
   "outputs": [],
   "source": [
    "views =driver.find_elements(By.XPATH,'//span[@class=\"a-price-whole\"]')\n",
    "views =[]\n",
    "for i in views:\n",
    "    views.append(i.text)\n",
    "views"
   ]
  },
  {
   "cell_type": "code",
   "execution_count": null,
   "id": "5cdb8dbd",
   "metadata": {},
   "outputs": [],
   "source": []
  },
  {
   "cell_type": "markdown",
   "id": "b5336b5d",
   "metadata": {},
   "source": [
    "# answer 3"
   ]
  },
  {
   "cell_type": "code",
   "execution_count": null,
   "id": "f6ada2ec",
   "metadata": {},
   "outputs": [],
   "source": [
    "\n",
    "#3. Scrape the details of State-wise GDP of India from statisticstime.com. \n",
    "Url = http://statisticstimes.com/ \n",
    "You have to find following details: \n",
    "A) Rank \n",
    "B) State \n",
    "C) GSDP(18-19)- at current prices \n",
    "D) GSDP(19-20)- at current prices \n",
    "E) Share(18-19) \n",
    "F) GDP($ billion) "
   ]
  },
  {
   "cell_type": "code",
   "execution_count": 81,
   "id": "80f2d4ac",
   "metadata": {},
   "outputs": [],
   "source": [
    "driver = webdriver.Chrome()\n",
    "driver.get(\"https:statisticstimes.com/\")\n",
    "driver.maximize_window()"
   ]
  },
  {
   "cell_type": "code",
   "execution_count": 85,
   "id": "6da3c2d6",
   "metadata": {},
   "outputs": [
    {
     "data": {
      "text/plain": [
       "[<selenium.webdriver.remote.webelement.WebElement (session=\"6bba24bea6003b444ba3ce2cbb0cfa93\", element=\"f.F516049B044A589E01CD211479616467.d.CE3A51537ABC364EAB56A0A98346B07D.e.90\")>,\n",
       " <selenium.webdriver.remote.webelement.WebElement (session=\"6bba24bea6003b444ba3ce2cbb0cfa93\", element=\"f.F516049B044A589E01CD211479616467.d.CE3A51537ABC364EAB56A0A98346B07D.e.102\")>,\n",
       " <selenium.webdriver.remote.webelement.WebElement (session=\"6bba24bea6003b444ba3ce2cbb0cfa93\", element=\"f.F516049B044A589E01CD211479616467.d.CE3A51537ABC364EAB56A0A98346B07D.e.114\")>,\n",
       " <selenium.webdriver.remote.webelement.WebElement (session=\"6bba24bea6003b444ba3ce2cbb0cfa93\", element=\"f.F516049B044A589E01CD211479616467.d.CE3A51537ABC364EAB56A0A98346B07D.e.128\")>,\n",
       " <selenium.webdriver.remote.webelement.WebElement (session=\"6bba24bea6003b444ba3ce2cbb0cfa93\", element=\"f.F516049B044A589E01CD211479616467.d.CE3A51537ABC364EAB56A0A98346B07D.e.137\")>,\n",
       " <selenium.webdriver.remote.webelement.WebElement (session=\"6bba24bea6003b444ba3ce2cbb0cfa93\", element=\"f.F516049B044A589E01CD211479616467.d.CE3A51537ABC364EAB56A0A98346B07D.e.149\")>,\n",
       " <selenium.webdriver.remote.webelement.WebElement (session=\"6bba24bea6003b444ba3ce2cbb0cfa93\", element=\"f.F516049B044A589E01CD211479616467.d.CE3A51537ABC364EAB56A0A98346B07D.e.161\")>]"
      ]
     },
     "execution_count": 85,
     "metadata": {},
     "output_type": "execute_result"
    }
   ],
   "source": [
    "driver.find_elements(By.XPATH,'//i[@class=\"fa fa-caret-down\"]')\n",
    "#driver.find_elements(By.XPATH,'/html/body/div[2]/div[1]/div[2]/div[2]/div/a[3]')\n",
    "#driver.find_elements(By.XPATH,'/html/body/div[2]/div[2]/div[2]/ul/li[1]/a')"
   ]
  },
  {
   "cell_type": "code",
   "execution_count": 76,
   "id": "cefd0bb9",
   "metadata": {},
   "outputs": [],
   "source": [
    "gdp_table=driver.find_elements(By.XPATH,'/html/body/div[3]/div[2]/div[5]/div[1]/div')"
   ]
  },
  {
   "cell_type": "code",
   "execution_count": 56,
   "id": "d9c98b4f",
   "metadata": {},
   "outputs": [],
   "source": [
    "rank = []\n",
    "state = []\n",
    "gsdp23_24 = []\n",
    "gsdp22_23 = []\n",
    "gsdp21_22 = []\n",
    "share21_22 = []\n",
    "gdp_billion = []"
   ]
  },
  {
   "cell_type": "code",
   "execution_count": 86,
   "id": "100f85a5",
   "metadata": {},
   "outputs": [
    {
     "ename": "SyntaxError",
     "evalue": "invalid syntax. Perhaps you forgot a comma? (1456041131.py, line 2)",
     "output_type": "error",
     "traceback": [
      "\u001b[1;36m  Cell \u001b[1;32mIn[86], line 2\u001b[1;36m\u001b[0m\n\u001b[1;33m    for i in driver.find_elements(By.XPATH,'//table[@class='display dataTable']/tbody/tr/td[1]'):\u001b[0m\n\u001b[1;37m                                           ^\u001b[0m\n\u001b[1;31mSyntaxError\u001b[0m\u001b[1;31m:\u001b[0m invalid syntax. Perhaps you forgot a comma?\n"
     ]
    }
   ],
   "source": [
    "try:\n",
    "    for i in driver.find_elements(By.XPATH,'//table[@class='display dataTable']/tbody/tr/td[1]'):\n",
    "        rank.append(i.text)\n",
    "except NoSuchElementException:\n",
    "    rank.append(\"_\")\n",
    "    \n",
    "\n",
    "try:\n",
    "    for i in driver.find_elements(By.XPATH,\"//table[@class='display dataTable']/tbody/tr/td[2]\"):\n",
    "        state.append(i.text)\n",
    "except NoSuchElementException:\n",
    "    state.append(\"_\")\n",
    "    \n",
    "\n",
    "try:\n",
    "    for i in driver.find_elements(By.XPATH,\"//table[@class='display dataTable']/tbody/tr/td[3]\"):\n",
    "        gsdp23_24.append(i.text)\n",
    "except NoSuchElementException:\n",
    "    gsdp23_24.append(\"_\")\n",
    "    \n",
    "\n",
    "try:\n",
    "    for i in driver.find_elements(By.XPATH,\"//table[@class='display dataTable']/tbody/tr/td[4]\"):\n",
    "        gsdp22_23.append(i.text)\n",
    "except NoSuchElementException:\n",
    "    gsdp22_23.append(\"_\")\n",
    "    \n",
    "\n",
    "try:\n",
    "    for i in driver.find_elements(By.XPATH,\"//table[@class='display dataTable']/tbody/tr/td[5]\"):\n",
    "        share21_22.append(i.text)\n",
    "except NoSuchElementException:\n",
    "    share21_22.append(\"_\")\n",
    "    \n",
    "\n",
    "try:\n",
    "    for i in driver.find_elements(By.XPATH,\"//table[@class='display dataTable']/tbody/tr/td[6]\"):\n",
    "        gdp_billion.append(i.text)\n",
    "except NoSuchElementException:\n",
    "    gdp_billion.append(\"_\")\n",
    "    \n",
    "    \n",
    "\n",
    "gdp = pd.DataFrame({})\n",
    "gdp['Rank'] = rank\n",
    "gdp['State'] = state\n",
    "gdp['GSDP Cr INR at current price (23-24)'] = gsdp23_24\n",
    "gdp['GSDP Cr INR at current price (22-23)'] = gsdp22_23\n",
    "gdp['GSDP Cr INR at current price (21-22)'] = gsdp21_22\n",
    "gdp['Share (18-19)'] = share\n",
    "gdp['GDP($ billion)'] = gdp_billion\n",
    "gdp\n",
    " \n",
    "driver.close()"
   ]
  },
  {
   "cell_type": "code",
   "execution_count": null,
   "id": "543b6eb0",
   "metadata": {},
   "outputs": [],
   "source": []
  },
  {
   "cell_type": "code",
   "execution_count": null,
   "id": "84fe75ef",
   "metadata": {},
   "outputs": [],
   "source": []
  },
  {
   "cell_type": "markdown",
   "id": "2f2a2905",
   "metadata": {},
   "source": [
    "# answer 4"
   ]
  },
  {
   "cell_type": "code",
   "execution_count": null,
   "id": "1381c567",
   "metadata": {},
   "outputs": [],
   "source": [
    "#4. Scrape the details of trending repositories on Github.com. \n",
    "Url = https://github.com/ \n",
    "You have to find the following details: \n",
    "A) Repository title \n",
    "B) Repository description \n",
    "C) Contributors count \n",
    "D) Language used \n",
    "Note: - From the home page you have to click on the trending option from Explore menu through code. \n"
   ]
  },
  {
   "cell_type": "code",
   "execution_count": 31,
   "id": "dc0366e0",
   "metadata": {},
   "outputs": [
    {
     "ename": "InvalidSelectorException",
     "evalue": "Message: invalid selector\nfrom javascript error: {\"status\":32,\"value\":\"Unable to locate an element with the xpath expression  because of the following error:\\nSyntaxError: Failed to execute 'evaluate' on 'Document': The string '' is not a valid XPath expression.\"}\n  (Session info: chrome=126.0.6478.185); For documentation on this error, please visit: https://www.selenium.dev/documentation/webdriver/troubleshooting/errors#invalid-selector-exception\nStacktrace:\n\tGetHandleVerifier [0x00007FF68C1EEEB2+31554]\n\t(No symbol) [0x00007FF68C167EE9]\n\t(No symbol) [0x00007FF68C02872A]\n\t(No symbol) [0x00007FF68C02E55E]\n\t(No symbol) [0x00007FF68C030EB1]\n\t(No symbol) [0x00007FF68C030F50]\n\t(No symbol) [0x00007FF68C077F6C]\n\t(No symbol) [0x00007FF68C07853C]\n\t(No symbol) [0x00007FF68C0BF6D7]\n\t(No symbol) [0x00007FF68C09D06F]\n\t(No symbol) [0x00007FF68C0BC977]\n\t(No symbol) [0x00007FF68C09CDD3]\n\t(No symbol) [0x00007FF68C06A33B]\n\t(No symbol) [0x00007FF68C06AED1]\n\tGetHandleVerifier [0x00007FF68C4F8B2D+3217341]\n\tGetHandleVerifier [0x00007FF68C545AF3+3532675]\n\tGetHandleVerifier [0x00007FF68C53B0F0+3489152]\n\tGetHandleVerifier [0x00007FF68C29E786+750614]\n\t(No symbol) [0x00007FF68C17376F]\n\t(No symbol) [0x00007FF68C16EB24]\n\t(No symbol) [0x00007FF68C16ECB2]\n\t(No symbol) [0x00007FF68C15E17F]\n\tBaseThreadInitThunk [0x00007FFCE8AB257D+29]\n\tRtlUserThreadStart [0x00007FFCE9ECAF28+40]\n",
     "output_type": "error",
     "traceback": [
      "\u001b[1;31m---------------------------------------------------------------------------\u001b[0m",
      "\u001b[1;31mInvalidSelectorException\u001b[0m                  Traceback (most recent call last)",
      "Cell \u001b[1;32mIn[31], line 4\u001b[0m\n\u001b[0;32m      1\u001b[0m driver \u001b[38;5;241m=\u001b[39m webdriver\u001b[38;5;241m.\u001b[39mChrome()\n\u001b[0;32m      2\u001b[0m driver\u001b[38;5;241m.\u001b[39mget(\u001b[38;5;124m\"\u001b[39m\u001b[38;5;124mhttps://www.github.com\u001b[39m\u001b[38;5;124m\"\u001b[39m)\n\u001b[1;32m----> 4\u001b[0m trend_url \u001b[38;5;241m=\u001b[39m driver\u001b[38;5;241m.\u001b[39mfind_elements(By\u001b[38;5;241m.\u001b[39mXPATH,\u001b[38;5;124m'\u001b[39m\u001b[38;5;124m'\u001b[39m)\n",
      "File \u001b[1;32m~\\anaconda3\\Lib\\site-packages\\selenium\\webdriver\\remote\\webdriver.py:778\u001b[0m, in \u001b[0;36mWebDriver.find_elements\u001b[1;34m(self, by, value)\u001b[0m\n\u001b[0;32m    774\u001b[0m     value \u001b[38;5;241m=\u001b[39m \u001b[38;5;124mf\u001b[39m\u001b[38;5;124m'\u001b[39m\u001b[38;5;124m[name=\u001b[39m\u001b[38;5;124m\"\u001b[39m\u001b[38;5;132;01m{\u001b[39;00mvalue\u001b[38;5;132;01m}\u001b[39;00m\u001b[38;5;124m\"\u001b[39m\u001b[38;5;124m]\u001b[39m\u001b[38;5;124m'\u001b[39m\n\u001b[0;32m    776\u001b[0m \u001b[38;5;66;03m# Return empty list if driver returns null\u001b[39;00m\n\u001b[0;32m    777\u001b[0m \u001b[38;5;66;03m# See https://github.com/SeleniumHQ/selenium/issues/4555\u001b[39;00m\n\u001b[1;32m--> 778\u001b[0m \u001b[38;5;28;01mreturn\u001b[39;00m \u001b[38;5;28mself\u001b[39m\u001b[38;5;241m.\u001b[39mexecute(Command\u001b[38;5;241m.\u001b[39mFIND_ELEMENTS, {\u001b[38;5;124m\"\u001b[39m\u001b[38;5;124musing\u001b[39m\u001b[38;5;124m\"\u001b[39m: by, \u001b[38;5;124m\"\u001b[39m\u001b[38;5;124mvalue\u001b[39m\u001b[38;5;124m\"\u001b[39m: value})[\u001b[38;5;124m\"\u001b[39m\u001b[38;5;124mvalue\u001b[39m\u001b[38;5;124m\"\u001b[39m] \u001b[38;5;129;01mor\u001b[39;00m []\n",
      "File \u001b[1;32m~\\anaconda3\\Lib\\site-packages\\selenium\\webdriver\\remote\\webdriver.py:354\u001b[0m, in \u001b[0;36mWebDriver.execute\u001b[1;34m(self, driver_command, params)\u001b[0m\n\u001b[0;32m    352\u001b[0m response \u001b[38;5;241m=\u001b[39m \u001b[38;5;28mself\u001b[39m\u001b[38;5;241m.\u001b[39mcommand_executor\u001b[38;5;241m.\u001b[39mexecute(driver_command, params)\n\u001b[0;32m    353\u001b[0m \u001b[38;5;28;01mif\u001b[39;00m response:\n\u001b[1;32m--> 354\u001b[0m     \u001b[38;5;28mself\u001b[39m\u001b[38;5;241m.\u001b[39merror_handler\u001b[38;5;241m.\u001b[39mcheck_response(response)\n\u001b[0;32m    355\u001b[0m     response[\u001b[38;5;124m\"\u001b[39m\u001b[38;5;124mvalue\u001b[39m\u001b[38;5;124m\"\u001b[39m] \u001b[38;5;241m=\u001b[39m \u001b[38;5;28mself\u001b[39m\u001b[38;5;241m.\u001b[39m_unwrap_value(response\u001b[38;5;241m.\u001b[39mget(\u001b[38;5;124m\"\u001b[39m\u001b[38;5;124mvalue\u001b[39m\u001b[38;5;124m\"\u001b[39m, \u001b[38;5;28;01mNone\u001b[39;00m))\n\u001b[0;32m    356\u001b[0m     \u001b[38;5;28;01mreturn\u001b[39;00m response\n",
      "File \u001b[1;32m~\\anaconda3\\Lib\\site-packages\\selenium\\webdriver\\remote\\errorhandler.py:229\u001b[0m, in \u001b[0;36mErrorHandler.check_response\u001b[1;34m(self, response)\u001b[0m\n\u001b[0;32m    227\u001b[0m         alert_text \u001b[38;5;241m=\u001b[39m value[\u001b[38;5;124m\"\u001b[39m\u001b[38;5;124malert\u001b[39m\u001b[38;5;124m\"\u001b[39m]\u001b[38;5;241m.\u001b[39mget(\u001b[38;5;124m\"\u001b[39m\u001b[38;5;124mtext\u001b[39m\u001b[38;5;124m\"\u001b[39m)\n\u001b[0;32m    228\u001b[0m     \u001b[38;5;28;01mraise\u001b[39;00m exception_class(message, screen, stacktrace, alert_text)  \u001b[38;5;66;03m# type: ignore[call-arg]  # mypy is not smart enough here\u001b[39;00m\n\u001b[1;32m--> 229\u001b[0m \u001b[38;5;28;01mraise\u001b[39;00m exception_class(message, screen, stacktrace)\n",
      "\u001b[1;31mInvalidSelectorException\u001b[0m: Message: invalid selector\nfrom javascript error: {\"status\":32,\"value\":\"Unable to locate an element with the xpath expression  because of the following error:\\nSyntaxError: Failed to execute 'evaluate' on 'Document': The string '' is not a valid XPath expression.\"}\n  (Session info: chrome=126.0.6478.185); For documentation on this error, please visit: https://www.selenium.dev/documentation/webdriver/troubleshooting/errors#invalid-selector-exception\nStacktrace:\n\tGetHandleVerifier [0x00007FF68C1EEEB2+31554]\n\t(No symbol) [0x00007FF68C167EE9]\n\t(No symbol) [0x00007FF68C02872A]\n\t(No symbol) [0x00007FF68C02E55E]\n\t(No symbol) [0x00007FF68C030EB1]\n\t(No symbol) [0x00007FF68C030F50]\n\t(No symbol) [0x00007FF68C077F6C]\n\t(No symbol) [0x00007FF68C07853C]\n\t(No symbol) [0x00007FF68C0BF6D7]\n\t(No symbol) [0x00007FF68C09D06F]\n\t(No symbol) [0x00007FF68C0BC977]\n\t(No symbol) [0x00007FF68C09CDD3]\n\t(No symbol) [0x00007FF68C06A33B]\n\t(No symbol) [0x00007FF68C06AED1]\n\tGetHandleVerifier [0x00007FF68C4F8B2D+3217341]\n\tGetHandleVerifier [0x00007FF68C545AF3+3532675]\n\tGetHandleVerifier [0x00007FF68C53B0F0+3489152]\n\tGetHandleVerifier [0x00007FF68C29E786+750614]\n\t(No symbol) [0x00007FF68C17376F]\n\t(No symbol) [0x00007FF68C16EB24]\n\t(No symbol) [0x00007FF68C16ECB2]\n\t(No symbol) [0x00007FF68C15E17F]\n\tBaseThreadInitThunk [0x00007FFCE8AB257D+29]\n\tRtlUserThreadStart [0x00007FFCE9ECAF28+40]\n"
     ]
    }
   ],
   "source": [
    "driver = webdriver.Chrome()\n",
    "driver.get(\"https://www.github.com\")\n",
    "\n",
    "trend_url = driver.find_elements(By.XPATH,'')\n",
    "#urls = trend_url.get_attribute(\"href\")\n",
    "#driver.get(urls)"
   ]
  },
  {
   "cell_type": "code",
   "execution_count": null,
   "id": "df16ce5f",
   "metadata": {},
   "outputs": [],
   "source": [
    "#driver.find_elements(By.XPATH,'/html/body/div[1]/div[3]/main/div/div[4]/form/input[3]')\n",
    "#input (\"Username or Email Id\")\n",
    "#sleep(10)\n"
   ]
  },
  {
   "cell_type": "code",
   "execution_count": null,
   "id": "12eea049",
   "metadata": {},
   "outputs": [],
   "source": [
    "driver.find_elements(By.XPATH,'/html/body/div[1]/div[3]/main/div/div[4]/form/div/input[1]')\n",
    "input (\"Password\")"
   ]
  },
  {
   "cell_type": "code",
   "execution_count": null,
   "id": "2d2273b5",
   "metadata": {},
   "outputs": [],
   "source": [
    "driver.close()"
   ]
  },
  {
   "cell_type": "code",
   "execution_count": 27,
   "id": "723c84d7",
   "metadata": {},
   "outputs": [
    {
     "ename": "AttributeError",
     "evalue": "'list' object has no attribute 'click'",
     "output_type": "error",
     "traceback": [
      "\u001b[1;31m---------------------------------------------------------------------------\u001b[0m",
      "\u001b[1;31mAttributeError\u001b[0m                            Traceback (most recent call last)",
      "Cell \u001b[1;32mIn[27], line 4\u001b[0m\n\u001b[0;32m      2\u001b[0m driver\u001b[38;5;241m.\u001b[39mget(url)\n\u001b[0;32m      3\u001b[0m \u001b[38;5;66;03m# getting explore button and clicking on it\u001b[39;00m\n\u001b[1;32m----> 4\u001b[0m explore \u001b[38;5;241m=\u001b[39m driver\u001b[38;5;241m.\u001b[39mfind_elements(By\u001b[38;5;241m.\u001b[39mXPATH,\u001b[38;5;124m'\u001b[39m\u001b[38;5;124m/html/body/div[1]/header/div/div[2]/nav/ul/li[4]/details\u001b[39m\u001b[38;5;124m'\u001b[39m)\u001b[38;5;241m.\u001b[39mclick()\n\u001b[0;32m      6\u001b[0m \u001b[38;5;66;03m# selecting trending option\u001b[39;00m\n\u001b[0;32m      7\u001b[0m trend_url \u001b[38;5;241m=\u001b[39m driver\u001b[38;5;241m.\u001b[39mfind_elements(By\u001b[38;5;241m.\u001b[39mXPATH,\u001b[38;5;124m\"\u001b[39m\u001b[38;5;124m/html/body/div[1]/header/div/div[2]/nav/ul/li[4]/details/div/ul[2]/li[3]/a\u001b[39m\u001b[38;5;124m\"\u001b[39m)\n",
      "\u001b[1;31mAttributeError\u001b[0m: 'list' object has no attribute 'click'"
     ]
    }
   ],
   "source": [
    "url = (\"https://github.com/\")\n",
    "driver.get(url)\n",
    "# getting explore button and clicking on it\n",
    "explore = driver.find_elements(By.XPATH,'/html/body/div[1]/header/div/div[2]/nav/ul/li[4]/details').click()\n",
    "\n",
    "# selecting trending option\n",
    "trend_url = driver.find_elements(By.XPATH,\"/html/body/div[1]/header/div/div[2]/nav/ul/li[4]/details/div/ul[2]/li[3]/a\")\n",
    "urls = trend_url.get_attribute(\"href\")\n",
    "driver.get(urls)\n",
    "# creating empty list\n",
    "URLs = []\n",
    "repository_title = []\n",
    "Description = []\n",
    "Contributors = []\n",
    "Language = []\n",
    "lang = []\n",
    "\n",
    "# fetching urls for each repository\n",
    "repository = driver.find_elements_by_xpath(\"//h1[@class='h3 lh-condensed']//a\")\n",
    "for i in repository:\n",
    "    URLs.append(i.get_attribute(\"href\"))\n",
    "    \n",
    "# scraping Repository title data\n",
    "title = driver.find_elements_by_xpath(\"//h1[@class = 'h3 lh-condensed']\")\n",
    "for i in title:\n",
    "    repository_title.append(i.text)\n",
    "    \n",
    "# scraping data from all repository page\n",
    "for i in URLs:\n",
    "    driver.get(i)\n",
    "    time.sleep(5)\n",
    "    \n",
    "    # scraping Repository Description data \n",
    "    try:\n",
    "        desc = driver.find_element_by_xpath(\"//p[@class='f4 mt-3']\")\n",
    "        Description.append(desc.text)\n",
    "    except NoSuchElementException:\n",
    "        Description.append('-')\n",
    "        \n",
    "        \n",
    "    # scraping Contributors Count data\n",
    "    try:\n",
    "        contributor = driver.find_element_by_xpath(\"//*[contains(text(),'    Contributors ')]\")\n",
    "        Contributors.append(contributor.text.replace('Contributors',''))\n",
    "    except NoSuchElementException:\n",
    "        Contributors.append('-')\n",
    "    \n",
    "    \n",
    "    # scraping Languages used data\n",
    "    try:\n",
    "        for i in driver.find_elements_by_xpath(\"//ul[@class= 'list-style-none']//li//span[1]\"):\n",
    "            lang.append(i.text)\n",
    "        Language.append(lang)\n",
    "    except NoSuchElementException:\n",
    "        Language.append('-')\n",
    "        \n",
    "        \n",
    "# Data Framing\n",
    "Github = pd.DataFrame({})\n",
    "Github['Repository Title'] = repository_title\n",
    "Github['Repository Description'] = Description\n",
    "Github['Contributors Count'] = Contributors\n",
    "Github['Language Used'] = Language\n",
    "Github\n"
   ]
  },
  {
   "cell_type": "markdown",
   "id": "2c978844",
   "metadata": {},
   "source": [
    "# answer 5\n",
    "\n",
    "5. Scrape the details of top 100 songs on billiboard.com. Url = https:/www.billboard.com/ You have to find the \n",
    "following details: \n",
    "A) Song name \n",
    "B) Artist name \n",
    "C) Last week rank \n",
    "D) Peak rank \n",
    "E) Weeks on board \n",
    " Note: - From the home page you have to click on the charts option then hot 100-page link through code. "
   ]
  },
  {
   "cell_type": "code",
   "execution_count": 4,
   "id": "d933e1e9",
   "metadata": {},
   "outputs": [],
   "source": [
    "driver = webdriver.Chrome()\n",
    "driver.get(\"https://www.billboard.com\")\n",
    "driver.maximize_window()"
   ]
  },
  {
   "cell_type": "code",
   "execution_count": 12,
   "id": "70a49d3b",
   "metadata": {},
   "outputs": [
    {
     "ename": "AttributeError",
     "evalue": "'list' object has no attribute 'get_attribute'",
     "output_type": "error",
     "traceback": [
      "\u001b[1;31m---------------------------------------------------------------------------\u001b[0m",
      "\u001b[1;31mAttributeError\u001b[0m                            Traceback (most recent call last)",
      "Cell \u001b[1;32mIn[12], line 14\u001b[0m\n\u001b[0;32m     12\u001b[0m \u001b[38;5;66;03m# getting urls for top 100 songs\u001b[39;00m\n\u001b[0;32m     13\u001b[0m urls \u001b[38;5;241m=\u001b[39m driver\u001b[38;5;241m.\u001b[39mfind_elements(By\u001b[38;5;241m.\u001b[39mXPATH,\u001b[38;5;124m\"\u001b[39m\u001b[38;5;124m//li[@class=\u001b[39m\u001b[38;5;124m'\u001b[39m\u001b[38;5;124mheader__submenu__list__element\u001b[39m\u001b[38;5;124m'\u001b[39m\u001b[38;5;124m]//a\u001b[39m\u001b[38;5;124m\"\u001b[39m)\n\u001b[1;32m---> 14\u001b[0m page_url \u001b[38;5;241m=\u001b[39m urls\u001b[38;5;241m.\u001b[39mget_attribute(\u001b[38;5;124m\"\u001b[39m\u001b[38;5;124mhref\u001b[39m\u001b[38;5;124m\"\u001b[39m)\n\u001b[0;32m     15\u001b[0m driver\u001b[38;5;241m.\u001b[39mget(page_url)\n\u001b[0;32m     16\u001b[0m time\u001b[38;5;241m.\u001b[39msleep(\u001b[38;5;241m4\u001b[39m)\n",
      "\u001b[1;31mAttributeError\u001b[0m: 'list' object has no attribute 'get_attribute'"
     ]
    }
   ],
   "source": [
    "#search = driver.find_element(By.XPATH,'/html/body/div[3]/div[9]/div/div/div/ul/li[2]/h3/a')\n",
    "#click(self)\n",
    "\n",
    "charts=driver.find_elements(By.XPATH,\"//a[@class='header__main-link header__main-link--charts']\")\n",
    "\n",
    "Song_Name = []\n",
    "Artist_Name =[]\n",
    "Last_week_rank = []\n",
    "Peak_rank = []\n",
    "Weeks_on_board = []\n",
    "\n",
    "\n",
    "urls = driver.find_elements(By.XPATH,\"//li[@class='header__submenu__list__element']//a\")\n",
    "page_url = urls.get_attribute(\"href\")\n",
    "driver.get(page_url)\n",
    "time.sleep(4)\n",
    "\n",
    "\n",
    "for i in driver.find_elements(By.XPATH,\"//span[@class='chart-element__information__song text--truncate color--primary']\"):\n",
    "    Song_Name.append(i.text)\n",
    "    \n",
    "\n",
    "for i in driver.find_elements(By.XPATH,\"//span[@class='chart-element__information__artist text--truncate color--secondary']\"):\n",
    "    Artist_Name.append(i.text)\n",
    "    \n",
    "\n",
    "for i in driver.find_elements(By.XPATH,\"//div[@class='chart-element__meta text--center color--secondary text--last']\"):\n",
    "    Last_week_rank.append(i.text)\n",
    "    \n",
    "\n",
    "\n",
    "for i in driver.find_elements(By.XPATH,\"//div[@class='chart-element__meta text--center color--secondary text--peak']\"):\n",
    "    Peak_rank.append(i.text)       \n",
    "    \n",
    "    \n",
    "\n",
    "for i in driver.find_elements(By.XPATH,\"//div[@class='chart-element__meta text--center color--secondary text--week']\"):\n",
    "    Weeks_on_board.append(i.text)\n",
    "    \n",
    "    \n",
    "\n",
    "billiboard = pd.DataFrame({})\n",
    "billiboard['Name'] = Song_Name\n",
    "billiboard['Artist'] = Artist_Name\n",
    "billiboard['Last Week Rank'] = Last_week_rank\n",
    "billiboard['Peak Rank'] = Peak_rank\n",
    "billiboard['Weeks on board'] = Weeks_on_board\n",
    "billiboard"
   ]
  },
  {
   "cell_type": "markdown",
   "id": "89c501a7",
   "metadata": {},
   "source": [
    "# answer 6\n",
    "6. Scrape the details of Highest selling novels. \n",
    "A) Book name \n",
    "B) Author name \n",
    "C) Volumes sold \n",
    "D) Publisher \n",
    "E) Genre \n",
    " Url - https://www.theguardian.com/news/datablog/2012/aug/09/best-selling-books-all-time-fifty-shades-grey-compare\n",
    " "
   ]
  },
  {
   "cell_type": "code",
   "execution_count": 13,
   "id": "4e9110ec",
   "metadata": {},
   "outputs": [],
   "source": [
    "driver = webdriver.Chrome()\n",
    "driver.get(\"https://www.theguardian.com/news/datablog/2012/aug/09/best-selling-books-all-time-fifty-shades-grey-compare\")\n",
    "driver.maximize_window()"
   ]
  },
  {
   "cell_type": "code",
   "execution_count": 19,
   "id": "250d8442",
   "metadata": {},
   "outputs": [
    {
     "name": "stdout",
     "output_type": "stream",
     "text": [
      "{'Book Name': '1', 'Author Name': 'Da Vinci Code,The', 'Volume Sold': 'Brown, Dan', 'Publisher': '5,094,805', 'Genre': 'Transworld'}\n",
      "{'Book Name': '2', 'Author Name': 'Harry Potter and the Deathly Hallows', 'Volume Sold': 'Rowling, J.K.', 'Publisher': '4,475,152', 'Genre': 'Bloomsbury'}\n",
      "{'Book Name': '3', 'Author Name': \"Harry Potter and the Philosopher's Stone\", 'Volume Sold': 'Rowling, J.K.', 'Publisher': '4,200,654', 'Genre': 'Bloomsbury'}\n",
      "{'Book Name': '4', 'Author Name': 'Harry Potter and the Order of the Phoenix', 'Volume Sold': 'Rowling, J.K.', 'Publisher': '4,179,479', 'Genre': 'Bloomsbury'}\n",
      "{'Book Name': '5', 'Author Name': 'Fifty Shades of Grey', 'Volume Sold': 'James, E. L.', 'Publisher': '3,758,936', 'Genre': 'Random House'}\n",
      "{'Book Name': '6', 'Author Name': 'Harry Potter and the Goblet of Fire', 'Volume Sold': 'Rowling, J.K.', 'Publisher': '3,583,215', 'Genre': 'Bloomsbury'}\n",
      "{'Book Name': '7', 'Author Name': 'Harry Potter and the Chamber of Secrets', 'Volume Sold': 'Rowling, J.K.', 'Publisher': '3,484,047', 'Genre': 'Bloomsbury'}\n",
      "{'Book Name': '8', 'Author Name': 'Harry Potter and the Prisoner of Azkaban', 'Volume Sold': 'Rowling, J.K.', 'Publisher': '3,377,906', 'Genre': 'Bloomsbury'}\n",
      "{'Book Name': '9', 'Author Name': 'Angels and Demons', 'Volume Sold': 'Brown, Dan', 'Publisher': '3,193,946', 'Genre': 'Transworld'}\n",
      "{'Book Name': '10', 'Author Name': \"Harry Potter and the Half-blood Prince:Children's Edition\", 'Volume Sold': 'Rowling, J.K.', 'Publisher': '2,950,264', 'Genre': 'Bloomsbury'}\n",
      "{'Book Name': '11', 'Author Name': 'Fifty Shades Darker', 'Volume Sold': 'James, E. L.', 'Publisher': '2,479,784', 'Genre': 'Random House'}\n",
      "{'Book Name': '12', 'Author Name': 'Twilight', 'Volume Sold': 'Meyer, Stephenie', 'Publisher': '2,315,405', 'Genre': 'Little, Brown Book'}\n",
      "{'Book Name': '13', 'Author Name': 'Girl with the Dragon Tattoo,The:Millennium Trilogy', 'Volume Sold': 'Larsson, Stieg', 'Publisher': '2,233,570', 'Genre': 'Quercus'}\n",
      "{'Book Name': '14', 'Author Name': 'Fifty Shades Freed', 'Volume Sold': 'James, E. L.', 'Publisher': '2,193,928', 'Genre': 'Random House'}\n",
      "{'Book Name': '15', 'Author Name': 'Lost Symbol,The', 'Volume Sold': 'Brown, Dan', 'Publisher': '2,183,031', 'Genre': 'Transworld'}\n",
      "{'Book Name': '16', 'Author Name': 'New Moon', 'Volume Sold': 'Meyer, Stephenie', 'Publisher': '2,152,737', 'Genre': 'Little, Brown Book'}\n",
      "{'Book Name': '17', 'Author Name': 'Deception Point', 'Volume Sold': 'Brown, Dan', 'Publisher': '2,062,145', 'Genre': 'Transworld'}\n",
      "{'Book Name': '18', 'Author Name': 'Eclipse', 'Volume Sold': 'Meyer, Stephenie', 'Publisher': '2,052,876', 'Genre': 'Little, Brown Book'}\n",
      "{'Book Name': '19', 'Author Name': 'Lovely Bones,The', 'Volume Sold': 'Sebold, Alice', 'Publisher': '2,005,598', 'Genre': 'Pan Macmillan'}\n",
      "{'Book Name': '20', 'Author Name': 'Curious Incident of the Dog in the Night-time,The', 'Volume Sold': 'Haddon, Mark', 'Publisher': '1,979,552', 'Genre': 'Random House'}\n",
      "{'Book Name': '21', 'Author Name': 'Digital Fortress', 'Volume Sold': 'Brown, Dan', 'Publisher': '1,928,900', 'Genre': 'Transworld'}\n",
      "{'Book Name': '22', 'Author Name': 'Short History of Nearly Everything,A', 'Volume Sold': 'Bryson, Bill', 'Publisher': '1,852,919', 'Genre': 'Transworld'}\n",
      "{'Book Name': '23', 'Author Name': 'Girl Who Played with Fire,The:Millennium Trilogy', 'Volume Sold': 'Larsson, Stieg', 'Publisher': '1,814,784', 'Genre': 'Quercus'}\n",
      "{'Book Name': '24', 'Author Name': 'Breaking Dawn', 'Volume Sold': 'Meyer, Stephenie', 'Publisher': '1,787,118', 'Genre': 'Little, Brown Book'}\n",
      "{'Book Name': '25', 'Author Name': 'Very Hungry Caterpillar,The:The Very Hungry Caterpillar', 'Volume Sold': 'Carle, Eric', 'Publisher': '1,783,535', 'Genre': 'Penguin'}\n",
      "{'Book Name': '26', 'Author Name': 'Gruffalo,The', 'Volume Sold': 'Donaldson, Julia', 'Publisher': '1,781,269', 'Genre': 'Pan Macmillan'}\n",
      "{'Book Name': '27', 'Author Name': \"Jamie's 30-Minute Meals\", 'Volume Sold': 'Oliver, Jamie', 'Publisher': '1,743,266', 'Genre': 'Penguin'}\n",
      "{'Book Name': '28', 'Author Name': 'Kite Runner,The', 'Volume Sold': 'Hosseini, Khaled', 'Publisher': '1,629,119', 'Genre': 'Bloomsbury'}\n",
      "{'Book Name': '29', 'Author Name': 'One Day', 'Volume Sold': 'Nicholls, David', 'Publisher': '1,616,068', 'Genre': 'Hodder & Stoughton'}\n",
      "{'Book Name': '30', 'Author Name': 'Thousand Splendid Suns,A', 'Volume Sold': 'Hosseini, Khaled', 'Publisher': '1,583,992', 'Genre': 'Bloomsbury'}\n",
      "{'Book Name': '31', 'Author Name': \"Girl Who Kicked the Hornets' Nest,The:Millennium Trilogy\", 'Volume Sold': 'Larsson, Stieg', 'Publisher': '1,555,135', 'Genre': 'Quercus'}\n",
      "{'Book Name': '32', 'Author Name': \"Time Traveler's Wife,The\", 'Volume Sold': 'Niffenegger, Audrey', 'Publisher': '1,546,886', 'Genre': 'Random House'}\n",
      "{'Book Name': '33', 'Author Name': 'Atonement', 'Volume Sold': 'McEwan, Ian', 'Publisher': '1,539,428', 'Genre': 'Random House'}\n",
      "{'Book Name': '34', 'Author Name': \"Bridget Jones's Diary:A Novel\", 'Volume Sold': 'Fielding, Helen', 'Publisher': '1,508,205', 'Genre': 'Pan Macmillan'}\n",
      "{'Book Name': '35', 'Author Name': 'World According to Clarkson,The', 'Volume Sold': 'Clarkson, Jeremy', 'Publisher': '1,489,403', 'Genre': 'Penguin'}\n",
      "{'Book Name': '36', 'Author Name': \"Captain Corelli's Mandolin\", 'Volume Sold': 'Bernieres, Louis de', 'Publisher': '1,352,318', 'Genre': 'Random House'}\n",
      "{'Book Name': '37', 'Author Name': 'Sound of Laughter,The', 'Volume Sold': 'Kay, Peter', 'Publisher': '1,310,207', 'Genre': 'Random House'}\n",
      "{'Book Name': '38', 'Author Name': 'Life of Pi', 'Volume Sold': 'Martel, Yann', 'Publisher': '1,310,176', 'Genre': 'Canongate'}\n",
      "{'Book Name': '39', 'Author Name': 'Billy Connolly', 'Volume Sold': 'Stephenson, Pamela', 'Publisher': '1,231,957', 'Genre': 'HarperCollins'}\n",
      "{'Book Name': '40', 'Author Name': 'Child Called It,A', 'Volume Sold': 'Pelzer, Dave', 'Publisher': '1,217,712', 'Genre': 'Orion'}\n",
      "{'Book Name': '41', 'Author Name': \"Gruffalo's Child,The\", 'Volume Sold': 'Donaldson, Julia', 'Publisher': '1,208,711', 'Genre': 'Pan Macmillan'}\n",
      "{'Book Name': '42', 'Author Name': \"Angela's Ashes:A Memoir of a Childhood\", 'Volume Sold': 'McCourt, Frank', 'Publisher': '1,204,058', 'Genre': 'HarperCollins'}\n",
      "{'Book Name': '43', 'Author Name': 'Birdsong', 'Volume Sold': 'Faulks, Sebastian', 'Publisher': '1,184,967', 'Genre': 'Random House'}\n",
      "{'Book Name': '44', 'Author Name': 'Northern Lights:His Dark Materials S.', 'Volume Sold': 'Pullman, Philip', 'Publisher': '1,181,503', 'Genre': 'Scholastic Ltd.'}\n",
      "{'Book Name': '45', 'Author Name': 'Labyrinth', 'Volume Sold': 'Mosse, Kate', 'Publisher': '1,181,093', 'Genre': 'Orion'}\n",
      "{'Book Name': '46', 'Author Name': 'Harry Potter and the Half-blood Prince', 'Volume Sold': 'Rowling, J.K.', 'Publisher': '1,153,181', 'Genre': 'Bloomsbury'}\n",
      "{'Book Name': '47', 'Author Name': 'Help,The', 'Volume Sold': 'Stockett, Kathryn', 'Publisher': '1,132,336', 'Genre': 'Penguin'}\n",
      "{'Book Name': '48', 'Author Name': 'Man and Boy', 'Volume Sold': 'Parsons, Tony', 'Publisher': '1,130,802', 'Genre': 'HarperCollins'}\n",
      "{'Book Name': '49', 'Author Name': 'Memoirs of a Geisha', 'Volume Sold': 'Golden, Arthur', 'Publisher': '1,126,337', 'Genre': 'Random House'}\n",
      "{'Book Name': '50', 'Author Name': \"No.1 Ladies' Detective Agency,The:No.1 Ladies' Detective Agency S.\", 'Volume Sold': 'McCall Smith, Alexander', 'Publisher': '1,115,549', 'Genre': 'Little, Brown Book'}\n",
      "{'Book Name': '51', 'Author Name': 'Island,The', 'Volume Sold': 'Hislop, Victoria', 'Publisher': '1,108,328', 'Genre': 'Headline'}\n",
      "{'Book Name': '52', 'Author Name': 'PS, I Love You', 'Volume Sold': 'Ahern, Cecelia', 'Publisher': '1,107,379', 'Genre': 'HarperCollins'}\n",
      "{'Book Name': '53', 'Author Name': 'You are What You Eat:The Plan That Will Change Your Life', 'Volume Sold': 'McKeith, Gillian', 'Publisher': '1,104,403', 'Genre': 'Penguin'}\n",
      "{'Book Name': '54', 'Author Name': 'Shadow of the Wind,The', 'Volume Sold': 'Zafon, Carlos Ruiz', 'Publisher': '1,092,349', 'Genre': 'Orion'}\n",
      "{'Book Name': '55', 'Author Name': 'Tales of Beedle the Bard,The', 'Volume Sold': 'Rowling, J.K.', 'Publisher': '1,090,847', 'Genre': 'Bloomsbury'}\n",
      "{'Book Name': '56', 'Author Name': 'Broker,The', 'Volume Sold': 'Grisham, John', 'Publisher': '1,087,262', 'Genre': 'Random House'}\n",
      "{'Book Name': '57', 'Author Name': \"Dr. Atkins' New Diet Revolution:The No-hunger, Luxurious Weight Loss P\", 'Volume Sold': 'Atkins, Robert C.', 'Publisher': '1,054,196', 'Genre': 'Random House'}\n",
      "{'Book Name': '58', 'Author Name': 'Subtle Knife,The:His Dark Materials S.', 'Volume Sold': 'Pullman, Philip', 'Publisher': '1,037,160', 'Genre': 'Scholastic Ltd.'}\n",
      "{'Book Name': '59', 'Author Name': 'Eats, Shoots and Leaves:The Zero Tolerance Approach to Punctuation', 'Volume Sold': 'Truss, Lynne', 'Publisher': '1,023,688', 'Genre': 'Profile Books Group'}\n",
      "{'Book Name': '60', 'Author Name': \"Delia's How to Cook:(Bk.1)\", 'Volume Sold': 'Smith, Delia', 'Publisher': '1,015,956', 'Genre': 'Random House'}\n",
      "{'Book Name': '61', 'Author Name': 'Chocolat', 'Volume Sold': 'Harris, Joanne', 'Publisher': '1,009,873', 'Genre': 'Transworld'}\n",
      "{'Book Name': '62', 'Author Name': 'Boy in the Striped Pyjamas,The', 'Volume Sold': 'Boyne, John', 'Publisher': '1,004,414', 'Genre': 'Random House Childrens Books G'}\n",
      "{'Book Name': '63', 'Author Name': \"My Sister's Keeper\", 'Volume Sold': 'Picoult, Jodi', 'Publisher': '1,003,780', 'Genre': 'Hodder & Stoughton'}\n",
      "{'Book Name': '64', 'Author Name': 'Amber Spyglass,The:His Dark Materials S.', 'Volume Sold': 'Pullman, Philip', 'Publisher': '1,002,314', 'Genre': 'Scholastic Ltd.'}\n",
      "{'Book Name': '65', 'Author Name': 'To Kill a Mockingbird', 'Volume Sold': 'Lee, Harper', 'Publisher': '998,213', 'Genre': 'Random House'}\n",
      "{'Book Name': '66', 'Author Name': 'Men are from Mars, Women are from Venus:A Practical Guide for Improvin', 'Volume Sold': 'Gray, John', 'Publisher': '992,846', 'Genre': 'HarperCollins'}\n",
      "{'Book Name': '67', 'Author Name': 'Dear Fatty', 'Volume Sold': 'French, Dawn', 'Publisher': '986,753', 'Genre': 'Random House'}\n",
      "{'Book Name': '68', 'Author Name': 'Short History of Tractors in Ukrainian,A', 'Volume Sold': 'Lewycka, Marina', 'Publisher': '986,115', 'Genre': 'Penguin'}\n",
      "{'Book Name': '69', 'Author Name': 'Hannibal', 'Volume Sold': 'Harris, Thomas', 'Publisher': '970,509', 'Genre': 'Random House'}\n",
      "{'Book Name': '70', 'Author Name': 'Lord of the Rings,The', 'Volume Sold': 'Tolkien, J. R. R.', 'Publisher': '967,466', 'Genre': 'HarperCollins'}\n",
      "{'Book Name': '71', 'Author Name': 'Stupid White Men:...and Other Sorry Excuses for the State of the Natio', 'Volume Sold': 'Moore, Michael', 'Publisher': '963,353', 'Genre': 'Penguin'}\n",
      "{'Book Name': '72', 'Author Name': 'Interpretation of Murder,The', 'Volume Sold': 'Rubenfeld, Jed', 'Publisher': '962,515', 'Genre': 'Headline'}\n",
      "{'Book Name': '73', 'Author Name': 'Sharon Osbourne Extreme:My Autobiography', 'Volume Sold': 'Osbourne, Sharon', 'Publisher': '959,496', 'Genre': 'Little, Brown Book'}\n",
      "{'Book Name': '74', 'Author Name': 'Alchemist,The:A Fable About Following Your Dream', 'Volume Sold': 'Coelho, Paulo', 'Publisher': '956,114', 'Genre': 'HarperCollins'}\n",
      "{'Book Name': '75', 'Author Name': \"At My Mother's Knee ...:and Other Low Joints\", 'Volume Sold': \"O'Grady, Paul\", 'Publisher': '945,640', 'Genre': 'Transworld'}\n",
      "{'Book Name': '76', 'Author Name': 'Notes from a Small Island', 'Volume Sold': 'Bryson, Bill', 'Publisher': '931,312', 'Genre': 'Transworld'}\n",
      "{'Book Name': '77', 'Author Name': 'Return of the Naked Chef,The', 'Volume Sold': 'Oliver, Jamie', 'Publisher': '925,425', 'Genre': 'Penguin'}\n",
      "{'Book Name': '78', 'Author Name': 'Bridget Jones: The Edge of Reason', 'Volume Sold': 'Fielding, Helen', 'Publisher': '924,695', 'Genre': 'Pan Macmillan'}\n",
      "{'Book Name': '79', 'Author Name': \"Jamie's Italy\", 'Volume Sold': 'Oliver, Jamie', 'Publisher': '906,968', 'Genre': 'Penguin'}\n",
      "{'Book Name': '80', 'Author Name': 'I Can Make You Thin', 'Volume Sold': 'McKenna, Paul', 'Publisher': '905,086', 'Genre': 'Transworld'}\n",
      "{'Book Name': '81', 'Author Name': 'Down Under', 'Volume Sold': 'Bryson, Bill', 'Publisher': '890,847', 'Genre': 'Transworld'}\n",
      "{'Book Name': '82', 'Author Name': 'Summons,The', 'Volume Sold': 'Grisham, John', 'Publisher': '869,671', 'Genre': 'Random House'}\n",
      "{'Book Name': '83', 'Author Name': 'Small Island', 'Volume Sold': 'Levy, Andrea', 'Publisher': '869,659', 'Genre': 'Headline'}\n",
      "{'Book Name': '84', 'Author Name': 'Nigella Express', 'Volume Sold': 'Lawson, Nigella', 'Publisher': '862,602', 'Genre': 'Random House'}\n",
      "{'Book Name': '85', 'Author Name': 'Brick Lane', 'Volume Sold': 'Ali, Monica', 'Publisher': '856,540', 'Genre': 'Transworld'}\n",
      "{'Book Name': '86', 'Author Name': \"Memory Keeper's Daughter,The\", 'Volume Sold': 'Edwards, Kim', 'Publisher': '845,858', 'Genre': 'Penguin'}\n",
      "{'Book Name': '87', 'Author Name': 'Room on the Broom', 'Volume Sold': 'Donaldson, Julia', 'Publisher': '842,535', 'Genre': 'Pan Macmillan'}\n",
      "{'Book Name': '88', 'Author Name': 'About a Boy', 'Volume Sold': 'Hornby, Nick', 'Publisher': '828,215', 'Genre': 'Penguin'}\n",
      "{'Book Name': '89', 'Author Name': 'My Booky Wook', 'Volume Sold': 'Brand, Russell', 'Publisher': '820,563', 'Genre': 'Hodder & Stoughton'}\n",
      "{'Book Name': '90', 'Author Name': 'God Delusion,The', 'Volume Sold': 'Dawkins, Richard', 'Publisher': '816,907', 'Genre': 'Transworld'}\n",
      "{'Book Name': '91', 'Author Name': '\"Beano\" Annual,The', 'Volume Sold': '0', 'Publisher': '816,585', 'Genre': 'D.C. Thomson'}\n",
      "{'Book Name': '92', 'Author Name': 'White Teeth', 'Volume Sold': 'Smith, Zadie', 'Publisher': '815,586', 'Genre': 'Penguin'}\n",
      "{'Book Name': '93', 'Author Name': 'House at Riverton,The', 'Volume Sold': 'Morton, Kate', 'Publisher': '814,370', 'Genre': 'Pan Macmillan'}\n",
      "{'Book Name': '94', 'Author Name': 'Book Thief,The', 'Volume Sold': 'Zusak, Markus', 'Publisher': '809,641', 'Genre': 'Transworld'}\n",
      "{'Book Name': '95', 'Author Name': 'Nights of Rain and Stars', 'Volume Sold': 'Binchy, Maeve', 'Publisher': '808,900', 'Genre': 'Orion'}\n",
      "{'Book Name': '96', 'Author Name': 'Ghost,The', 'Volume Sold': 'Harris, Robert', 'Publisher': '807,311', 'Genre': 'Random House'}\n",
      "{'Book Name': '97', 'Author Name': 'Happy Days with the Naked Chef', 'Volume Sold': 'Oliver, Jamie', 'Publisher': '794,201', 'Genre': 'Penguin'}\n",
      "{'Book Name': '98', 'Author Name': 'Hunger Games,The:Hunger Games Trilogy', 'Volume Sold': 'Collins, Suzanne', 'Publisher': '792,187', 'Genre': 'Scholastic Ltd.'}\n",
      "{'Book Name': '99', 'Author Name': \"Lost Boy,The:A Foster Child's Search for the Love of a Family\", 'Volume Sold': 'Pelzer, Dave', 'Publisher': '791,507', 'Genre': 'Orion'}\n",
      "{'Book Name': '100', 'Author Name': \"Jamie's Ministry of Food:Anyone Can Learn to Cook in 24 Hours\", 'Volume Sold': 'Oliver, Jamie', 'Publisher': '791,095', 'Genre': 'Penguin'}\n"
     ]
    }
   ],
   "source": [
    "table = driver.find_element(By.XPATH,'/html/body/div/div[2]/div[2]/div/div[2]/div/table')\n",
    "\n",
    "rows = table.find_elements(By.TAG_NAME, \"tr\")\n",
    "\n",
    "topbooks = []\n",
    "for row in rows[1:]: \n",
    "    cols = row.find_elements(By.TAG_NAME, \"td\")\n",
    "    if len(cols) >= 5:\n",
    "        book_title = cols[0].text\n",
    "        author_name = cols[1].text\n",
    "        vol_sold = cols[2].text\n",
    "        publisher = cols[3].text\n",
    "        genre = cols[4].text\n",
    "        topbooks.append({\n",
    "            \"Book Name\": book_title,\n",
    "            \"Author Name\": author_name,\n",
    "            \"Volume Sold\": vol_sold,\n",
    "            \"Publisher\": publisher,\n",
    "            \"Genre\": genre\n",
    "        })\n",
    "\n",
    "\n",
    "for topbook in topbooks:\n",
    "    print(topbook)\n",
    "\n",
    "driver.quit()\n"
   ]
  },
  {
   "cell_type": "code",
   "execution_count": null,
   "id": "cb7911d7",
   "metadata": {},
   "outputs": [],
   "source": []
  },
  {
   "cell_type": "markdown",
   "id": "9c4322fb",
   "metadata": {},
   "source": [
    "# answer 7\n",
    "\n",
    "7. Scrape the details most watched tv series of all time from imdb.com. \n",
    "Url = https://www.imdb.com/list/ls095964455/ You have \n",
    "to find the following details: \n",
    "A) Name \n",
    "B) Year span \n",
    "C) Genre \n",
    "D) Run time \n",
    "E) Ratings \n",
    "F) Votes "
   ]
  },
  {
   "cell_type": "code",
   "execution_count": 87,
   "id": "dd972c39",
   "metadata": {},
   "outputs": [],
   "source": [
    "driver = webdriver.Chrome()\n",
    "driver.get(\"https://www.imdb.com/list/ls095964455/\")\n",
    "driver.maximize_window()"
   ]
  },
  {
   "cell_type": "code",
   "execution_count": 98,
   "id": "1bc898d6",
   "metadata": {},
   "outputs": [],
   "source": [
    "Name =[]\n",
    "Year_span =[]\n",
    "Genre =[]\n",
    "Runtime =[]\n",
    "Ratings =[]\n",
    "Votes = []"
   ]
  },
  {
   "cell_type": "code",
   "execution_count": 104,
   "id": "1d7ae86b",
   "metadata": {},
   "outputs": [
    {
     "ename": "ValueError",
     "evalue": "Length of values (5) does not match length of index (6)",
     "output_type": "error",
     "traceback": [
      "\u001b[1;31m---------------------------------------------------------------------------\u001b[0m",
      "\u001b[1;31mValueError\u001b[0m                                Traceback (most recent call last)",
      "Cell \u001b[1;32mIn[104], line 19\u001b[0m\n\u001b[0;32m     17\u001b[0m most_watch[\u001b[38;5;124m'\u001b[39m\u001b[38;5;124mGenre\u001b[39m\u001b[38;5;124m'\u001b[39m] \u001b[38;5;241m=\u001b[39m Genre\n\u001b[0;32m     18\u001b[0m \u001b[38;5;66;03m#most_watch['Run Time'] = Runtime\u001b[39;00m\n\u001b[1;32m---> 19\u001b[0m most_watch[\u001b[38;5;124m'\u001b[39m\u001b[38;5;124mRatings\u001b[39m\u001b[38;5;124m'\u001b[39m] \u001b[38;5;241m=\u001b[39m Ratings\n\u001b[0;32m     20\u001b[0m most_watch[\u001b[38;5;124m'\u001b[39m\u001b[38;5;124mVotes\u001b[39m\u001b[38;5;124m'\u001b[39m] \u001b[38;5;241m=\u001b[39m Votes\n\u001b[0;32m     21\u001b[0m most_watch\n",
      "File \u001b[1;32m~\\anaconda3\\Lib\\site-packages\\pandas\\core\\frame.py:3950\u001b[0m, in \u001b[0;36mDataFrame.__setitem__\u001b[1;34m(self, key, value)\u001b[0m\n\u001b[0;32m   3947\u001b[0m     \u001b[38;5;28mself\u001b[39m\u001b[38;5;241m.\u001b[39m_setitem_array([key], value)\n\u001b[0;32m   3948\u001b[0m \u001b[38;5;28;01melse\u001b[39;00m:\n\u001b[0;32m   3949\u001b[0m     \u001b[38;5;66;03m# set column\u001b[39;00m\n\u001b[1;32m-> 3950\u001b[0m     \u001b[38;5;28mself\u001b[39m\u001b[38;5;241m.\u001b[39m_set_item(key, value)\n",
      "File \u001b[1;32m~\\anaconda3\\Lib\\site-packages\\pandas\\core\\frame.py:4143\u001b[0m, in \u001b[0;36mDataFrame._set_item\u001b[1;34m(self, key, value)\u001b[0m\n\u001b[0;32m   4133\u001b[0m \u001b[38;5;28;01mdef\u001b[39;00m \u001b[38;5;21m_set_item\u001b[39m(\u001b[38;5;28mself\u001b[39m, key, value) \u001b[38;5;241m-\u001b[39m\u001b[38;5;241m>\u001b[39m \u001b[38;5;28;01mNone\u001b[39;00m:\n\u001b[0;32m   4134\u001b[0m \u001b[38;5;250m    \u001b[39m\u001b[38;5;124;03m\"\"\"\u001b[39;00m\n\u001b[0;32m   4135\u001b[0m \u001b[38;5;124;03m    Add series to DataFrame in specified column.\u001b[39;00m\n\u001b[0;32m   4136\u001b[0m \n\u001b[1;32m   (...)\u001b[0m\n\u001b[0;32m   4141\u001b[0m \u001b[38;5;124;03m    ensure homogeneity.\u001b[39;00m\n\u001b[0;32m   4142\u001b[0m \u001b[38;5;124;03m    \"\"\"\u001b[39;00m\n\u001b[1;32m-> 4143\u001b[0m     value \u001b[38;5;241m=\u001b[39m \u001b[38;5;28mself\u001b[39m\u001b[38;5;241m.\u001b[39m_sanitize_column(value)\n\u001b[0;32m   4145\u001b[0m     \u001b[38;5;28;01mif\u001b[39;00m (\n\u001b[0;32m   4146\u001b[0m         key \u001b[38;5;129;01min\u001b[39;00m \u001b[38;5;28mself\u001b[39m\u001b[38;5;241m.\u001b[39mcolumns\n\u001b[0;32m   4147\u001b[0m         \u001b[38;5;129;01mand\u001b[39;00m value\u001b[38;5;241m.\u001b[39mndim \u001b[38;5;241m==\u001b[39m \u001b[38;5;241m1\u001b[39m\n\u001b[0;32m   4148\u001b[0m         \u001b[38;5;129;01mand\u001b[39;00m \u001b[38;5;129;01mnot\u001b[39;00m is_extension_array_dtype(value)\n\u001b[0;32m   4149\u001b[0m     ):\n\u001b[0;32m   4150\u001b[0m         \u001b[38;5;66;03m# broadcast across multiple columns if necessary\u001b[39;00m\n\u001b[0;32m   4151\u001b[0m         \u001b[38;5;28;01mif\u001b[39;00m \u001b[38;5;129;01mnot\u001b[39;00m \u001b[38;5;28mself\u001b[39m\u001b[38;5;241m.\u001b[39mcolumns\u001b[38;5;241m.\u001b[39mis_unique \u001b[38;5;129;01mor\u001b[39;00m \u001b[38;5;28misinstance\u001b[39m(\u001b[38;5;28mself\u001b[39m\u001b[38;5;241m.\u001b[39mcolumns, MultiIndex):\n",
      "File \u001b[1;32m~\\anaconda3\\Lib\\site-packages\\pandas\\core\\frame.py:4870\u001b[0m, in \u001b[0;36mDataFrame._sanitize_column\u001b[1;34m(self, value)\u001b[0m\n\u001b[0;32m   4867\u001b[0m     \u001b[38;5;28;01mreturn\u001b[39;00m _reindex_for_setitem(Series(value), \u001b[38;5;28mself\u001b[39m\u001b[38;5;241m.\u001b[39mindex)\n\u001b[0;32m   4869\u001b[0m \u001b[38;5;28;01mif\u001b[39;00m is_list_like(value):\n\u001b[1;32m-> 4870\u001b[0m     com\u001b[38;5;241m.\u001b[39mrequire_length_match(value, \u001b[38;5;28mself\u001b[39m\u001b[38;5;241m.\u001b[39mindex)\n\u001b[0;32m   4871\u001b[0m \u001b[38;5;28;01mreturn\u001b[39;00m sanitize_array(value, \u001b[38;5;28mself\u001b[39m\u001b[38;5;241m.\u001b[39mindex, copy\u001b[38;5;241m=\u001b[39m\u001b[38;5;28;01mTrue\u001b[39;00m, allow_2d\u001b[38;5;241m=\u001b[39m\u001b[38;5;28;01mTrue\u001b[39;00m)\n",
      "File \u001b[1;32m~\\anaconda3\\Lib\\site-packages\\pandas\\core\\common.py:576\u001b[0m, in \u001b[0;36mrequire_length_match\u001b[1;34m(data, index)\u001b[0m\n\u001b[0;32m    572\u001b[0m \u001b[38;5;250m\u001b[39m\u001b[38;5;124;03m\"\"\"\u001b[39;00m\n\u001b[0;32m    573\u001b[0m \u001b[38;5;124;03mCheck the length of data matches the length of the index.\u001b[39;00m\n\u001b[0;32m    574\u001b[0m \u001b[38;5;124;03m\"\"\"\u001b[39;00m\n\u001b[0;32m    575\u001b[0m \u001b[38;5;28;01mif\u001b[39;00m \u001b[38;5;28mlen\u001b[39m(data) \u001b[38;5;241m!=\u001b[39m \u001b[38;5;28mlen\u001b[39m(index):\n\u001b[1;32m--> 576\u001b[0m     \u001b[38;5;28;01mraise\u001b[39;00m \u001b[38;5;167;01mValueError\u001b[39;00m(\n\u001b[0;32m    577\u001b[0m         \u001b[38;5;124m\"\u001b[39m\u001b[38;5;124mLength of values \u001b[39m\u001b[38;5;124m\"\u001b[39m\n\u001b[0;32m    578\u001b[0m         \u001b[38;5;124mf\u001b[39m\u001b[38;5;124m\"\u001b[39m\u001b[38;5;124m(\u001b[39m\u001b[38;5;132;01m{\u001b[39;00m\u001b[38;5;28mlen\u001b[39m(data)\u001b[38;5;132;01m}\u001b[39;00m\u001b[38;5;124m) \u001b[39m\u001b[38;5;124m\"\u001b[39m\n\u001b[0;32m    579\u001b[0m         \u001b[38;5;124m\"\u001b[39m\u001b[38;5;124mdoes not match length of index \u001b[39m\u001b[38;5;124m\"\u001b[39m\n\u001b[0;32m    580\u001b[0m         \u001b[38;5;124mf\u001b[39m\u001b[38;5;124m\"\u001b[39m\u001b[38;5;124m(\u001b[39m\u001b[38;5;132;01m{\u001b[39;00m\u001b[38;5;28mlen\u001b[39m(index)\u001b[38;5;132;01m}\u001b[39;00m\u001b[38;5;124m)\u001b[39m\u001b[38;5;124m\"\u001b[39m\n\u001b[0;32m    581\u001b[0m     )\n",
      "\u001b[1;31mValueError\u001b[0m: Length of values (5) does not match length of index (6)"
     ]
    }
   ],
   "source": [
    "for i in driver.find_elements(By.XPATH,'/html/body/div[2]/main/div/div[3]/section/div/div[2]/div/ul/li[1]/div[2]/div/div/div[1]/a/h3'):\n",
    "    Name.append(i.text)\n",
    "for i in driver.find_elements(By.XPATH,'/html/body/div[2]/main/div/div[3]/section/div/div[2]/div/ul/li[1]/div[2]/div/div/div[2]/span[1]'):\n",
    "    Year_span.append(i.text)\n",
    "for i in driver.find_elements(By.XPATH,'/html/body/div[2]/main/div/div[3]/section/div/div[2]/div/ul/li[1]/div[2]/div/div/span/span'):\n",
    "    Genre.append(i.text)\n",
    "#for i in driver.find_elements(By.XPATH,''):\n",
    "    #Runtime.append(i.text)\n",
    "for i in driver.find_elements(By.XPATH,'/html/body/div[2]/main/div/div[3]/section/div/div[2]/div/ul/li[1]/div[2]/div/div/span/div/span/span[1]'):\n",
    "    Ratings.append(i.text)\n",
    "for i in driver.find_elements(By.XPATH,'/html/body/div[2]/main/div/div[3]/section/div/div[2]/div/ul/li[1]/div[2]/div/div/span/div/span/span[2]'):\n",
    "    Votes.append(i.text)\n",
    "    \n",
    "most_watch = pd.DataFrame({})\n",
    "most_watch['Name'] = Name\n",
    "most_watch['Year Span'] = Year_span\n",
    "most_watch['Genre'] = Genre\n",
    "#most_watch['Run Time'] = Runtime\n",
    "most_watch['Ratings'] = Ratings\n",
    "most_watch['Votes'] = Votes\n",
    "most_watch"
   ]
  },
  {
   "cell_type": "code",
   "execution_count": null,
   "id": "059189e6",
   "metadata": {},
   "outputs": [],
   "source": []
  },
  {
   "cell_type": "code",
   "execution_count": null,
   "id": "737c3de8",
   "metadata": {},
   "outputs": [],
   "source": []
  },
  {
   "cell_type": "code",
   "execution_count": null,
   "id": "56466696",
   "metadata": {},
   "outputs": [],
   "source": []
  },
  {
   "cell_type": "code",
   "execution_count": null,
   "id": "5cb226f1",
   "metadata": {},
   "outputs": [],
   "source": []
  },
  {
   "cell_type": "markdown",
   "id": "33e1d71a",
   "metadata": {},
   "source": [
    "# answer 8\n",
    "8. Details of Datasets from UCI machine learning repositories. \n",
    "Url = https://archive.ics.uci.edu/ You \n",
    "have to find the following details: \n",
    "A) Dataset name \n",
    "B) Data type \n",
    "C) Task \n",
    "D) Attribute type \n",
    "E) No of instances \n",
    "F) No of attribute G) Year \n",
    " Note: - from the home page you have to go to the Show All Dataset page through code. \n",
    " "
   ]
  },
  {
   "cell_type": "code",
   "execution_count": 46,
   "id": "33b7a4b0",
   "metadata": {},
   "outputs": [],
   "source": [
    "driver = webdriver.Chrome()\n",
    "driver.get(\"https://archive.ics.uci.edu/\")\n",
    "driver.maximize_window()"
   ]
  },
  {
   "cell_type": "code",
   "execution_count": 18,
   "id": "095e2a7a",
   "metadata": {},
   "outputs": [],
   "source": [
    "#view_dataset = driver.find_elements(By.XPATH,'/html/body/div/div[1]/div[1]/main/div/div[1]/div/div/div/a[1]')\n"
   ]
  },
  {
   "cell_type": "code",
   "execution_count": 39,
   "id": "79224780",
   "metadata": {},
   "outputs": [],
   "source": [
    "viewall_dataset = driver.find_elements(By.XPATH,'/html/body/div/div[1]/div[1]/header/nav/ul/li[1]/a')"
   ]
  },
  {
   "cell_type": "code",
   "execution_count": 51,
   "id": "d4c3d0c8",
   "metadata": {},
   "outputs": [
    {
     "ename": "NoSuchElementException",
     "evalue": "Message: no such element: Unable to locate element: {\"method\":\"xpath\",\"selector\":\"/html/body/table[1]/tbody/tr/td[2]/span[2]/a\"}\n  (Session info: chrome=126.0.6478.185); For documentation on this error, please visit: https://www.selenium.dev/documentation/webdriver/troubleshooting/errors#no-such-element-exception\nStacktrace:\n\tGetHandleVerifier [0x00007FF66751EEB2+31554]\n\t(No symbol) [0x00007FF667497EE9]\n\t(No symbol) [0x00007FF66735872A]\n\t(No symbol) [0x00007FF6673A8434]\n\t(No symbol) [0x00007FF6673A853C]\n\t(No symbol) [0x00007FF6673EF6A7]\n\t(No symbol) [0x00007FF6673CD06F]\n\t(No symbol) [0x00007FF6673EC977]\n\t(No symbol) [0x00007FF6673CCDD3]\n\t(No symbol) [0x00007FF66739A33B]\n\t(No symbol) [0x00007FF66739AED1]\n\tGetHandleVerifier [0x00007FF667828B2D+3217341]\n\tGetHandleVerifier [0x00007FF667875AF3+3532675]\n\tGetHandleVerifier [0x00007FF66786B0F0+3489152]\n\tGetHandleVerifier [0x00007FF6675CE786+750614]\n\t(No symbol) [0x00007FF6674A376F]\n\t(No symbol) [0x00007FF66749EB24]\n\t(No symbol) [0x00007FF66749ECB2]\n\t(No symbol) [0x00007FF66748E17F]\n\tBaseThreadInitThunk [0x00007FFCE8AB257D+29]\n\tRtlUserThreadStart [0x00007FFCE9ECAF28+40]\n",
     "output_type": "error",
     "traceback": [
      "\u001b[1;31m---------------------------------------------------------------------------\u001b[0m",
      "\u001b[1;31mNoSuchElementException\u001b[0m                    Traceback (most recent call last)",
      "Cell \u001b[1;32mIn[51], line 1\u001b[0m\n\u001b[1;32m----> 1\u001b[0m view_dataset\u001b[38;5;241m=\u001b[39m driver\u001b[38;5;241m.\u001b[39mfind_element(By\u001b[38;5;241m.\u001b[39mXPATH,\u001b[38;5;124m'\u001b[39m\u001b[38;5;124m/html/body/table[1]/tbody/tr/td[2]/span[2]/a\u001b[39m\u001b[38;5;124m'\u001b[39m)\n\u001b[0;32m      2\u001b[0m view_dataset\u001b[38;5;241m.\u001b[39mclick()\n\u001b[0;32m      3\u001b[0m time\u001b[38;5;241m.\u001b[39msleep(\u001b[38;5;241m4\u001b[39m)\n",
      "File \u001b[1;32m~\\anaconda3\\Lib\\site-packages\\selenium\\webdriver\\remote\\webdriver.py:748\u001b[0m, in \u001b[0;36mWebDriver.find_element\u001b[1;34m(self, by, value)\u001b[0m\n\u001b[0;32m    745\u001b[0m     by \u001b[38;5;241m=\u001b[39m By\u001b[38;5;241m.\u001b[39mCSS_SELECTOR\n\u001b[0;32m    746\u001b[0m     value \u001b[38;5;241m=\u001b[39m \u001b[38;5;124mf\u001b[39m\u001b[38;5;124m'\u001b[39m\u001b[38;5;124m[name=\u001b[39m\u001b[38;5;124m\"\u001b[39m\u001b[38;5;132;01m{\u001b[39;00mvalue\u001b[38;5;132;01m}\u001b[39;00m\u001b[38;5;124m\"\u001b[39m\u001b[38;5;124m]\u001b[39m\u001b[38;5;124m'\u001b[39m\n\u001b[1;32m--> 748\u001b[0m \u001b[38;5;28;01mreturn\u001b[39;00m \u001b[38;5;28mself\u001b[39m\u001b[38;5;241m.\u001b[39mexecute(Command\u001b[38;5;241m.\u001b[39mFIND_ELEMENT, {\u001b[38;5;124m\"\u001b[39m\u001b[38;5;124musing\u001b[39m\u001b[38;5;124m\"\u001b[39m: by, \u001b[38;5;124m\"\u001b[39m\u001b[38;5;124mvalue\u001b[39m\u001b[38;5;124m\"\u001b[39m: value})[\u001b[38;5;124m\"\u001b[39m\u001b[38;5;124mvalue\u001b[39m\u001b[38;5;124m\"\u001b[39m]\n",
      "File \u001b[1;32m~\\anaconda3\\Lib\\site-packages\\selenium\\webdriver\\remote\\webdriver.py:354\u001b[0m, in \u001b[0;36mWebDriver.execute\u001b[1;34m(self, driver_command, params)\u001b[0m\n\u001b[0;32m    352\u001b[0m response \u001b[38;5;241m=\u001b[39m \u001b[38;5;28mself\u001b[39m\u001b[38;5;241m.\u001b[39mcommand_executor\u001b[38;5;241m.\u001b[39mexecute(driver_command, params)\n\u001b[0;32m    353\u001b[0m \u001b[38;5;28;01mif\u001b[39;00m response:\n\u001b[1;32m--> 354\u001b[0m     \u001b[38;5;28mself\u001b[39m\u001b[38;5;241m.\u001b[39merror_handler\u001b[38;5;241m.\u001b[39mcheck_response(response)\n\u001b[0;32m    355\u001b[0m     response[\u001b[38;5;124m\"\u001b[39m\u001b[38;5;124mvalue\u001b[39m\u001b[38;5;124m\"\u001b[39m] \u001b[38;5;241m=\u001b[39m \u001b[38;5;28mself\u001b[39m\u001b[38;5;241m.\u001b[39m_unwrap_value(response\u001b[38;5;241m.\u001b[39mget(\u001b[38;5;124m\"\u001b[39m\u001b[38;5;124mvalue\u001b[39m\u001b[38;5;124m\"\u001b[39m, \u001b[38;5;28;01mNone\u001b[39;00m))\n\u001b[0;32m    356\u001b[0m     \u001b[38;5;28;01mreturn\u001b[39;00m response\n",
      "File \u001b[1;32m~\\anaconda3\\Lib\\site-packages\\selenium\\webdriver\\remote\\errorhandler.py:229\u001b[0m, in \u001b[0;36mErrorHandler.check_response\u001b[1;34m(self, response)\u001b[0m\n\u001b[0;32m    227\u001b[0m         alert_text \u001b[38;5;241m=\u001b[39m value[\u001b[38;5;124m\"\u001b[39m\u001b[38;5;124malert\u001b[39m\u001b[38;5;124m\"\u001b[39m]\u001b[38;5;241m.\u001b[39mget(\u001b[38;5;124m\"\u001b[39m\u001b[38;5;124mtext\u001b[39m\u001b[38;5;124m\"\u001b[39m)\n\u001b[0;32m    228\u001b[0m     \u001b[38;5;28;01mraise\u001b[39;00m exception_class(message, screen, stacktrace, alert_text)  \u001b[38;5;66;03m# type: ignore[call-arg]  # mypy is not smart enough here\u001b[39;00m\n\u001b[1;32m--> 229\u001b[0m \u001b[38;5;28;01mraise\u001b[39;00m exception_class(message, screen, stacktrace)\n",
      "\u001b[1;31mNoSuchElementException\u001b[0m: Message: no such element: Unable to locate element: {\"method\":\"xpath\",\"selector\":\"/html/body/table[1]/tbody/tr/td[2]/span[2]/a\"}\n  (Session info: chrome=126.0.6478.185); For documentation on this error, please visit: https://www.selenium.dev/documentation/webdriver/troubleshooting/errors#no-such-element-exception\nStacktrace:\n\tGetHandleVerifier [0x00007FF66751EEB2+31554]\n\t(No symbol) [0x00007FF667497EE9]\n\t(No symbol) [0x00007FF66735872A]\n\t(No symbol) [0x00007FF6673A8434]\n\t(No symbol) [0x00007FF6673A853C]\n\t(No symbol) [0x00007FF6673EF6A7]\n\t(No symbol) [0x00007FF6673CD06F]\n\t(No symbol) [0x00007FF6673EC977]\n\t(No symbol) [0x00007FF6673CCDD3]\n\t(No symbol) [0x00007FF66739A33B]\n\t(No symbol) [0x00007FF66739AED1]\n\tGetHandleVerifier [0x00007FF667828B2D+3217341]\n\tGetHandleVerifier [0x00007FF667875AF3+3532675]\n\tGetHandleVerifier [0x00007FF66786B0F0+3489152]\n\tGetHandleVerifier [0x00007FF6675CE786+750614]\n\t(No symbol) [0x00007FF6674A376F]\n\t(No symbol) [0x00007FF66749EB24]\n\t(No symbol) [0x00007FF66749ECB2]\n\t(No symbol) [0x00007FF66748E17F]\n\tBaseThreadInitThunk [0x00007FFCE8AB257D+29]\n\tRtlUserThreadStart [0x00007FFCE9ECAF28+40]\n"
     ]
    }
   ],
   "source": [
    "view_dataset= driver.find_element(By.XPATH,'/html/body/table[1]/tbody/tr/td[2]/span[2]/a')\n",
    "view_dataset.click()\n",
    "time.sleep(4)"
   ]
  },
  {
   "cell_type": "code",
   "execution_count": null,
   "id": "39d1a3ff",
   "metadata": {},
   "outputs": [],
   "source": []
  },
  {
   "cell_type": "code",
   "execution_count": null,
   "id": "47fdf3d3",
   "metadata": {},
   "outputs": [],
   "source": []
  }
 ],
 "metadata": {
  "kernelspec": {
   "display_name": "Python 3 (ipykernel)",
   "language": "python",
   "name": "python3"
  },
  "language_info": {
   "codemirror_mode": {
    "name": "ipython",
    "version": 3
   },
   "file_extension": ".py",
   "mimetype": "text/x-python",
   "name": "python",
   "nbconvert_exporter": "python",
   "pygments_lexer": "ipython3",
   "version": "3.11.5"
  }
 },
 "nbformat": 4,
 "nbformat_minor": 5
}
